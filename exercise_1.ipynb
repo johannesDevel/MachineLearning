{
 "cells": [
  {
   "cell_type": "markdown",
   "source": [
    "Group 33: Breitenecker Johannes, Dasovic Ivana, Thurner Lukas\n",
    "\n",
    "# Exercise Nr 1: Classification\n",
    "\n",
    "## Censius dataset\n",
    "\n",
    "## Data preprocessing"
   ],
   "metadata": {
    "collapsed": false,
    "pycharm": {
     "name": "#%% md\n"
    }
   }
  },
  {
   "cell_type": "markdown",
   "source": [
    "### Import libraries"
   ],
   "metadata": {
    "collapsed": false,
    "pycharm": {
     "name": "#%% md\n"
    }
   }
  },
  {
   "cell_type": "code",
   "execution_count": 567,
   "outputs": [],
   "source": [
    "import time\n",
    "\n",
    "import pandas as pd\n",
    "import sklearn.model_selection\n",
    "from sklearn.preprocessing import StandardScaler\n",
    "from sklearn.preprocessing import Normalizer\n",
    "from sklearn.preprocessing import OneHotEncoder\n",
    "from sklearn.neighbors import KNeighborsClassifier\n",
    "from sklearn.model_selection import train_test_split\n",
    "from sklearn.preprocessing import LabelEncoder\n",
    "from scipy.stats import randint\n",
    "import seaborn as sns\n",
    "from sklearn import tree\n",
    "\n",
    "from sklearn.model_selection import cross_val_score\n",
    "from matplotlib import pyplot as plt\n",
    "from sklearn import metrics\n",
    "from sklearn.ensemble import RandomForestClassifier"
   ],
   "metadata": {
    "collapsed": false,
    "pycharm": {
     "name": "#%%\n"
    }
   }
  },
  {
   "cell_type": "markdown",
   "source": [
    "### Select experiment"
   ],
   "metadata": {
    "collapsed": false,
    "pycharm": {
     "name": "#%% md\n"
    }
   }
  },
  {
   "cell_type": "code",
   "execution_count": 643,
   "outputs": [],
   "source": [
    "running_experiment_delete_feature_missing_values = False\n",
    "running_experiment_change_parameter_settings = True"
   ],
   "metadata": {
    "collapsed": false,
    "pycharm": {
     "name": "#%%\n"
    }
   }
  },
  {
   "cell_type": "markdown",
   "source": [
    "### Import dataset"
   ],
   "metadata": {
    "collapsed": false,
    "pycharm": {
     "name": "#%% md\n"
    }
   }
  },
  {
   "cell_type": "code",
   "execution_count": 614,
   "outputs": [],
   "source": [
    "# read in data\n",
    "df_raw_data = pd.read_csv(\"adult.data\",names = [\"age\",\"workclass\",\"fnlwgt\",\"education\",\"education_num\",\"marital_status\",\"occupation\",\"relationship\",\"race\",\"sex\",\"capital_gain\",\"capital_loss\",\"hours_per_week\",\"native_country\",\"income\"], na_values=[' ?'])"
   ],
   "metadata": {
    "collapsed": false,
    "pycharm": {
     "name": "#%%\n"
    }
   }
  },
  {
   "cell_type": "code",
   "execution_count": 615,
   "outputs": [
    {
     "data": {
      "text/plain": "   age          workclass  fnlwgt   education  education_num  \\\n0   39          State-gov   77516   Bachelors             13   \n1   50   Self-emp-not-inc   83311   Bachelors             13   \n2   38            Private  215646     HS-grad              9   \n3   53            Private  234721        11th              7   \n4   28            Private  338409   Bachelors             13   \n\n        marital_status          occupation    relationship    race      sex  \\\n0        Never-married        Adm-clerical   Not-in-family   White     Male   \n1   Married-civ-spouse     Exec-managerial         Husband   White     Male   \n2             Divorced   Handlers-cleaners   Not-in-family   White     Male   \n3   Married-civ-spouse   Handlers-cleaners         Husband   Black     Male   \n4   Married-civ-spouse      Prof-specialty            Wife   Black   Female   \n\n   capital_gain  capital_loss  hours_per_week  native_country  income  \n0          2174             0              40   United-States   <=50K  \n1             0             0              13   United-States   <=50K  \n2             0             0              40   United-States   <=50K  \n3             0             0              40   United-States   <=50K  \n4             0             0              40            Cuba   <=50K  ",
      "text/html": "<div>\n<style scoped>\n    .dataframe tbody tr th:only-of-type {\n        vertical-align: middle;\n    }\n\n    .dataframe tbody tr th {\n        vertical-align: top;\n    }\n\n    .dataframe thead th {\n        text-align: right;\n    }\n</style>\n<table border=\"1\" class=\"dataframe\">\n  <thead>\n    <tr style=\"text-align: right;\">\n      <th></th>\n      <th>age</th>\n      <th>workclass</th>\n      <th>fnlwgt</th>\n      <th>education</th>\n      <th>education_num</th>\n      <th>marital_status</th>\n      <th>occupation</th>\n      <th>relationship</th>\n      <th>race</th>\n      <th>sex</th>\n      <th>capital_gain</th>\n      <th>capital_loss</th>\n      <th>hours_per_week</th>\n      <th>native_country</th>\n      <th>income</th>\n    </tr>\n  </thead>\n  <tbody>\n    <tr>\n      <th>0</th>\n      <td>39</td>\n      <td>State-gov</td>\n      <td>77516</td>\n      <td>Bachelors</td>\n      <td>13</td>\n      <td>Never-married</td>\n      <td>Adm-clerical</td>\n      <td>Not-in-family</td>\n      <td>White</td>\n      <td>Male</td>\n      <td>2174</td>\n      <td>0</td>\n      <td>40</td>\n      <td>United-States</td>\n      <td>&lt;=50K</td>\n    </tr>\n    <tr>\n      <th>1</th>\n      <td>50</td>\n      <td>Self-emp-not-inc</td>\n      <td>83311</td>\n      <td>Bachelors</td>\n      <td>13</td>\n      <td>Married-civ-spouse</td>\n      <td>Exec-managerial</td>\n      <td>Husband</td>\n      <td>White</td>\n      <td>Male</td>\n      <td>0</td>\n      <td>0</td>\n      <td>13</td>\n      <td>United-States</td>\n      <td>&lt;=50K</td>\n    </tr>\n    <tr>\n      <th>2</th>\n      <td>38</td>\n      <td>Private</td>\n      <td>215646</td>\n      <td>HS-grad</td>\n      <td>9</td>\n      <td>Divorced</td>\n      <td>Handlers-cleaners</td>\n      <td>Not-in-family</td>\n      <td>White</td>\n      <td>Male</td>\n      <td>0</td>\n      <td>0</td>\n      <td>40</td>\n      <td>United-States</td>\n      <td>&lt;=50K</td>\n    </tr>\n    <tr>\n      <th>3</th>\n      <td>53</td>\n      <td>Private</td>\n      <td>234721</td>\n      <td>11th</td>\n      <td>7</td>\n      <td>Married-civ-spouse</td>\n      <td>Handlers-cleaners</td>\n      <td>Husband</td>\n      <td>Black</td>\n      <td>Male</td>\n      <td>0</td>\n      <td>0</td>\n      <td>40</td>\n      <td>United-States</td>\n      <td>&lt;=50K</td>\n    </tr>\n    <tr>\n      <th>4</th>\n      <td>28</td>\n      <td>Private</td>\n      <td>338409</td>\n      <td>Bachelors</td>\n      <td>13</td>\n      <td>Married-civ-spouse</td>\n      <td>Prof-specialty</td>\n      <td>Wife</td>\n      <td>Black</td>\n      <td>Female</td>\n      <td>0</td>\n      <td>0</td>\n      <td>40</td>\n      <td>Cuba</td>\n      <td>&lt;=50K</td>\n    </tr>\n  </tbody>\n</table>\n</div>"
     },
     "execution_count": 615,
     "metadata": {},
     "output_type": "execute_result"
    }
   ],
   "source": [
    "# Display for exploring data\n",
    "df_raw_data.head()"
   ],
   "metadata": {
    "collapsed": false,
    "pycharm": {
     "name": "#%%\n"
    }
   }
  },
  {
   "cell_type": "markdown",
   "source": [
    "# Preprocessing"
   ],
   "metadata": {
    "collapsed": false,
    "pycharm": {
     "name": "#%% md\n"
    }
   }
  },
  {
   "cell_type": "markdown",
   "source": [
    "### Exploring data"
   ],
   "metadata": {
    "collapsed": false,
    "pycharm": {
     "name": "#%% md\n"
    }
   }
  },
  {
   "cell_type": "code",
   "execution_count": 616,
   "outputs": [
    {
     "name": "stdout",
     "output_type": "stream",
     "text": [
      "Number of columns is 15 and number of row is 32561\n",
      "Info of the database: \n"
     ]
    },
    {
     "data": {
      "text/plain": "<bound method DataFrame.info of        age          workclass  fnlwgt    education  education_num  \\\n0       39          State-gov   77516    Bachelors             13   \n1       50   Self-emp-not-inc   83311    Bachelors             13   \n2       38            Private  215646      HS-grad              9   \n3       53            Private  234721         11th              7   \n4       28            Private  338409    Bachelors             13   \n...    ...                ...     ...          ...            ...   \n32556   27            Private  257302   Assoc-acdm             12   \n32557   40            Private  154374      HS-grad              9   \n32558   58            Private  151910      HS-grad              9   \n32559   22            Private  201490      HS-grad              9   \n32560   52       Self-emp-inc  287927      HS-grad              9   \n\n            marital_status          occupation    relationship    race  \\\n0            Never-married        Adm-clerical   Not-in-family   White   \n1       Married-civ-spouse     Exec-managerial         Husband   White   \n2                 Divorced   Handlers-cleaners   Not-in-family   White   \n3       Married-civ-spouse   Handlers-cleaners         Husband   Black   \n4       Married-civ-spouse      Prof-specialty            Wife   Black   \n...                    ...                 ...             ...     ...   \n32556   Married-civ-spouse        Tech-support            Wife   White   \n32557   Married-civ-spouse   Machine-op-inspct         Husband   White   \n32558              Widowed        Adm-clerical       Unmarried   White   \n32559        Never-married        Adm-clerical       Own-child   White   \n32560   Married-civ-spouse     Exec-managerial            Wife   White   \n\n           sex  capital_gain  capital_loss  hours_per_week  native_country  \\\n0         Male          2174             0              40   United-States   \n1         Male             0             0              13   United-States   \n2         Male             0             0              40   United-States   \n3         Male             0             0              40   United-States   \n4       Female             0             0              40            Cuba   \n...        ...           ...           ...             ...             ...   \n32556   Female             0             0              38   United-States   \n32557     Male             0             0              40   United-States   \n32558   Female             0             0              40   United-States   \n32559     Male             0             0              20   United-States   \n32560   Female         15024             0              40   United-States   \n\n       income  \n0       <=50K  \n1       <=50K  \n2       <=50K  \n3       <=50K  \n4       <=50K  \n...       ...  \n32556   <=50K  \n32557    >50K  \n32558   <=50K  \n32559   <=50K  \n32560    >50K  \n\n[32561 rows x 15 columns]>"
     },
     "execution_count": 616,
     "metadata": {},
     "output_type": "execute_result"
    }
   ],
   "source": [
    "# Exploring data\n",
    "num_rows, num_cols = df_raw_data.shape\n",
    "print(f'Number of columns is {num_cols} and number of row is {num_rows}')\n",
    "print('Info of the database: ')\n",
    "df_raw_data.info"
   ],
   "metadata": {
    "collapsed": false,
    "pycharm": {
     "name": "#%%\n"
    }
   }
  },
  {
   "cell_type": "markdown",
   "source": [
    "### Missing values"
   ],
   "metadata": {
    "collapsed": false,
    "pycharm": {
     "name": "#%% md\n"
    }
   }
  },
  {
   "cell_type": "code",
   "execution_count": 617,
   "outputs": [
    {
     "data": {
      "text/plain": "age                  0\nworkclass         1836\nfnlwgt               0\neducation            0\neducation_num        0\nmarital_status       0\noccupation        1843\nrelationship         0\nrace                 0\nsex                  0\ncapital_gain         0\ncapital_loss         0\nhours_per_week       0\nnative_country     583\nincome               0\ndtype: int64"
     },
     "execution_count": 617,
     "metadata": {},
     "output_type": "execute_result"
    }
   ],
   "source": [
    "# checking missing values\n",
    "# TODO it was tricky to find out that missing value is ' ?' instead of '?'\n",
    "df_raw_data.isnull().sum()"
   ],
   "metadata": {
    "collapsed": false,
    "pycharm": {
     "name": "#%%\n"
    }
   }
  },
  {
   "cell_type": "code",
   "execution_count": 618,
   "outputs": [],
   "source": [
    "# delete observations with missing values\n",
    "if running_experiment_delete_feature_missing_values is False:\n",
    "    df_delete_missing_values = df_raw_data.dropna()\n",
    "    df_delete_missing_values.isnull().sum()"
   ],
   "metadata": {
    "collapsed": false,
    "pycharm": {
     "name": "#%%\n"
    }
   }
  },
  {
   "cell_type": "markdown",
   "source": [
    "### Preparing numeric data"
   ],
   "metadata": {
    "collapsed": false,
    "pycharm": {
     "name": "#%% md\n"
    }
   }
  },
  {
   "cell_type": "code",
   "execution_count": 619,
   "outputs": [],
   "source": [
    "# separate numerical data\n",
    "df_numeric = df_delete_missing_values[['age', 'fnlwgt', 'education_num', 'capital_gain', 'capital_loss', 'hours_per_week']].copy()"
   ],
   "metadata": {
    "collapsed": false,
    "pycharm": {
     "name": "#%%\n"
    }
   }
  },
  {
   "cell_type": "code",
   "execution_count": 620,
   "outputs": [
    {
     "data": {
      "text/plain": "                age        fnlwgt  education_num  capital_gain  capital_loss  \\\ncount  3.016200e+04  3.016200e+04   3.016200e+04  3.016200e+04  3.016200e+04   \nmean   1.535952e-16  1.684365e-17  -3.053058e-16 -2.720897e-17  7.703318e-17   \nstd    1.000017e+00  1.000017e+00   1.000017e+00  1.000017e+00  1.000017e+00   \nmin   -1.632189e+00 -1.666094e+00  -3.577051e+00 -1.474446e-01 -2.185860e-01   \n25%   -7.946967e-01 -6.830644e-01  -4.397382e-01 -1.474446e-01 -2.185860e-01   \n50%   -1.094756e-01 -1.076072e-01  -4.757405e-02 -1.474446e-01 -2.185860e-01   \n75%    6.518811e-01  4.527602e-01   1.128918e+00 -1.474446e-01 -2.185860e-01   \nmax    3.925715e+00  1.225647e+01   2.305411e+00  1.335458e+01  1.055581e+01   \n\n       hours_per_week  \ncount    3.016200e+04  \nmean    -2.833973e-16  \nstd      1.000017e+00  \nmin     -3.333218e+00  \n25%     -7.773411e-02  \n50%     -7.773411e-02  \n75%      3.396356e-01  \nmax      4.847229e+00  ",
      "text/html": "<div>\n<style scoped>\n    .dataframe tbody tr th:only-of-type {\n        vertical-align: middle;\n    }\n\n    .dataframe tbody tr th {\n        vertical-align: top;\n    }\n\n    .dataframe thead th {\n        text-align: right;\n    }\n</style>\n<table border=\"1\" class=\"dataframe\">\n  <thead>\n    <tr style=\"text-align: right;\">\n      <th></th>\n      <th>age</th>\n      <th>fnlwgt</th>\n      <th>education_num</th>\n      <th>capital_gain</th>\n      <th>capital_loss</th>\n      <th>hours_per_week</th>\n    </tr>\n  </thead>\n  <tbody>\n    <tr>\n      <th>count</th>\n      <td>3.016200e+04</td>\n      <td>3.016200e+04</td>\n      <td>3.016200e+04</td>\n      <td>3.016200e+04</td>\n      <td>3.016200e+04</td>\n      <td>3.016200e+04</td>\n    </tr>\n    <tr>\n      <th>mean</th>\n      <td>1.535952e-16</td>\n      <td>1.684365e-17</td>\n      <td>-3.053058e-16</td>\n      <td>-2.720897e-17</td>\n      <td>7.703318e-17</td>\n      <td>-2.833973e-16</td>\n    </tr>\n    <tr>\n      <th>std</th>\n      <td>1.000017e+00</td>\n      <td>1.000017e+00</td>\n      <td>1.000017e+00</td>\n      <td>1.000017e+00</td>\n      <td>1.000017e+00</td>\n      <td>1.000017e+00</td>\n    </tr>\n    <tr>\n      <th>min</th>\n      <td>-1.632189e+00</td>\n      <td>-1.666094e+00</td>\n      <td>-3.577051e+00</td>\n      <td>-1.474446e-01</td>\n      <td>-2.185860e-01</td>\n      <td>-3.333218e+00</td>\n    </tr>\n    <tr>\n      <th>25%</th>\n      <td>-7.946967e-01</td>\n      <td>-6.830644e-01</td>\n      <td>-4.397382e-01</td>\n      <td>-1.474446e-01</td>\n      <td>-2.185860e-01</td>\n      <td>-7.773411e-02</td>\n    </tr>\n    <tr>\n      <th>50%</th>\n      <td>-1.094756e-01</td>\n      <td>-1.076072e-01</td>\n      <td>-4.757405e-02</td>\n      <td>-1.474446e-01</td>\n      <td>-2.185860e-01</td>\n      <td>-7.773411e-02</td>\n    </tr>\n    <tr>\n      <th>75%</th>\n      <td>6.518811e-01</td>\n      <td>4.527602e-01</td>\n      <td>1.128918e+00</td>\n      <td>-1.474446e-01</td>\n      <td>-2.185860e-01</td>\n      <td>3.396356e-01</td>\n    </tr>\n    <tr>\n      <th>max</th>\n      <td>3.925715e+00</td>\n      <td>1.225647e+01</td>\n      <td>2.305411e+00</td>\n      <td>1.335458e+01</td>\n      <td>1.055581e+01</td>\n      <td>4.847229e+00</td>\n    </tr>\n  </tbody>\n</table>\n</div>"
     },
     "execution_count": 620,
     "metadata": {},
     "output_type": "execute_result"
    }
   ],
   "source": [
    "# standardization of numeric values\n",
    "scaler = StandardScaler()\n",
    "df_numeric_sc = pd.DataFrame(scaler.fit_transform(df_numeric))\n",
    "df_numeric_sc.rename(mapper=dict(zip(df_numeric_sc.columns, df_numeric.columns)), axis=1, inplace=True)\n",
    "df_numeric_sc.describe()"
   ],
   "metadata": {
    "collapsed": false,
    "pycharm": {
     "name": "#%%\n"
    }
   }
  },
  {
   "cell_type": "code",
   "execution_count": 621,
   "outputs": [
    {
     "data": {
      "text/plain": "                age        fnlwgt  education_num  capital_gain  capital_loss  \\\ncount  30162.000000  30162.000000   30162.000000  30162.000000  30162.000000   \nmean       0.000306      0.998779       0.000080      0.007164      0.000701   \nstd        0.000307      0.016927       0.000076      0.045646      0.004274   \nmin        0.000017      0.246804       0.000002      0.000000      0.000000   \n25%        0.000136      1.000000       0.000040      0.000000      0.000000   \n50%        0.000213      1.000000       0.000057      0.000000      0.000000   \n75%        0.000347      1.000000       0.000087      0.000000      0.000000   \nmax        0.003980      1.000000       0.001008      0.969065      0.094350   \n\n       hours_per_week  \ncount    30162.000000  \nmean         0.000326  \nstd          0.000327  \nmin          0.000004  \n25%          0.000157  \n50%          0.000227  \n75%          0.000352  \nmax          0.004177  ",
      "text/html": "<div>\n<style scoped>\n    .dataframe tbody tr th:only-of-type {\n        vertical-align: middle;\n    }\n\n    .dataframe tbody tr th {\n        vertical-align: top;\n    }\n\n    .dataframe thead th {\n        text-align: right;\n    }\n</style>\n<table border=\"1\" class=\"dataframe\">\n  <thead>\n    <tr style=\"text-align: right;\">\n      <th></th>\n      <th>age</th>\n      <th>fnlwgt</th>\n      <th>education_num</th>\n      <th>capital_gain</th>\n      <th>capital_loss</th>\n      <th>hours_per_week</th>\n    </tr>\n  </thead>\n  <tbody>\n    <tr>\n      <th>count</th>\n      <td>30162.000000</td>\n      <td>30162.000000</td>\n      <td>30162.000000</td>\n      <td>30162.000000</td>\n      <td>30162.000000</td>\n      <td>30162.000000</td>\n    </tr>\n    <tr>\n      <th>mean</th>\n      <td>0.000306</td>\n      <td>0.998779</td>\n      <td>0.000080</td>\n      <td>0.007164</td>\n      <td>0.000701</td>\n      <td>0.000326</td>\n    </tr>\n    <tr>\n      <th>std</th>\n      <td>0.000307</td>\n      <td>0.016927</td>\n      <td>0.000076</td>\n      <td>0.045646</td>\n      <td>0.004274</td>\n      <td>0.000327</td>\n    </tr>\n    <tr>\n      <th>min</th>\n      <td>0.000017</td>\n      <td>0.246804</td>\n      <td>0.000002</td>\n      <td>0.000000</td>\n      <td>0.000000</td>\n      <td>0.000004</td>\n    </tr>\n    <tr>\n      <th>25%</th>\n      <td>0.000136</td>\n      <td>1.000000</td>\n      <td>0.000040</td>\n      <td>0.000000</td>\n      <td>0.000000</td>\n      <td>0.000157</td>\n    </tr>\n    <tr>\n      <th>50%</th>\n      <td>0.000213</td>\n      <td>1.000000</td>\n      <td>0.000057</td>\n      <td>0.000000</td>\n      <td>0.000000</td>\n      <td>0.000227</td>\n    </tr>\n    <tr>\n      <th>75%</th>\n      <td>0.000347</td>\n      <td>1.000000</td>\n      <td>0.000087</td>\n      <td>0.000000</td>\n      <td>0.000000</td>\n      <td>0.000352</td>\n    </tr>\n    <tr>\n      <th>max</th>\n      <td>0.003980</td>\n      <td>1.000000</td>\n      <td>0.001008</td>\n      <td>0.969065</td>\n      <td>0.094350</td>\n      <td>0.004177</td>\n    </tr>\n  </tbody>\n</table>\n</div>"
     },
     "execution_count": 621,
     "metadata": {},
     "output_type": "execute_result"
    }
   ],
   "source": [
    "# normalize numeric data\n",
    "normal = Normalizer()\n",
    "df_numeric_nrm = pd.DataFrame(normal.fit_transform(df_numeric))\n",
    "df_numeric_nrm.rename(mapper=dict(zip(df_numeric_nrm.columns, df_numeric)), axis=1, inplace=True)\n",
    "df_numeric_nrm.describe()"
   ],
   "metadata": {
    "collapsed": false,
    "pycharm": {
     "name": "#%%\n"
    }
   }
  },
  {
   "cell_type": "markdown",
   "source": [
    "### Preparing categorical data"
   ],
   "metadata": {
    "collapsed": false,
    "pycharm": {
     "name": "#%% md\n"
    }
   }
  },
  {
   "cell_type": "code",
   "execution_count": 622,
   "outputs": [],
   "source": [
    "# create dataframe for categorical data\n",
    "if running_experiment_delete_feature_missing_values is False:\n",
    "    df_cat = df_delete_missing_values[['workclass', 'education', 'marital_status', 'occupation', 'relationship', 'race', 'sex', 'native_country', 'income']].copy()\n",
    "else:\n",
    "    df_cat = df_delete_missing_values[['education', 'marital_status', 'relationship', 'race', 'sex', 'income']].copy()"
   ],
   "metadata": {
    "collapsed": false,
    "pycharm": {
     "name": "#%%\n"
    }
   }
  },
  {
   "cell_type": "code",
   "execution_count": 623,
   "outputs": [
    {
     "ename": "KeyError",
     "evalue": "'workclass'",
     "output_type": "error",
     "traceback": [
      "\u001B[0;31m---------------------------------------------------------------------------\u001B[0m",
      "\u001B[0;31mKeyError\u001B[0m                                  Traceback (most recent call last)",
      "File \u001B[0;32m/usr/local/lib/python3.9/site-packages/pandas/core/indexes/base.py:3621\u001B[0m, in \u001B[0;36mIndex.get_loc\u001B[0;34m(self, key, method, tolerance)\u001B[0m\n\u001B[1;32m   3620\u001B[0m \u001B[38;5;28;01mtry\u001B[39;00m:\n\u001B[0;32m-> 3621\u001B[0m     \u001B[38;5;28;01mreturn\u001B[39;00m \u001B[38;5;28;43mself\u001B[39;49m\u001B[38;5;241;43m.\u001B[39;49m\u001B[43m_engine\u001B[49m\u001B[38;5;241;43m.\u001B[39;49m\u001B[43mget_loc\u001B[49m\u001B[43m(\u001B[49m\u001B[43mcasted_key\u001B[49m\u001B[43m)\u001B[49m\n\u001B[1;32m   3622\u001B[0m \u001B[38;5;28;01mexcept\u001B[39;00m \u001B[38;5;167;01mKeyError\u001B[39;00m \u001B[38;5;28;01mas\u001B[39;00m err:\n",
      "File \u001B[0;32m/usr/local/lib/python3.9/site-packages/pandas/_libs/index.pyx:136\u001B[0m, in \u001B[0;36mpandas._libs.index.IndexEngine.get_loc\u001B[0;34m()\u001B[0m\n",
      "File \u001B[0;32m/usr/local/lib/python3.9/site-packages/pandas/_libs/index.pyx:163\u001B[0m, in \u001B[0;36mpandas._libs.index.IndexEngine.get_loc\u001B[0;34m()\u001B[0m\n",
      "File \u001B[0;32mpandas/_libs/hashtable_class_helper.pxi:5198\u001B[0m, in \u001B[0;36mpandas._libs.hashtable.PyObjectHashTable.get_item\u001B[0;34m()\u001B[0m\n",
      "File \u001B[0;32mpandas/_libs/hashtable_class_helper.pxi:5206\u001B[0m, in \u001B[0;36mpandas._libs.hashtable.PyObjectHashTable.get_item\u001B[0;34m()\u001B[0m\n",
      "\u001B[0;31mKeyError\u001B[0m: 'workclass'",
      "\nThe above exception was the direct cause of the following exception:\n",
      "\u001B[0;31mKeyError\u001B[0m                                  Traceback (most recent call last)",
      "Cell \u001B[0;32mIn[623], line 2\u001B[0m\n\u001B[1;32m      1\u001B[0m \u001B[38;5;66;03m# check how many work-classes exists. If there are more than two different values One-Hot-Encoding is used, otherwise Label-Encoding\u001B[39;00m\n\u001B[0;32m----> 2\u001B[0m \u001B[43mdf_cat\u001B[49m\u001B[43m[\u001B[49m\u001B[38;5;124;43m'\u001B[39;49m\u001B[38;5;124;43mworkclass\u001B[39;49m\u001B[38;5;124;43m'\u001B[39;49m\u001B[43m]\u001B[49m\u001B[38;5;241m.\u001B[39munique()\n",
      "File \u001B[0;32m/usr/local/lib/python3.9/site-packages/pandas/core/frame.py:3505\u001B[0m, in \u001B[0;36mDataFrame.__getitem__\u001B[0;34m(self, key)\u001B[0m\n\u001B[1;32m   3503\u001B[0m \u001B[38;5;28;01mif\u001B[39;00m \u001B[38;5;28mself\u001B[39m\u001B[38;5;241m.\u001B[39mcolumns\u001B[38;5;241m.\u001B[39mnlevels \u001B[38;5;241m>\u001B[39m \u001B[38;5;241m1\u001B[39m:\n\u001B[1;32m   3504\u001B[0m     \u001B[38;5;28;01mreturn\u001B[39;00m \u001B[38;5;28mself\u001B[39m\u001B[38;5;241m.\u001B[39m_getitem_multilevel(key)\n\u001B[0;32m-> 3505\u001B[0m indexer \u001B[38;5;241m=\u001B[39m \u001B[38;5;28;43mself\u001B[39;49m\u001B[38;5;241;43m.\u001B[39;49m\u001B[43mcolumns\u001B[49m\u001B[38;5;241;43m.\u001B[39;49m\u001B[43mget_loc\u001B[49m\u001B[43m(\u001B[49m\u001B[43mkey\u001B[49m\u001B[43m)\u001B[49m\n\u001B[1;32m   3506\u001B[0m \u001B[38;5;28;01mif\u001B[39;00m is_integer(indexer):\n\u001B[1;32m   3507\u001B[0m     indexer \u001B[38;5;241m=\u001B[39m [indexer]\n",
      "File \u001B[0;32m/usr/local/lib/python3.9/site-packages/pandas/core/indexes/base.py:3623\u001B[0m, in \u001B[0;36mIndex.get_loc\u001B[0;34m(self, key, method, tolerance)\u001B[0m\n\u001B[1;32m   3621\u001B[0m     \u001B[38;5;28;01mreturn\u001B[39;00m \u001B[38;5;28mself\u001B[39m\u001B[38;5;241m.\u001B[39m_engine\u001B[38;5;241m.\u001B[39mget_loc(casted_key)\n\u001B[1;32m   3622\u001B[0m \u001B[38;5;28;01mexcept\u001B[39;00m \u001B[38;5;167;01mKeyError\u001B[39;00m \u001B[38;5;28;01mas\u001B[39;00m err:\n\u001B[0;32m-> 3623\u001B[0m     \u001B[38;5;28;01mraise\u001B[39;00m \u001B[38;5;167;01mKeyError\u001B[39;00m(key) \u001B[38;5;28;01mfrom\u001B[39;00m \u001B[38;5;21;01merr\u001B[39;00m\n\u001B[1;32m   3624\u001B[0m \u001B[38;5;28;01mexcept\u001B[39;00m \u001B[38;5;167;01mTypeError\u001B[39;00m:\n\u001B[1;32m   3625\u001B[0m     \u001B[38;5;66;03m# If we have a listlike key, _check_indexing_error will raise\u001B[39;00m\n\u001B[1;32m   3626\u001B[0m     \u001B[38;5;66;03m#  InvalidIndexError. Otherwise we fall through and re-raise\u001B[39;00m\n\u001B[1;32m   3627\u001B[0m     \u001B[38;5;66;03m#  the TypeError.\u001B[39;00m\n\u001B[1;32m   3628\u001B[0m     \u001B[38;5;28mself\u001B[39m\u001B[38;5;241m.\u001B[39m_check_indexing_error(key)\n",
      "\u001B[0;31mKeyError\u001B[0m: 'workclass'"
     ]
    }
   ],
   "source": [
    "# check how many work-classes exists. If there are more than two different values One-Hot-Encoding is used, otherwise Label-Encoding\n",
    "df_cat['workclass'].unique()"
   ],
   "metadata": {
    "collapsed": false,
    "pycharm": {
     "name": "#%%\n"
    }
   }
  },
  {
   "cell_type": "code",
   "execution_count": 624,
   "outputs": [
    {
     "data": {
      "text/plain": "array([' Bachelors', ' HS-grad', ' 11th', ' Masters', ' 9th',\n       ' Some-college', ' Assoc-acdm', ' 7th-8th', ' Doctorate',\n       ' Assoc-voc', ' Prof-school', ' 5th-6th', ' 10th', ' Preschool',\n       ' 12th', ' 1st-4th'], dtype=object)"
     },
     "execution_count": 624,
     "metadata": {},
     "output_type": "execute_result"
    }
   ],
   "source": [
    "df_cat['education'].unique()"
   ],
   "metadata": {
    "collapsed": false,
    "pycharm": {
     "name": "#%%\n"
    }
   }
  },
  {
   "cell_type": "code",
   "execution_count": 625,
   "outputs": [
    {
     "data": {
      "text/plain": "array([' Never-married', ' Married-civ-spouse', ' Divorced',\n       ' Married-spouse-absent', ' Separated', ' Married-AF-spouse',\n       ' Widowed'], dtype=object)"
     },
     "execution_count": 625,
     "metadata": {},
     "output_type": "execute_result"
    }
   ],
   "source": [
    "df_cat['marital_status'].unique()"
   ],
   "metadata": {
    "collapsed": false,
    "pycharm": {
     "name": "#%%\n"
    }
   }
  },
  {
   "cell_type": "code",
   "execution_count": 626,
   "outputs": [
    {
     "ename": "KeyError",
     "evalue": "'occupation'",
     "output_type": "error",
     "traceback": [
      "\u001B[0;31m---------------------------------------------------------------------------\u001B[0m",
      "\u001B[0;31mKeyError\u001B[0m                                  Traceback (most recent call last)",
      "File \u001B[0;32m/usr/local/lib/python3.9/site-packages/pandas/core/indexes/base.py:3621\u001B[0m, in \u001B[0;36mIndex.get_loc\u001B[0;34m(self, key, method, tolerance)\u001B[0m\n\u001B[1;32m   3620\u001B[0m \u001B[38;5;28;01mtry\u001B[39;00m:\n\u001B[0;32m-> 3621\u001B[0m     \u001B[38;5;28;01mreturn\u001B[39;00m \u001B[38;5;28;43mself\u001B[39;49m\u001B[38;5;241;43m.\u001B[39;49m\u001B[43m_engine\u001B[49m\u001B[38;5;241;43m.\u001B[39;49m\u001B[43mget_loc\u001B[49m\u001B[43m(\u001B[49m\u001B[43mcasted_key\u001B[49m\u001B[43m)\u001B[49m\n\u001B[1;32m   3622\u001B[0m \u001B[38;5;28;01mexcept\u001B[39;00m \u001B[38;5;167;01mKeyError\u001B[39;00m \u001B[38;5;28;01mas\u001B[39;00m err:\n",
      "File \u001B[0;32m/usr/local/lib/python3.9/site-packages/pandas/_libs/index.pyx:136\u001B[0m, in \u001B[0;36mpandas._libs.index.IndexEngine.get_loc\u001B[0;34m()\u001B[0m\n",
      "File \u001B[0;32m/usr/local/lib/python3.9/site-packages/pandas/_libs/index.pyx:163\u001B[0m, in \u001B[0;36mpandas._libs.index.IndexEngine.get_loc\u001B[0;34m()\u001B[0m\n",
      "File \u001B[0;32mpandas/_libs/hashtable_class_helper.pxi:5198\u001B[0m, in \u001B[0;36mpandas._libs.hashtable.PyObjectHashTable.get_item\u001B[0;34m()\u001B[0m\n",
      "File \u001B[0;32mpandas/_libs/hashtable_class_helper.pxi:5206\u001B[0m, in \u001B[0;36mpandas._libs.hashtable.PyObjectHashTable.get_item\u001B[0;34m()\u001B[0m\n",
      "\u001B[0;31mKeyError\u001B[0m: 'occupation'",
      "\nThe above exception was the direct cause of the following exception:\n",
      "\u001B[0;31mKeyError\u001B[0m                                  Traceback (most recent call last)",
      "Cell \u001B[0;32mIn[626], line 1\u001B[0m\n\u001B[0;32m----> 1\u001B[0m \u001B[43mdf_cat\u001B[49m\u001B[43m[\u001B[49m\u001B[38;5;124;43m'\u001B[39;49m\u001B[38;5;124;43moccupation\u001B[39;49m\u001B[38;5;124;43m'\u001B[39;49m\u001B[43m]\u001B[49m\u001B[38;5;241m.\u001B[39munique()\n",
      "File \u001B[0;32m/usr/local/lib/python3.9/site-packages/pandas/core/frame.py:3505\u001B[0m, in \u001B[0;36mDataFrame.__getitem__\u001B[0;34m(self, key)\u001B[0m\n\u001B[1;32m   3503\u001B[0m \u001B[38;5;28;01mif\u001B[39;00m \u001B[38;5;28mself\u001B[39m\u001B[38;5;241m.\u001B[39mcolumns\u001B[38;5;241m.\u001B[39mnlevels \u001B[38;5;241m>\u001B[39m \u001B[38;5;241m1\u001B[39m:\n\u001B[1;32m   3504\u001B[0m     \u001B[38;5;28;01mreturn\u001B[39;00m \u001B[38;5;28mself\u001B[39m\u001B[38;5;241m.\u001B[39m_getitem_multilevel(key)\n\u001B[0;32m-> 3505\u001B[0m indexer \u001B[38;5;241m=\u001B[39m \u001B[38;5;28;43mself\u001B[39;49m\u001B[38;5;241;43m.\u001B[39;49m\u001B[43mcolumns\u001B[49m\u001B[38;5;241;43m.\u001B[39;49m\u001B[43mget_loc\u001B[49m\u001B[43m(\u001B[49m\u001B[43mkey\u001B[49m\u001B[43m)\u001B[49m\n\u001B[1;32m   3506\u001B[0m \u001B[38;5;28;01mif\u001B[39;00m is_integer(indexer):\n\u001B[1;32m   3507\u001B[0m     indexer \u001B[38;5;241m=\u001B[39m [indexer]\n",
      "File \u001B[0;32m/usr/local/lib/python3.9/site-packages/pandas/core/indexes/base.py:3623\u001B[0m, in \u001B[0;36mIndex.get_loc\u001B[0;34m(self, key, method, tolerance)\u001B[0m\n\u001B[1;32m   3621\u001B[0m     \u001B[38;5;28;01mreturn\u001B[39;00m \u001B[38;5;28mself\u001B[39m\u001B[38;5;241m.\u001B[39m_engine\u001B[38;5;241m.\u001B[39mget_loc(casted_key)\n\u001B[1;32m   3622\u001B[0m \u001B[38;5;28;01mexcept\u001B[39;00m \u001B[38;5;167;01mKeyError\u001B[39;00m \u001B[38;5;28;01mas\u001B[39;00m err:\n\u001B[0;32m-> 3623\u001B[0m     \u001B[38;5;28;01mraise\u001B[39;00m \u001B[38;5;167;01mKeyError\u001B[39;00m(key) \u001B[38;5;28;01mfrom\u001B[39;00m \u001B[38;5;21;01merr\u001B[39;00m\n\u001B[1;32m   3624\u001B[0m \u001B[38;5;28;01mexcept\u001B[39;00m \u001B[38;5;167;01mTypeError\u001B[39;00m:\n\u001B[1;32m   3625\u001B[0m     \u001B[38;5;66;03m# If we have a listlike key, _check_indexing_error will raise\u001B[39;00m\n\u001B[1;32m   3626\u001B[0m     \u001B[38;5;66;03m#  InvalidIndexError. Otherwise we fall through and re-raise\u001B[39;00m\n\u001B[1;32m   3627\u001B[0m     \u001B[38;5;66;03m#  the TypeError.\u001B[39;00m\n\u001B[1;32m   3628\u001B[0m     \u001B[38;5;28mself\u001B[39m\u001B[38;5;241m.\u001B[39m_check_indexing_error(key)\n",
      "\u001B[0;31mKeyError\u001B[0m: 'occupation'"
     ]
    }
   ],
   "source": [
    "df_cat['occupation'].unique()"
   ],
   "metadata": {
    "collapsed": false,
    "pycharm": {
     "name": "#%%\n"
    }
   }
  },
  {
   "cell_type": "code",
   "execution_count": 627,
   "outputs": [
    {
     "data": {
      "text/plain": "array([' Not-in-family', ' Husband', ' Wife', ' Own-child', ' Unmarried',\n       ' Other-relative'], dtype=object)"
     },
     "execution_count": 627,
     "metadata": {},
     "output_type": "execute_result"
    }
   ],
   "source": [
    "df_cat['relationship'].unique()"
   ],
   "metadata": {
    "collapsed": false,
    "pycharm": {
     "name": "#%%\n"
    }
   }
  },
  {
   "cell_type": "code",
   "execution_count": 628,
   "outputs": [
    {
     "data": {
      "text/plain": "array([' White', ' Black', ' Asian-Pac-Islander', ' Amer-Indian-Eskimo',\n       ' Other'], dtype=object)"
     },
     "execution_count": 628,
     "metadata": {},
     "output_type": "execute_result"
    }
   ],
   "source": [
    "df_cat['race'].unique()"
   ],
   "metadata": {
    "collapsed": false,
    "pycharm": {
     "name": "#%%\n"
    }
   }
  },
  {
   "cell_type": "code",
   "execution_count": 629,
   "outputs": [
    {
     "ename": "KeyError",
     "evalue": "'native_country'",
     "output_type": "error",
     "traceback": [
      "\u001B[0;31m---------------------------------------------------------------------------\u001B[0m",
      "\u001B[0;31mKeyError\u001B[0m                                  Traceback (most recent call last)",
      "File \u001B[0;32m/usr/local/lib/python3.9/site-packages/pandas/core/indexes/base.py:3621\u001B[0m, in \u001B[0;36mIndex.get_loc\u001B[0;34m(self, key, method, tolerance)\u001B[0m\n\u001B[1;32m   3620\u001B[0m \u001B[38;5;28;01mtry\u001B[39;00m:\n\u001B[0;32m-> 3621\u001B[0m     \u001B[38;5;28;01mreturn\u001B[39;00m \u001B[38;5;28;43mself\u001B[39;49m\u001B[38;5;241;43m.\u001B[39;49m\u001B[43m_engine\u001B[49m\u001B[38;5;241;43m.\u001B[39;49m\u001B[43mget_loc\u001B[49m\u001B[43m(\u001B[49m\u001B[43mcasted_key\u001B[49m\u001B[43m)\u001B[49m\n\u001B[1;32m   3622\u001B[0m \u001B[38;5;28;01mexcept\u001B[39;00m \u001B[38;5;167;01mKeyError\u001B[39;00m \u001B[38;5;28;01mas\u001B[39;00m err:\n",
      "File \u001B[0;32m/usr/local/lib/python3.9/site-packages/pandas/_libs/index.pyx:136\u001B[0m, in \u001B[0;36mpandas._libs.index.IndexEngine.get_loc\u001B[0;34m()\u001B[0m\n",
      "File \u001B[0;32m/usr/local/lib/python3.9/site-packages/pandas/_libs/index.pyx:163\u001B[0m, in \u001B[0;36mpandas._libs.index.IndexEngine.get_loc\u001B[0;34m()\u001B[0m\n",
      "File \u001B[0;32mpandas/_libs/hashtable_class_helper.pxi:5198\u001B[0m, in \u001B[0;36mpandas._libs.hashtable.PyObjectHashTable.get_item\u001B[0;34m()\u001B[0m\n",
      "File \u001B[0;32mpandas/_libs/hashtable_class_helper.pxi:5206\u001B[0m, in \u001B[0;36mpandas._libs.hashtable.PyObjectHashTable.get_item\u001B[0;34m()\u001B[0m\n",
      "\u001B[0;31mKeyError\u001B[0m: 'native_country'",
      "\nThe above exception was the direct cause of the following exception:\n",
      "\u001B[0;31mKeyError\u001B[0m                                  Traceback (most recent call last)",
      "Cell \u001B[0;32mIn[629], line 1\u001B[0m\n\u001B[0;32m----> 1\u001B[0m \u001B[43mdf_cat\u001B[49m\u001B[43m[\u001B[49m\u001B[38;5;124;43m'\u001B[39;49m\u001B[38;5;124;43mnative_country\u001B[39;49m\u001B[38;5;124;43m'\u001B[39;49m\u001B[43m]\u001B[49m\u001B[38;5;241m.\u001B[39munique()\n",
      "File \u001B[0;32m/usr/local/lib/python3.9/site-packages/pandas/core/frame.py:3505\u001B[0m, in \u001B[0;36mDataFrame.__getitem__\u001B[0;34m(self, key)\u001B[0m\n\u001B[1;32m   3503\u001B[0m \u001B[38;5;28;01mif\u001B[39;00m \u001B[38;5;28mself\u001B[39m\u001B[38;5;241m.\u001B[39mcolumns\u001B[38;5;241m.\u001B[39mnlevels \u001B[38;5;241m>\u001B[39m \u001B[38;5;241m1\u001B[39m:\n\u001B[1;32m   3504\u001B[0m     \u001B[38;5;28;01mreturn\u001B[39;00m \u001B[38;5;28mself\u001B[39m\u001B[38;5;241m.\u001B[39m_getitem_multilevel(key)\n\u001B[0;32m-> 3505\u001B[0m indexer \u001B[38;5;241m=\u001B[39m \u001B[38;5;28;43mself\u001B[39;49m\u001B[38;5;241;43m.\u001B[39;49m\u001B[43mcolumns\u001B[49m\u001B[38;5;241;43m.\u001B[39;49m\u001B[43mget_loc\u001B[49m\u001B[43m(\u001B[49m\u001B[43mkey\u001B[49m\u001B[43m)\u001B[49m\n\u001B[1;32m   3506\u001B[0m \u001B[38;5;28;01mif\u001B[39;00m is_integer(indexer):\n\u001B[1;32m   3507\u001B[0m     indexer \u001B[38;5;241m=\u001B[39m [indexer]\n",
      "File \u001B[0;32m/usr/local/lib/python3.9/site-packages/pandas/core/indexes/base.py:3623\u001B[0m, in \u001B[0;36mIndex.get_loc\u001B[0;34m(self, key, method, tolerance)\u001B[0m\n\u001B[1;32m   3621\u001B[0m     \u001B[38;5;28;01mreturn\u001B[39;00m \u001B[38;5;28mself\u001B[39m\u001B[38;5;241m.\u001B[39m_engine\u001B[38;5;241m.\u001B[39mget_loc(casted_key)\n\u001B[1;32m   3622\u001B[0m \u001B[38;5;28;01mexcept\u001B[39;00m \u001B[38;5;167;01mKeyError\u001B[39;00m \u001B[38;5;28;01mas\u001B[39;00m err:\n\u001B[0;32m-> 3623\u001B[0m     \u001B[38;5;28;01mraise\u001B[39;00m \u001B[38;5;167;01mKeyError\u001B[39;00m(key) \u001B[38;5;28;01mfrom\u001B[39;00m \u001B[38;5;21;01merr\u001B[39;00m\n\u001B[1;32m   3624\u001B[0m \u001B[38;5;28;01mexcept\u001B[39;00m \u001B[38;5;167;01mTypeError\u001B[39;00m:\n\u001B[1;32m   3625\u001B[0m     \u001B[38;5;66;03m# If we have a listlike key, _check_indexing_error will raise\u001B[39;00m\n\u001B[1;32m   3626\u001B[0m     \u001B[38;5;66;03m#  InvalidIndexError. Otherwise we fall through and re-raise\u001B[39;00m\n\u001B[1;32m   3627\u001B[0m     \u001B[38;5;66;03m#  the TypeError.\u001B[39;00m\n\u001B[1;32m   3628\u001B[0m     \u001B[38;5;28mself\u001B[39m\u001B[38;5;241m.\u001B[39m_check_indexing_error(key)\n",
      "\u001B[0;31mKeyError\u001B[0m: 'native_country'"
     ]
    }
   ],
   "source": [
    "df_cat['native_country'].unique()"
   ],
   "metadata": {
    "collapsed": false,
    "pycharm": {
     "name": "#%%\n"
    }
   }
  },
  {
   "cell_type": "code",
   "execution_count": 630,
   "outputs": [
    {
     "data": {
      "text/plain": "array([' Male', ' Female'], dtype=object)"
     },
     "execution_count": 630,
     "metadata": {},
     "output_type": "execute_result"
    }
   ],
   "source": [
    "df_cat['sex'].unique()"
   ],
   "metadata": {
    "collapsed": false,
    "pycharm": {
     "name": "#%%\n"
    }
   }
  },
  {
   "cell_type": "code",
   "execution_count": 631,
   "outputs": [
    {
     "data": {
      "text/plain": "array([' <=50K', ' >50K'], dtype=object)"
     },
     "execution_count": 631,
     "metadata": {},
     "output_type": "execute_result"
    }
   ],
   "source": [
    "df_cat['income'].unique()"
   ],
   "metadata": {
    "collapsed": false,
    "pycharm": {
     "name": "#%%\n"
    }
   }
  },
  {
   "cell_type": "code",
   "execution_count": 632,
   "outputs": [
    {
     "name": "stdout",
     "output_type": "stream",
     "text": [
      "<class 'pandas.core.frame.DataFrame'>\n",
      "RangeIndex: 30162 entries, 0 to 30161\n",
      "Data columns (total 83 columns):\n",
      " #   Column                                      Non-Null Count  Dtype  \n",
      "---  ------                                      --------------  -----  \n",
      " 0   age                                         30162 non-null  float64\n",
      " 1   fnlwgt                                      30162 non-null  float64\n",
      " 2   education_num                               30162 non-null  float64\n",
      " 3   capital_gain                                30162 non-null  float64\n",
      " 4   capital_loss                                30162 non-null  float64\n",
      " 5   hours_per_week                              30162 non-null  float64\n",
      " 6   sex_encode                                  30162 non-null  int64  \n",
      " 7   income_encode                               30162 non-null  int64  \n",
      " 8   education_ 10th                             30162 non-null  float64\n",
      " 9   education_ 11th                             30162 non-null  float64\n",
      " 10  education_ 12th                             30162 non-null  float64\n",
      " 11  education_ 1st-4th                          30162 non-null  float64\n",
      " 12  education_ 5th-6th                          30162 non-null  float64\n",
      " 13  education_ 7th-8th                          30162 non-null  float64\n",
      " 14  education_ 9th                              30162 non-null  float64\n",
      " 15  education_ Assoc-acdm                       30162 non-null  float64\n",
      " 16  education_ Assoc-voc                        30162 non-null  float64\n",
      " 17  education_ Bachelors                        30162 non-null  float64\n",
      " 18  education_ Doctorate                        30162 non-null  float64\n",
      " 19  education_ HS-grad                          30162 non-null  float64\n",
      " 20  education_ Masters                          30162 non-null  float64\n",
      " 21  education_ Preschool                        30162 non-null  float64\n",
      " 22  education_ Prof-school                      30162 non-null  float64\n",
      " 23  education_ Some-college                     30162 non-null  float64\n",
      " 24  marital_status_ Divorced                    30162 non-null  float64\n",
      " 25  marital_status_ Married-AF-spouse           30162 non-null  float64\n",
      " 26  marital_status_ Married-civ-spouse          30162 non-null  float64\n",
      " 27  marital_status_ Married-spouse-absent       30162 non-null  float64\n",
      " 28  marital_status_ Never-married               30162 non-null  float64\n",
      " 29  marital_status_ Separated                   30162 non-null  float64\n",
      " 30  marital_status_ Widowed                     30162 non-null  float64\n",
      " 31  relationship_ Husband                       30162 non-null  float64\n",
      " 32  relationship_ Not-in-family                 30162 non-null  float64\n",
      " 33  relationship_ Other-relative                30162 non-null  float64\n",
      " 34  relationship_ Own-child                     30162 non-null  float64\n",
      " 35  relationship_ Unmarried                     30162 non-null  float64\n",
      " 36  relationship_ Wife                          30162 non-null  float64\n",
      " 37  race_ Amer-Indian-Eskimo                    30162 non-null  float64\n",
      " 38  race_ Asian-Pac-Islander                    30162 non-null  float64\n",
      " 39  race_ Black                                 30162 non-null  float64\n",
      " 40  race_ Other                                 30162 non-null  float64\n",
      " 41  race_ White                                 30162 non-null  float64\n",
      " 42  native_country_ Cambodia                    30162 non-null  float64\n",
      " 43  native_country_ Canada                      30162 non-null  float64\n",
      " 44  native_country_ China                       30162 non-null  float64\n",
      " 45  native_country_ Columbia                    30162 non-null  float64\n",
      " 46  native_country_ Cuba                        30162 non-null  float64\n",
      " 47  native_country_ Dominican-Republic          30162 non-null  float64\n",
      " 48  native_country_ Ecuador                     30162 non-null  float64\n",
      " 49  native_country_ El-Salvador                 30162 non-null  float64\n",
      " 50  native_country_ England                     30162 non-null  float64\n",
      " 51  native_country_ France                      30162 non-null  float64\n",
      " 52  native_country_ Germany                     30162 non-null  float64\n",
      " 53  native_country_ Greece                      30162 non-null  float64\n",
      " 54  native_country_ Guatemala                   30162 non-null  float64\n",
      " 55  native_country_ Haiti                       30162 non-null  float64\n",
      " 56  native_country_ Holand-Netherlands          30162 non-null  float64\n",
      " 57  native_country_ Honduras                    30162 non-null  float64\n",
      " 58  native_country_ Hong                        30162 non-null  float64\n",
      " 59  native_country_ Hungary                     30162 non-null  float64\n",
      " 60  native_country_ India                       30162 non-null  float64\n",
      " 61  native_country_ Iran                        30162 non-null  float64\n",
      " 62  native_country_ Ireland                     30162 non-null  float64\n",
      " 63  native_country_ Italy                       30162 non-null  float64\n",
      " 64  native_country_ Jamaica                     30162 non-null  float64\n",
      " 65  native_country_ Japan                       30162 non-null  float64\n",
      " 66  native_country_ Laos                        30162 non-null  float64\n",
      " 67  native_country_ Mexico                      30162 non-null  float64\n",
      " 68  native_country_ Nicaragua                   30162 non-null  float64\n",
      " 69  native_country_ Outlying-US(Guam-USVI-etc)  30162 non-null  float64\n",
      " 70  native_country_ Peru                        30162 non-null  float64\n",
      " 71  native_country_ Philippines                 30162 non-null  float64\n",
      " 72  native_country_ Poland                      30162 non-null  float64\n",
      " 73  native_country_ Portugal                    30162 non-null  float64\n",
      " 74  native_country_ Puerto-Rico                 30162 non-null  float64\n",
      " 75  native_country_ Scotland                    30162 non-null  float64\n",
      " 76  native_country_ South                       30162 non-null  float64\n",
      " 77  native_country_ Taiwan                      30162 non-null  float64\n",
      " 78  native_country_ Thailand                    30162 non-null  float64\n",
      " 79  native_country_ Trinadad&Tobago             30162 non-null  float64\n",
      " 80  native_country_ United-States               30162 non-null  float64\n",
      " 81  native_country_ Vietnam                     30162 non-null  float64\n",
      " 82  native_country_ Yugoslavia                  30162 non-null  float64\n",
      "dtypes: float64(81), int64(2)\n",
      "memory usage: 19.1 MB\n"
     ]
    }
   ],
   "source": [
    "# because income has also only two entries -> use LabelEncoder\n",
    "lbencod_sex = LabelEncoder()\n",
    "lbencod_income = LabelEncoder()\n",
    "\n",
    "df_encode = pd.DataFrame()\n",
    "df_encode['sex_encode'] = pd.DataFrame(lbencod_sex.fit_transform(df_cat['sex']))\n",
    "df_encode['income_encode'] = pd.DataFrame(lbencod_income.fit_transform(df_cat['income']))\n",
    "\n",
    "if running_experiment_delete_feature_missing_values is False:\n",
    "    onehotenc_workclass = OneHotEncoder(categories='auto', sparse_output=False)\n",
    "    census_onehot_workclass = pd.DataFrame(onehotenc_workclass.fit_transform(df_delete_missing_values[['workclass']]))\n",
    "    census_onehot_workclass.columns = onehotenc_workclass.get_feature_names_out()\n",
    "\n",
    "    onehotenc_native_country = OneHotEncoder(categories='auto', sparse_output=False)\n",
    "    census_onehot_country = pd.DataFrame(onehotenc_native_country.fit_transform(df_delete_missing_values[['native_country']]))\n",
    "    census_onehot_country.columns = onehotenc_native_country.get_feature_names_out()\n",
    "\n",
    "    onehotenc_occupation = OneHotEncoder(categories='auto', sparse_output=False)\n",
    "    census_onehot_occupation = pd.DataFrame(onehotenc_occupation.fit_transform(df_delete_missing_values[['occupation']]))\n",
    "    census_onehot_occupation.columns = onehotenc_occupation.get_feature_names_out()\n",
    "\n",
    "onehotenc_education = OneHotEncoder(categories='auto', sparse_output=False)\n",
    "census_onehot_education = pd.DataFrame(onehotenc_education.fit_transform(df_delete_missing_values[['education']]))\n",
    "census_onehot_education.columns = onehotenc_education.get_feature_names_out()\n",
    "\n",
    "onehotenc_marital_status = OneHotEncoder(categories='auto', sparse_output=False)\n",
    "census_onehot_marital = pd.DataFrame(onehotenc_marital_status.fit_transform(df_delete_missing_values[['marital_status']]))\n",
    "census_onehot_marital.columns = onehotenc_marital_status.get_feature_names_out()\n",
    "\n",
    "onehotenc_relationship = OneHotEncoder(categories='auto', sparse_output=False)\n",
    "census_onehot_relationship = pd.DataFrame(onehotenc_relationship.fit_transform(df_delete_missing_values[['relationship']]))\n",
    "census_onehot_relationship.columns = onehotenc_relationship.get_feature_names_out()\n",
    "\n",
    "onehotenc_race = OneHotEncoder(categories='auto', sparse_output=False)\n",
    "census_onehot_race = pd.DataFrame(onehotenc_race.fit_transform(df_delete_missing_values[['race']]))\n",
    "census_onehot_race.columns = onehotenc_race.get_feature_names_out()\n",
    "\n",
    "\n",
    "\n",
    "# concat all one-hot categories\n",
    "census_onehot = pd.concat([census_onehot_education, census_onehot_marital], axis=1)\n",
    "census_onehot = pd.concat([census_onehot, census_onehot_relationship], axis=1)\n",
    "census_onehot = pd.concat([census_onehot, census_onehot_race], axis=1)\n",
    "census_onehot = pd.concat([census_onehot, census_onehot_country], axis=1)\n",
    "\n",
    "if running_experiment_delete_feature_missing_values is False:\n",
    "    census_onehot = pd.concat([census_onehot,census_onehot_workclass], axis=1)\n",
    "    census_onehot = pd.concat([census_onehot,census_onehot_occupation], axis=1)\n",
    "    census_onehot = pd.concat([census_onehot,census_onehot_country], axis=1)\n",
    "\n",
    "# concat one-hot with label encode dataframes\n",
    "df_encode = pd.concat([df_encode, census_onehot], axis=1)\n",
    "\n",
    "# concat categories with normalized numeric dataframes\n",
    "df_encode = pd.concat([df_numeric_nrm, df_encode], axis=1)\n",
    "\n",
    "df_encode.info()"
   ],
   "metadata": {
    "collapsed": false,
    "pycharm": {
     "name": "#%%\n"
    }
   }
  },
  {
   "cell_type": "markdown",
   "source": [
    "### init list for collecting best models"
   ],
   "metadata": {
    "collapsed": false,
    "pycharm": {
     "name": "#%% md\n"
    }
   }
  },
  {
   "cell_type": "code",
   "execution_count": 633,
   "outputs": [],
   "source": [
    "# list is needed at the evaluation section.\n",
    "best_models = {}"
   ],
   "metadata": {
    "collapsed": false,
    "pycharm": {
     "name": "#%%\n"
    }
   }
  },
  {
   "cell_type": "markdown",
   "source": [
    "### Splitting dataset into train and test data"
   ],
   "metadata": {
    "collapsed": false,
    "pycharm": {
     "name": "#%% md\n"
    }
   }
  },
  {
   "cell_type": "code",
   "execution_count": 664,
   "outputs": [],
   "source": [
    "# create array with columns indices to set x-features and y-features\n",
    "# for this dataset we want to predict the sex and the income from the other features\n",
    "ar_1 = list(range(0, 6))\n",
    "ar_2 = list(range(8, len(df_encode.columns) - 1))\n",
    "ar = ar_1 + ar_2\n",
    "X = df_encode.iloc[:, ar]\n",
    "y = df_encode.iloc[:, [6, 7]]\n",
    "\n",
    "# split data into training and test set\n",
    "if running_experiment_change_parameter_settings is False:\n",
    "    X_training, X_test, y_training, y_test = train_test_split(X, y, train_size=0.70)\n",
    "else:\n",
    "    #X_training, X_test, y_training, y_test = train_test_split(X, y, train_size=0.10)\n",
    "    #X_training, X_test, y_training, y_test = train_test_split(X, y, train_size=0.90)\n",
    "    #X_training, X_test, y_training, y_test = train_test_split(X, y, train_size=0.99)\n",
    "    X_training, X_test, y_training, y_test = train_test_split(X, y, train_size=0.1)\n"
   ],
   "metadata": {
    "collapsed": false,
    "pycharm": {
     "name": "#%%\n"
    }
   }
  },
  {
   "cell_type": "code",
   "execution_count": 651,
   "outputs": [
    {
     "data": {
      "text/plain": "       sex_encode  income_encode\n25553           1              0\n25365           1              1\n20259           1              0\n6973            1              1\n13354           1              0",
      "text/html": "<div>\n<style scoped>\n    .dataframe tbody tr th:only-of-type {\n        vertical-align: middle;\n    }\n\n    .dataframe tbody tr th {\n        vertical-align: top;\n    }\n\n    .dataframe thead th {\n        text-align: right;\n    }\n</style>\n<table border=\"1\" class=\"dataframe\">\n  <thead>\n    <tr style=\"text-align: right;\">\n      <th></th>\n      <th>sex_encode</th>\n      <th>income_encode</th>\n    </tr>\n  </thead>\n  <tbody>\n    <tr>\n      <th>25553</th>\n      <td>1</td>\n      <td>0</td>\n    </tr>\n    <tr>\n      <th>25365</th>\n      <td>1</td>\n      <td>1</td>\n    </tr>\n    <tr>\n      <th>20259</th>\n      <td>1</td>\n      <td>0</td>\n    </tr>\n    <tr>\n      <th>6973</th>\n      <td>1</td>\n      <td>1</td>\n    </tr>\n    <tr>\n      <th>13354</th>\n      <td>1</td>\n      <td>0</td>\n    </tr>\n  </tbody>\n</table>\n</div>"
     },
     "execution_count": 651,
     "metadata": {},
     "output_type": "execute_result"
    }
   ],
   "source": [
    "y_test.head()"
   ],
   "metadata": {
    "collapsed": false,
    "pycharm": {
     "name": "#%%\n"
    }
   }
  },
  {
   "cell_type": "code",
   "execution_count": 652,
   "outputs": [
    {
     "data": {
      "text/plain": "       sex_encode  income_encode\n20476           1              0\n13541           1              0\n13419           1              0\n3678            0              0\n128             1              0",
      "text/html": "<div>\n<style scoped>\n    .dataframe tbody tr th:only-of-type {\n        vertical-align: middle;\n    }\n\n    .dataframe tbody tr th {\n        vertical-align: top;\n    }\n\n    .dataframe thead th {\n        text-align: right;\n    }\n</style>\n<table border=\"1\" class=\"dataframe\">\n  <thead>\n    <tr style=\"text-align: right;\">\n      <th></th>\n      <th>sex_encode</th>\n      <th>income_encode</th>\n    </tr>\n  </thead>\n  <tbody>\n    <tr>\n      <th>20476</th>\n      <td>1</td>\n      <td>0</td>\n    </tr>\n    <tr>\n      <th>13541</th>\n      <td>1</td>\n      <td>0</td>\n    </tr>\n    <tr>\n      <th>13419</th>\n      <td>1</td>\n      <td>0</td>\n    </tr>\n    <tr>\n      <th>3678</th>\n      <td>0</td>\n      <td>0</td>\n    </tr>\n    <tr>\n      <th>128</th>\n      <td>1</td>\n      <td>0</td>\n    </tr>\n  </tbody>\n</table>\n</div>"
     },
     "execution_count": 652,
     "metadata": {},
     "output_type": "execute_result"
    }
   ],
   "source": [
    "y_training.head()"
   ],
   "metadata": {
    "collapsed": false,
    "pycharm": {
     "name": "#%%\n"
    }
   }
  },
  {
   "cell_type": "markdown",
   "source": [
    "## Classifier Nr.: 1 decision tree"
   ],
   "metadata": {
    "collapsed": false,
    "pycharm": {
     "name": "#%% md\n"
    }
   }
  },
  {
   "cell_type": "code",
   "execution_count": 637,
   "outputs": [],
   "source": [
    "decision_tree = tree.DecisionTreeClassifier()\n",
    "parameters = {'criterion': ['entropy', 'gini'],\n",
    "              'splitter': ['best', 'random'],\n",
    "              'max_depth': randint(1, 500),\n",
    "              'min_samples_split': randint(2, 1000)}"
   ],
   "metadata": {
    "collapsed": false,
    "pycharm": {
     "name": "#%%\n"
    }
   }
  },
  {
   "cell_type": "markdown",
   "source": [
    "### Finding the best decision tree"
   ],
   "metadata": {
    "collapsed": false,
    "pycharm": {
     "name": "#%% md\n"
    }
   }
  },
  {
   "cell_type": "code",
   "execution_count": 638,
   "outputs": [
    {
     "name": "stdout",
     "output_type": "stream",
     "text": [
      " Results from Random Search CV\n",
      "\n",
      " The best estimator across searched params:\n",
      " DecisionTreeClassifier(max_depth=213, min_samples_split=453)\n",
      "\n",
      " The best score across searched params:\n",
      " 0.6445325181752091\n",
      "\n",
      " The best parameters across searched params:\n",
      " {'criterion': 'gini', 'max_depth': 213, 'min_samples_split': 453, 'splitter': 'best'}\n",
      "\n",
      " The best cross validation strategy:\n",
      " 5\n"
     ]
    }
   ],
   "source": [
    "best_decision_tree = sklearn.model_selection.RandomizedSearchCV(estimator = decision_tree, param_distributions = parameters, cv = 5, n_iter = 50)\n",
    "best_decision_tree.fit(X_training, y_training)\n",
    "\n",
    "print(\" Results from Random Search CV\" )\n",
    "print(\"\\n The best estimator across searched params:\\n\", best_decision_tree.best_estimator_)\n",
    "print(\"\\n The best score across searched params:\\n\", best_decision_tree.best_score_)\n",
    "print(\"\\n The best parameters across searched params:\\n\", best_decision_tree.best_params_)\n",
    "print(\"\\n The best cross validation strategy:\\n\", best_decision_tree.cv)"
   ],
   "metadata": {
    "collapsed": false,
    "pycharm": {
     "name": "#%%\n"
    }
   }
  },
  {
   "cell_type": "markdown",
   "source": [
    "### Train and predict"
   ],
   "metadata": {
    "collapsed": false,
    "pycharm": {
     "name": "#%% md\n"
    }
   }
  },
  {
   "cell_type": "code",
   "execution_count": 639,
   "outputs": [
    {
     "name": "stdout",
     "output_type": "stream",
     "text": [
      "--- runtime --- 0.2118070125579834\n",
      "time for fitting: 0.20482516288757324\n",
      "time for prediction: 0.006981849670410156\n"
     ]
    }
   ],
   "source": [
    "start_time = time.time()\n",
    "best_dt_model = best_decision_tree.best_estimator_\n",
    "best_dt_model = best_dt_model.fit(X_training,y_training)\n",
    "finished_time_fitting = time.time()\n",
    "best_dt_prediction = best_dt_model.predict(X_test)\n",
    "finished_time_prediction = time.time()\n",
    "print(\"--- runtime ---\" , (finished_time_prediction - start_time))\n",
    "print(f\"time for fitting: {finished_time_fitting - start_time}\")\n",
    "print(f\"time for prediction: {finished_time_prediction - finished_time_fitting}\")\n",
    "best_models['decision_tree'] = best_dt_model"
   ],
   "metadata": {
    "collapsed": false,
    "pycharm": {
     "name": "#%%\n"
    }
   }
  },
  {
   "cell_type": "markdown",
   "source": [
    "### Inverse transform y - features"
   ],
   "metadata": {
    "collapsed": false,
    "pycharm": {
     "name": "#%% md\n"
    }
   }
  },
  {
   "cell_type": "code",
   "execution_count": 640,
   "outputs": [],
   "source": [
    "y_best_dt_prediction_sex = lbencod_sex.inverse_transform(best_dt_prediction.transpose()[0])\n",
    "y_test_sex = lbencod_sex.inverse_transform(y_test['sex_encode'])\n",
    "y_best_dt_prediction_income = lbencod_income.inverse_transform(best_dt_prediction.transpose()[1])\n",
    "y_test_income = lbencod_income.inverse_transform(y_test['income_encode'])"
   ],
   "metadata": {
    "collapsed": false,
    "pycharm": {
     "name": "#%%\n"
    }
   }
  },
  {
   "cell_type": "code",
   "execution_count": 641,
   "outputs": [
    {
     "data": {
      "text/plain": "<Figure size 640x480 with 2 Axes>",
      "image/png": "[encoded data removed]"
     },
     "metadata": {},
     "output_type": "display_data"
    },
    {
     "data": {
      "text/plain": "<Figure size 640x480 with 2 Axes>",
      "image/png": "[encoded data removed]"
     },
     "metadata": {},
     "output_type": "display_data"
    },
    {
     "name": "stdout",
     "output_type": "stream",
     "text": [
      "accuracy: 0.6417283677754448\n",
      "precision: 0.795638483700007\n",
      "recall: 0.7909516380655226\n",
      "F1: 0.7905502768204601\n",
      "Cross validated scores: [0.63580393 0.63911911 0.64338148 0.64779725 0.65632402]\n"
     ]
    }
   ],
   "source": [
    "best_dt_cm = metrics.confusion_matrix(y_best_dt_prediction_sex, y_test_sex)\n",
    "sns.heatmap(best_dt_cm, annot=True, cmap='Blues', fmt='d')\n",
    "plt.xlabel('Predicted labels')\n",
    "plt.ylabel('True labels')\n",
    "plt.title('Confusion Matrix - sex')\n",
    "plt.show()\n",
    "\n",
    "\n",
    "best_dt_cm = metrics.confusion_matrix(y_best_dt_prediction_income, y_test_income)\n",
    "sns.heatmap(best_dt_cm, annot=True, cmap='Blues', fmt='d')\n",
    "plt.xlabel('Predicted labels')\n",
    "plt.ylabel('True labels')\n",
    "plt.title('Confusion Matrix - income')\n",
    "plt.show()\n",
    "\n",
    "\n",
    "print(\"accuracy:\",metrics.accuracy_score(y_test,best_dt_prediction))\n",
    "print(\"precision:\",metrics.precision_score(y_test,best_dt_prediction, average='weighted'))\n",
    "print(\"recall:\",metrics.recall_score(y_test,best_dt_prediction, average='weighted'))\n",
    "print(\"F1:\",metrics.f1_score(y_test,best_dt_prediction, average='weighted'))\n",
    "\n",
    "cv_scores = cross_val_score(best_dt_model,X_training,y_training,cv=5)\n",
    "print(\"Cross validated scores:\",cv_scores)"
   ],
   "metadata": {
    "collapsed": false,
    "pycharm": {
     "name": "#%%\n"
    }
   }
  },
  {
   "cell_type": "code",
   "execution_count": 597,
   "outputs": [
    {
     "data": {
      "text/plain": "[Text(0.7154480317679558, 0.9848484848484849, 'x[29] <= 0.5\\ngini = 0.404\\nsamples = 21113\\nvalue = [[6866, 14247]\\n[15946, 5167]]'),\n Text(0.5983684392265194, 0.9545454545454546, 'x[34] <= 0.5\\ngini = 0.339\\nsamples = 12476\\nvalue = [[6865, 5611]\\n[11211, 1265]]'),\n Text(0.522703729281768, 0.9242424242424242, 'x[33] <= 0.5\\ngini = 0.313\\nsamples = 11502\\nvalue = [[5891, 5611]\\n[10729, 773]]'),\n Text(0.4266229281767956, 0.8939393939393939, 'x[90] <= 0.5\\ngini = 0.312\\nsamples = 9228\\nvalue = [[4141, 5087]\\n[8592, 636]]'),\n Text(0.3449585635359116, 0.8636363636363636, 'x[88] <= 0.5\\ngini = 0.315\\nsamples = 8315\\nvalue = [[4066, 4249]\\n[7732, 583]]'),\n Text(0.2921270718232044, 0.8333333333333334, 'x[3] <= 0.029\\ngini = 0.319\\nsamples = 6900\\nvalue = [[3033, 3867]\\n[6357, 543]]'),\n Text(0.28107734806629836, 0.803030303030303, 'x[93] <= 0.5\\ngini = 0.304\\nsamples = 6712\\nvalue = [[2959, 3753]\\n[6302, 410]]'),\n Text(0.24171270718232044, 0.7727272727272727, 'x[101] <= 0.5\\ngini = 0.311\\nsamples = 6132\\nvalue = [[2891, 3241]\\n[5728, 404]]'),\n Text(0.23066298342541436, 0.7424242424242424, 'x[92] <= 0.5\\ngini = 0.313\\nsamples = 5784\\nvalue = [[2856, 2928]\\n[5394, 390]]'),\n Text(0.21961325966850828, 0.7121212121212122, 'x[28] <= 0.5\\ngini = 0.315\\nsamples = 5529\\nvalue = [[2833, 2696]\\n[5144, 385]]'),\n Text(0.2085635359116022, 0.6818181818181818, 'x[98] <= 0.5\\ngini = 0.314\\nsamples = 5311\\nvalue = [[2650, 2661]\\n[4946, 365]]'),\n Text(0.19751381215469613, 0.6515151515151515, 'x[94] <= 0.5\\ngini = 0.313\\nsamples = 5149\\nvalue = [[2620, 2529]\\n[4803, 346]]'),\n Text(0.1298342541436464, 0.6212121212121212, 'x[30] <= 0.5\\ngini = 0.318\\nsamples = 4617\\nvalue = [[2422, 2195]\\n[4275, 342]]'),\n Text(0.06077348066298342, 0.5909090909090909, 'x[2] <= 0.0\\ngini = 0.262\\nsamples = 1842\\nvalue = [[997, 845]\\n[1817, 25]]'),\n Text(0.049723756906077346, 0.5606060606060606, 'gini = 0.246\\nsamples = 145\\nvalue = [[53, 92]\\n[143, 2]]'),\n Text(0.0718232044198895, 0.5606060606060606, 'x[5] <= 0.0\\ngini = 0.26\\nsamples = 1697\\nvalue = [[944, 753]\\n[1674, 23]]'),\n Text(0.04419889502762431, 0.5303030303030303, 'x[26] <= 0.5\\ngini = 0.246\\nsamples = 1149\\nvalue = [[675, 474]\\n[1145, 4]]'),\n Text(0.03314917127071823, 0.5, 'gini = 0.212\\nsamples = 120\\nvalue = [[88, 32]\\n[118, 2]]'),\n Text(0.055248618784530384, 0.5, 'x[84] <= 0.5\\ngini = 0.247\\nsamples = 1029\\nvalue = [[587, 442]\\n[1027, 2]]'),\n Text(0.04419889502762431, 0.4696969696969697, 'x[95] <= 0.5\\ngini = 0.246\\nsamples = 1018\\nvalue = [[586, 432]\\n[1016, 2]]'),\n Text(0.022099447513812154, 0.4393939393939394, 'x[0] <= 0.0\\ngini = 0.241\\nsamples = 595\\nvalue = [[364, 231]\\n[593, 2]]'),\n Text(0.011049723756906077, 0.4090909090909091, 'gini = 0.204\\nsamples = 21\\nvalue = [[6, 15]\\n[21, 0]]'),\n Text(0.03314917127071823, 0.4090909090909091, 'x[0] <= 0.0\\ngini = 0.238\\nsamples = 574\\nvalue = [[358, 216]\\n[572, 2]]'),\n Text(0.022099447513812154, 0.3787878787878788, 'gini = 0.211\\nsamples = 232\\nvalue = [[164, 68]\\n[231, 1]]'),\n Text(0.04419889502762431, 0.3787878787878788, 'gini = 0.248\\nsamples = 342\\nvalue = [[194, 148]\\n[341, 1]]'),\n Text(0.06629834254143646, 0.4393939393939394, 'x[0] <= 0.0\\ngini = 0.249\\nsamples = 423\\nvalue = [[222, 201]\\n[423, 0]]'),\n Text(0.055248618784530384, 0.4090909090909091, 'gini = 0.244\\nsamples = 116\\nvalue = [[49, 67]\\n[116, 0]]'),\n Text(0.07734806629834254, 0.4090909090909091, 'gini = 0.246\\nsamples = 307\\nvalue = [[173, 134]\\n[307, 0]]'),\n Text(0.06629834254143646, 0.4696969696969697, 'gini = 0.083\\nsamples = 11\\nvalue = [[1, 10]\\n[11, 0]]'),\n Text(0.09944751381215469, 0.5303030303030303, 'x[0] <= 0.0\\ngini = 0.283\\nsamples = 548\\nvalue = [[269, 279]\\n[529, 19]]'),\n Text(0.08839779005524862, 0.5, 'gini = 0.236\\nsamples = 93\\nvalue = [[29, 64]\\n[91, 2]]'),\n Text(0.11049723756906077, 0.5, 'x[24] <= 0.5\\ngini = 0.285\\nsamples = 455\\nvalue = [[240, 215]\\n[438, 17]]'),\n Text(0.09944751381215469, 0.4696969696969697, 'x[5] <= 0.0\\ngini = 0.273\\nsamples = 434\\nvalue = [[233, 201]\\n[423, 11]]'),\n Text(0.08839779005524862, 0.4393939393939394, 'gini = 0.268\\nsamples = 158\\nvalue = [[97, 61]\\n[153, 5]]'),\n Text(0.11049723756906077, 0.4393939393939394, 'gini = 0.271\\nsamples = 276\\nvalue = [[136, 140]\\n[270, 6]]'),\n Text(0.12154696132596685, 0.4696969696969697, 'gini = 0.426\\nsamples = 21\\nvalue = [[7, 14]\\n[15, 6]]'),\n Text(0.19889502762430938, 0.5909090909090909, 'x[95] <= 0.5\\ngini = 0.351\\nsamples = 2775\\nvalue = [[1425, 1350]\\n[2458, 317]]'),\n Text(0.17679558011049723, 0.5606060606060606, 'x[96] <= 0.5\\ngini = 0.372\\nsamples = 2154\\nvalue = [[1071, 1083]\\n[1847, 307]]'),\n Text(0.16574585635359115, 0.5303030303030303, 'x[16] <= 0.5\\ngini = 0.374\\nsamples = 2115\\nvalue = [[1034, 1081]\\n[1808, 307]]'),\n Text(0.15469613259668508, 0.5, 'x[82] <= 0.5\\ngini = 0.367\\nsamples = 2067\\nvalue = [[1011, 1056]\\n[1786, 281]]'),\n Text(0.143646408839779, 0.4696969696969697, 'x[20] <= 0.5\\ngini = 0.368\\nsamples = 1905\\nvalue = [[901, 1004]\\n[1644, 261]]'),\n Text(0.13259668508287292, 0.4393939393939394, 'x[22] <= 0.5\\ngini = 0.361\\nsamples = 1851\\nvalue = [[878, 973]\\n[1615, 236]]'),\n Text(0.11049723756906077, 0.4090909090909091, 'x[18] <= 0.5\\ngini = 0.344\\nsamples = 1309\\nvalue = [[584, 725]\\n[1167, 142]]'),\n Text(0.09944751381215469, 0.3787878787878788, 'x[85] <= 0.5\\ngini = 0.33\\nsamples = 1149\\nvalue = [[514, 635]\\n[1045, 104]]'),\n Text(0.08839779005524862, 0.3484848484848485, 'x[2] <= 0.0\\ngini = 0.329\\nsamples = 1087\\nvalue = [[499, 588]\\n[991, 96]]'),\n Text(0.07734806629834254, 0.3181818181818182, 'x[5] <= 0.0\\ngini = 0.334\\nsamples = 770\\nvalue = [[332, 438]\\n[694, 76]]'),\n Text(0.06629834254143646, 0.2878787878787879, 'x[4] <= 0.013\\ngini = 0.323\\nsamples = 635\\nvalue = [[291, 344]\\n[583, 52]]'),\n Text(0.055248618784530384, 0.25757575757575757, 'x[0] <= 0.0\\ngini = 0.321\\nsamples = 633\\nvalue = [[291, 342]\\n[583, 50]]'),\n Text(0.04419889502762431, 0.22727272727272727, 'x[83] <= 0.5\\ngini = 0.303\\nsamples = 477\\nvalue = [[207, 270]\\n[448, 29]]'),\n Text(0.03314917127071823, 0.19696969696969696, 'gini = 0.231\\nsamples = 46\\nvalue = [[10, 36]\\n[43, 3]]'),\n Text(0.055248618784530384, 0.19696969696969696, 'x[5] <= 0.0\\ngini = 0.305\\nsamples = 431\\nvalue = [[197, 234]\\n[405, 26]]'),\n Text(0.04419889502762431, 0.16666666666666666, 'gini = 0.09\\nsamples = 10\\nvalue = [[9, 1]\\n[10, 0]]'),\n Text(0.06629834254143646, 0.16666666666666666, 'x[7] <= 0.5\\ngini = 0.305\\nsamples = 421\\nvalue = [[188, 233]\\n[395, 26]]'),\n Text(0.055248618784530384, 0.13636363636363635, 'x[2] <= 0.0\\ngini = 0.305\\nsamples = 415\\nvalue = [[182, 233]\\n[389, 26]]'),\n Text(0.04419889502762431, 0.10606060606060606, 'gini = 0.311\\nsamples = 341\\nvalue = [[142, 199]\\n[316, 25]]'),\n Text(0.06629834254143646, 0.10606060606060606, 'gini = 0.262\\nsamples = 74\\nvalue = [[40, 34]\\n[73, 1]]'),\n Text(0.07734806629834254, 0.13636363636363635, 'gini = 0.0\\nsamples = 6\\nvalue = [[6, 0]\\n[6, 0]]'),\n Text(0.06629834254143646, 0.22727272727272727, 'gini = 0.365\\nsamples = 156\\nvalue = [[84, 72]\\n[135, 21]]'),\n Text(0.07734806629834254, 0.25757575757575757, 'gini = 0.0\\nsamples = 2\\nvalue = [[0, 2]\\n[0, 2]]'),\n Text(0.08839779005524862, 0.2878787878787879, 'gini = 0.358\\nsamples = 135\\nvalue = [[41, 94]\\n[111, 24]]'),\n Text(0.09944751381215469, 0.3181818181818182, 'gini = 0.308\\nsamples = 317\\nvalue = [[167, 150]\\n[297, 20]]'),\n Text(0.11049723756906077, 0.3484848484848485, 'gini = 0.296\\nsamples = 62\\nvalue = [[15, 47]\\n[54, 8]]'),\n Text(0.12154696132596685, 0.3787878787878788, 'gini = 0.427\\nsamples = 160\\nvalue = [[70, 90]\\n[122, 38]]'),\n Text(0.15469613259668508, 0.4090909090909091, 'x[15] <= 0.5\\ngini = 0.392\\nsamples = 542\\nvalue = [[294, 248]\\n[448, 94]]'),\n Text(0.143646408839779, 0.3787878787878788, 'x[18] <= 0.5\\ngini = 0.354\\nsamples = 405\\nvalue = [[238, 167]\\n[353, 52]]'),\n Text(0.13259668508287292, 0.3484848484848485, 'gini = 0.322\\nsamples = 343\\nvalue = [[210, 133]\\n[311, 32]]'),\n Text(0.15469613259668508, 0.3484848484848485, 'gini = 0.466\\nsamples = 62\\nvalue = [[28, 34]\\n[42, 20]]'),\n Text(0.16574585635359115, 0.3787878787878788, 'gini = 0.454\\nsamples = 137\\nvalue = [[56, 81]\\n[95, 42]]'),\n Text(0.15469613259668508, 0.4393939393939394, 'gini = 0.493\\nsamples = 54\\nvalue = [[23, 31]\\n[29, 25]]'),\n Text(0.16574585635359115, 0.4696969696969697, 'gini = 0.326\\nsamples = 162\\nvalue = [[110, 52]\\n[142, 20]]'),\n Text(0.17679558011049723, 0.5, 'gini = 0.498\\nsamples = 48\\nvalue = [[23, 25]\\n[22, 26]]'),\n Text(0.1878453038674033, 0.5303030303030303, 'gini = 0.049\\nsamples = 39\\nvalue = [[37, 2]\\n[39, 0]]'),\n Text(0.22099447513812154, 0.5606060606060606, 'x[26] <= 0.5\\ngini = 0.261\\nsamples = 621\\nvalue = [[354, 267]\\n[611, 10]]'),\n Text(0.20994475138121546, 0.5303030303030303, 'gini = 0.221\\nsamples = 238\\nvalue = [[165, 73]\\n[236, 2]]'),\n Text(0.23204419889502761, 0.5303030303030303, 'x[2] <= 0.0\\ngini = 0.27\\nsamples = 383\\nvalue = [[189, 194]\\n[375, 8]]'),\n Text(0.22099447513812154, 0.5, 'gini = 0.262\\nsamples = 131\\nvalue = [[48, 83]\\n[127, 4]]'),\n Text(0.2430939226519337, 0.5, 'gini = 0.262\\nsamples = 252\\nvalue = [[141, 111]\\n[248, 4]]'),\n Text(0.26519337016574585, 0.6212121212121212, 'x[11] <= 0.5\\ngini = 0.241\\nsamples = 532\\nvalue = [[198, 334]\\n[528, 4]]'),\n Text(0.2541436464088398, 0.5909090909090909, 'x[26] <= 0.5\\ngini = 0.238\\nsamples = 508\\nvalue = [[182, 326]\\n[504, 4]]'),\n Text(0.2430939226519337, 0.5606060606060606, 'gini = 0.258\\nsamples = 177\\nvalue = [[78, 99]\\n[175, 2]]'),\n Text(0.26519337016574585, 0.5606060606060606, 'gini = 0.221\\nsamples = 331\\nvalue = [[104, 227]\\n[329, 2]]'),\n Text(0.27624309392265195, 0.5909090909090909, 'gini = 0.222\\nsamples = 24\\nvalue = [[16, 8]\\n[24, 0]]'),\n Text(0.21961325966850828, 0.6515151515151515, 'gini = 0.254\\nsamples = 162\\nvalue = [[30, 132]\\n[143, 19]]'),\n Text(0.23066298342541436, 0.6818181818181818, 'gini = 0.218\\nsamples = 218\\nvalue = [[183, 35]\\n[198, 20]]'),\n Text(0.24171270718232044, 0.7121212121212122, 'gini = 0.101\\nsamples = 255\\nvalue = [[23, 232]\\n[250, 5]]'),\n Text(0.2527624309392265, 0.7424242424242424, 'gini = 0.129\\nsamples = 348\\nvalue = [[35, 313]\\n[334, 14]]'),\n Text(0.32044198895027626, 0.7727272727272727, 'x[28] <= 0.5\\ngini = 0.114\\nsamples = 580\\nvalue = [[68, 512]\\n[574, 6]]'),\n Text(0.30939226519337015, 0.7424242424242424, 'x[72] <= 0.5\\ngini = 0.111\\nsamples = 575\\nvalue = [[65, 510]\\n[569, 6]]'),\n Text(0.2983425414364641, 0.7121212121212122, 'x[0] <= 0.0\\ngini = 0.109\\nsamples = 574\\nvalue = [[65, 509]\\n[569, 5]]'),\n Text(0.287292817679558, 0.6818181818181818, 'gini = 0.032\\nsamples = 120\\nvalue = [[4, 116]\\n[120, 0]]'),\n Text(0.30939226519337015, 0.6818181818181818, 'x[122] <= 0.5\\ngini = 0.127\\nsamples = 454\\nvalue = [[61, 393]\\n[449, 5]]'),\n Text(0.2983425414364641, 0.6515151515151515, 'x[5] <= 0.0\\ngini = 0.126\\nsamples = 453\\nvalue = [[60, 393]\\n[448, 5]]'),\n Text(0.287292817679558, 0.6212121212121212, 'gini = 0.151\\nsamples = 203\\nvalue = [[36, 167]\\n[202, 1]]'),\n Text(0.30939226519337015, 0.6212121212121212, 'gini = 0.103\\nsamples = 250\\nvalue = [[24, 226]\\n[246, 4]]'),\n Text(0.32044198895027626, 0.6515151515151515, 'gini = 0.0\\nsamples = 1\\nvalue = [[1, 0]\\n[1, 0]]'),\n Text(0.32044198895027626, 0.7121212121212122, 'gini = 0.0\\nsamples = 1\\nvalue = [[0, 1]\\n[0, 1]]'),\n Text(0.3314917127071823, 0.7424242424242424, 'gini = 0.24\\nsamples = 5\\nvalue = [[3, 2]\\n[5, 0]]'),\n Text(0.3031767955801105, 0.803030303030303, 'gini = 0.446\\nsamples = 188\\nvalue = [[74, 114]\\n[55, 133]]'),\n Text(0.39779005524861877, 0.8333333333333334, 'x[0] <= 0.0\\ngini = 0.225\\nsamples = 1415\\nvalue = [[1033, 382]\\n[1375, 40]]'),\n Text(0.3756906077348066, 0.803030303030303, 'x[81] <= 0.5\\ngini = 0.237\\nsamples = 1009\\nvalue = [[697, 312]\\n[985, 24]]'),\n Text(0.36464088397790057, 0.7727272727272727, 'x[1] <= 0.999\\ngini = 0.23\\nsamples = 965\\nvalue = [[679, 286]\\n[944, 21]]'),\n Text(0.35359116022099446, 0.7424242424242424, 'gini = 0.16\\nsamples = 5\\nvalue = [[5, 0]\\n[1, 4]]'),\n Text(0.3756906077348066, 0.7424242424242424, 'x[0] <= 0.0\\ngini = 0.227\\nsamples = 960\\nvalue = [[674, 286]\\n[943, 17]]'),\n Text(0.36464088397790057, 0.7121212121212122, 'gini = 0.251\\nsamples = 232\\nvalue = [[141, 91]\\n[229, 3]]'),\n Text(0.3867403314917127, 0.7121212121212122, 'x[120] <= 0.5\\ngini = 0.215\\nsamples = 728\\nvalue = [[533, 195]\\n[714, 14]]'),\n Text(0.3756906077348066, 0.6818181818181818, 'x[5] <= 0.0\\ngini = 0.214\\nsamples = 725\\nvalue = [[533, 192]\\n[711, 14]]'),\n Text(0.36464088397790057, 0.6515151515151515, 'gini = 0.045\\nsamples = 21\\nvalue = [[21, 0]\\n[20, 1]]'),\n Text(0.3867403314917127, 0.6515151515151515, 'x[18] <= 0.5\\ngini = 0.216\\nsamples = 704\\nvalue = [[512, 192]\\n[691, 13]]'),\n Text(0.3756906077348066, 0.6212121212121212, 'x[5] <= 0.0\\ngini = 0.212\\nsamples = 695\\nvalue = [[509, 186]\\n[684, 11]]'),\n Text(0.36464088397790057, 0.5909090909090909, 'x[22] <= 0.5\\ngini = 0.23\\nsamples = 463\\nvalue = [[325, 138]\\n[453, 10]]'),\n Text(0.35359116022099446, 0.5606060606060606, 'gini = 0.241\\nsamples = 363\\nvalue = [[242, 121]\\n[356, 7]]'),\n Text(0.3756906077348066, 0.5606060606060606, 'gini = 0.17\\nsamples = 100\\nvalue = [[83, 17]\\n[97, 3]]'),\n Text(0.3867403314917127, 0.5909090909090909, 'gini = 0.168\\nsamples = 232\\nvalue = [[184, 48]\\n[231, 1]]'),\n Text(0.39779005524861877, 0.6212121212121212, 'gini = 0.395\\nsamples = 9\\nvalue = [[3, 6]\\n[7, 2]]'),\n Text(0.39779005524861877, 0.6818181818181818, 'gini = 0.0\\nsamples = 3\\nvalue = [[0, 3]\\n[3, 0]]'),\n Text(0.3867403314917127, 0.7727272727272727, 'gini = 0.305\\nsamples = 44\\nvalue = [[18, 26]\\n[41, 3]]'),\n Text(0.4198895027624309, 0.803030303030303, 'x[1] <= 0.998\\ngini = 0.181\\nsamples = 406\\nvalue = [[336, 70]\\n[390, 16]]'),\n Text(0.4088397790055249, 0.7727272727272727, 'gini = 0.46\\nsamples = 10\\nvalue = [[7, 3]\\n[5, 5]]'),\n Text(0.430939226519337, 0.7727272727272727, 'x[26] <= 0.5\\ngini = 0.168\\nsamples = 396\\nvalue = [[329, 67]\\n[385, 11]]'),\n Text(0.4198895027624309, 0.7424242424242424, 'gini = 0.118\\nsamples = 210\\nvalue = [[189, 21]\\n[204, 6]]'),\n Text(0.4419889502762431, 0.7424242424242424, 'gini = 0.212\\nsamples = 186\\nvalue = [[140, 46]\\n[181, 5]]'),\n Text(0.5082872928176796, 0.8636363636363636, 'x[3] <= 0.032\\ngini = 0.13\\nsamples = 913\\nvalue = [[75, 838]\\n[860, 53]]'),\n Text(0.4972375690607735, 0.8333333333333334, 'x[5] <= 0.002\\ngini = 0.114\\nsamples = 894\\nvalue = [[71, 823]\\n[856, 38]]'),\n Text(0.4861878453038674, 0.803030303030303, 'x[28] <= 0.5\\ngini = 0.109\\nsamples = 884\\nvalue = [[70, 814]\\n[851, 33]]'),\n Text(0.47513812154696133, 0.7727272727272727, 'x[37] <= 0.5\\ngini = 0.105\\nsamples = 875\\nvalue = [[65, 810]\\n[842, 33]]'),\n Text(0.46408839779005523, 0.7424242424242424, 'x[79] <= 0.5\\ngini = 0.099\\nsamples = 801\\nvalue = [[51, 750]\\n[768, 33]]'),\n Text(0.4530386740331492, 0.7121212121212122, 'x[20] <= 0.5\\ngini = 0.097\\nsamples = 798\\nvalue = [[49, 749]\\n[765, 33]]'),\n Text(0.4419889502762431, 0.6818181818181818, 'x[5] <= 0.0\\ngini = 0.096\\nsamples = 797\\nvalue = [[49, 748]\\n[765, 32]]'),\n Text(0.430939226519337, 0.6515151515151515, 'gini = 0.0\\nsamples = 1\\nvalue = [[0, 1]\\n[0, 1]]'),\n Text(0.4530386740331492, 0.6515151515151515, 'x[63] <= 0.5\\ngini = 0.095\\nsamples = 796\\nvalue = [[49, 747]\\n[765, 31]]'),\n Text(0.4419889502762431, 0.6212121212121212, 'x[1] <= 1.0\\ngini = 0.094\\nsamples = 795\\nvalue = [[48, 747]\\n[764, 31]]'),\n Text(0.430939226519337, 0.5909090909090909, 'gini = 0.139\\nsamples = 24\\nvalue = [[0, 24]\\n[20, 4]]'),\n Text(0.4530386740331492, 0.5909090909090909, 'x[4] <= 0.011\\ngini = 0.092\\nsamples = 771\\nvalue = [[48, 723]\\n[744, 27]]'),\n Text(0.4419889502762431, 0.5606060606060606, 'x[102] <= 0.5\\ngini = 0.09\\nsamples = 767\\nvalue = [[46, 721]\\n[740, 27]]'),\n Text(0.430939226519337, 0.5303030303030303, 'x[0] <= 0.0\\ngini = 0.088\\nsamples = 764\\nvalue = [[45, 719]\\n[738, 26]]'),\n Text(0.4198895027624309, 0.5, 'gini = 0.053\\nsamples = 333\\nvalue = [[11, 322]\\n[326, 7]]'),\n Text(0.4419889502762431, 0.5, 'x[9] <= 0.5\\ngini = 0.115\\nsamples = 431\\nvalue = [[34, 397]\\n[412, 19]]'),\n Text(0.430939226519337, 0.4696969696969697, 'x[5] <= 0.0\\ngini = 0.113\\nsamples = 430\\nvalue = [[33, 397]\\n[411, 19]]'),\n Text(0.4198895027624309, 0.4393939393939394, 'gini = 0.187\\nsamples = 58\\nvalue = [[11, 47]\\n[56, 2]]'),\n Text(0.4419889502762431, 0.4393939393939394, 'gini = 0.099\\nsamples = 372\\nvalue = [[22, 350]\\n[355, 17]]'),\n Text(0.4530386740331492, 0.4696969696969697, 'gini = 0.0\\nsamples = 1\\nvalue = [[1, 0]\\n[1, 0]]'),\n Text(0.4530386740331492, 0.5303030303030303, 'gini = 0.444\\nsamples = 3\\nvalue = [[1, 2]\\n[2, 1]]'),\n Text(0.46408839779005523, 0.5606060606060606, 'gini = 0.25\\nsamples = 4\\nvalue = [[2, 2]\\n[4, 0]]'),\n Text(0.46408839779005523, 0.6212121212121212, 'gini = 0.0\\nsamples = 1\\nvalue = [[1, 0]\\n[1, 0]]'),\n Text(0.46408839779005523, 0.6818181818181818, 'gini = 0.0\\nsamples = 1\\nvalue = [[0, 1]\\n[0, 1]]'),\n Text(0.47513812154696133, 0.7121212121212122, 'gini = 0.222\\nsamples = 3\\nvalue = [[2, 1]\\n[3, 0]]'),\n Text(0.4861878453038674, 0.7424242424242424, 'gini = 0.153\\nsamples = 74\\nvalue = [[14, 60]\\n[74, 0]]'),\n Text(0.4972375690607735, 0.7727272727272727, 'gini = 0.247\\nsamples = 9\\nvalue = [[5, 4]\\n[9, 0]]'),\n Text(0.5082872928176796, 0.803030303030303, 'gini = 0.34\\nsamples = 10\\nvalue = [[1, 9]\\n[5, 5]]'),\n Text(0.5193370165745856, 0.8333333333333334, 'gini = 0.332\\nsamples = 19\\nvalue = [[4, 15]\\n[4, 15]]'),\n Text(0.6187845303867403, 0.8939393939393939, 'x[90] <= 0.5\\ngini = 0.234\\nsamples = 2274\\nvalue = [[1750, 524]\\n[2137, 137]]'),\n Text(0.6077348066298343, 0.8636363636363636, 'x[1] <= 0.999\\ngini = 0.214\\nsamples = 2115\\nvalue = [[1701, 414]\\n[1988, 127]]'),\n Text(0.5966850828729282, 0.8333333333333334, 'gini = 0.464\\nsamples = 42\\nvalue = [[21, 21]\\n[13, 29]]'),\n Text(0.6187845303867403, 0.8333333333333334, 'x[101] <= 0.5\\ngini = 0.199\\nsamples = 2073\\nvalue = [[1680, 393]\\n[1975, 98]]'),\n Text(0.6077348066298343, 0.803030303030303, 'x[92] <= 0.5\\ngini = 0.187\\nsamples = 2011\\nvalue = [[1662, 349]\\n[1920, 91]]'),\n Text(0.5966850828729282, 0.7727272727272727, 'x[93] <= 0.5\\ngini = 0.18\\nsamples = 1967\\nvalue = [[1649, 318]\\n[1876, 91]]'),\n Text(0.585635359116022, 0.7424242424242424, 'x[26] <= 0.5\\ngini = 0.171\\nsamples = 1888\\nvalue = [[1611, 277]\\n[1797, 91]]'),\n Text(0.56353591160221, 0.7121212121212122, 'x[4] <= 0.008\\ngini = 0.16\\nsamples = 1453\\nvalue = [[1278, 175]\\n[1370, 83]]'),\n Text(0.5524861878453039, 0.6818181818181818, 'x[88] <= 0.5\\ngini = 0.154\\nsamples = 1431\\nvalue = [[1260, 171]\\n[1358, 73]]'),\n Text(0.5193370165745856, 0.6515151515151515, 'x[83] <= 0.5\\ngini = 0.186\\nsamples = 1046\\nvalue = [[894, 152]\\n[977, 69]]'),\n Text(0.5082872928176796, 0.6212121212121212, 'gini = 0.274\\nsamples = 273\\nvalue = [[216, 57]\\n[239, 34]]'),\n Text(0.5303867403314917, 0.6212121212121212, 'x[94] <= 0.5\\ngini = 0.151\\nsamples = 773\\nvalue = [[678, 95]\\n[738, 35]]'),\n Text(0.5193370165745856, 0.5909090909090909, 'x[5] <= 0.002\\ngini = 0.141\\nsamples = 666\\nvalue = [[598, 68]\\n[631, 35]]'),\n Text(0.5082872928176796, 0.5606060606060606, 'x[15] <= 0.5\\ngini = 0.138\\nsamples = 664\\nvalue = [[598, 66]\\n[630, 34]]'),\n Text(0.4972375690607735, 0.5303030303030303, 'x[18] <= 0.5\\ngini = 0.114\\nsamples = 576\\nvalue = [[525, 51]\\n[556, 20]]'),\n Text(0.4861878453038674, 0.5, 'x[136] <= 0.5\\ngini = 0.101\\nsamples = 554\\nvalue = [[509, 45]\\n[539, 15]]'),\n Text(0.47513812154696133, 0.4696969696969697, 'x[73] <= 0.5\\ngini = 0.1\\nsamples = 553\\nvalue = [[509, 44]\\n[538, 15]]'),\n Text(0.46408839779005523, 0.4393939393939394, 'x[20] <= 0.5\\ngini = 0.098\\nsamples = 552\\nvalue = [[509, 43]\\n[537, 15]]'),\n Text(0.4530386740331492, 0.4090909090909091, 'x[13] <= 0.5\\ngini = 0.096\\nsamples = 548\\nvalue = [[507, 41]\\n[533, 15]]'),\n Text(0.4419889502762431, 0.3787878787878788, 'x[5] <= 0.0\\ngini = 0.088\\nsamples = 514\\nvalue = [[480, 34]\\n[500, 14]]'),\n Text(0.430939226519337, 0.3484848484848485, 'x[5] <= 0.0\\ngini = 0.103\\nsamples = 424\\nvalue = [[390, 34]\\n[411, 13]]'),\n Text(0.4198895027624309, 0.3181818181818182, 'x[16] <= 0.5\\ngini = 0.102\\nsamples = 423\\nvalue = [[390, 33]\\n[410, 13]]'),\n Text(0.4088397790055249, 0.2878787878787879, 'x[5] <= 0.0\\ngini = 0.098\\nsamples = 421\\nvalue = [[389, 32]\\n[409, 12]]'),\n Text(0.39779005524861877, 0.25757575757575757, 'gini = 0.077\\nsamples = 334\\nvalue = [[313, 21]\\n[328, 6]]'),\n Text(0.4198895027624309, 0.25757575757575757, 'gini = 0.175\\nsamples = 87\\nvalue = [[76, 11]\\n[81, 6]]'),\n Text(0.430939226519337, 0.2878787878787879, 'gini = 0.5\\nsamples = 2\\nvalue = [[1, 1]\\n[1, 1]]'),\n Text(0.4419889502762431, 0.3181818181818182, 'gini = 0.0\\nsamples = 1\\nvalue = [[0, 1]\\n[1, 0]]'),\n Text(0.4530386740331492, 0.3484848484848485, 'gini = 0.011\\nsamples = 90\\nvalue = [[90, 0]\\n[89, 1]]'),\n Text(0.46408839779005523, 0.3787878787878788, 'gini = 0.192\\nsamples = 34\\nvalue = [[27, 7]\\n[33, 1]]'),\n Text(0.47513812154696133, 0.4090909090909091, 'gini = 0.25\\nsamples = 4\\nvalue = [[2, 2]\\n[4, 0]]'),\n Text(0.4861878453038674, 0.4393939393939394, 'gini = 0.0\\nsamples = 1\\nvalue = [[0, 1]\\n[1, 0]]'),\n Text(0.4972375690607735, 0.4696969696969697, 'gini = 0.0\\nsamples = 1\\nvalue = [[0, 1]\\n[1, 0]]'),\n Text(0.5082872928176796, 0.5, 'gini = 0.374\\nsamples = 22\\nvalue = [[16, 6]\\n[17, 5]]'),\n Text(0.5193370165745856, 0.5303030303030303, 'gini = 0.275\\nsamples = 88\\nvalue = [[73, 15]\\n[74, 14]]'),\n Text(0.5303867403314917, 0.5606060606060606, 'gini = 0.25\\nsamples = 2\\nvalue = [[0, 2]\\n[1, 1]]'),\n Text(0.5414364640883977, 0.5909090909090909, 'gini = 0.189\\nsamples = 107\\nvalue = [[80, 27]\\n[107, 0]]'),\n Text(0.585635359116022, 0.6515151515151515, 'x[117] <= 0.5\\ngini = 0.057\\nsamples = 385\\nvalue = [[366, 19]\\n[381, 4]]'),\n Text(0.574585635359116, 0.6212121212121212, 'x[103] <= 0.5\\ngini = 0.055\\nsamples = 384\\nvalue = [[366, 18]\\n[380, 4]]'),\n Text(0.56353591160221, 0.5909090909090909, 'x[2] <= 0.0\\ngini = 0.053\\nsamples = 383\\nvalue = [[366, 17]\\n[379, 4]]'),\n Text(0.5524861878453039, 0.5606060606060606, 'gini = 0.046\\nsamples = 358\\nvalue = [[345, 13]\\n[354, 4]]'),\n Text(0.574585635359116, 0.5606060606060606, 'gini = 0.134\\nsamples = 25\\nvalue = [[21, 4]\\n[25, 0]]'),\n Text(0.585635359116022, 0.5909090909090909, 'gini = 0.0\\nsamples = 1\\nvalue = [[0, 1]\\n[1, 0]]'),\n Text(0.5966850828729282, 0.6212121212121212, 'gini = 0.0\\nsamples = 1\\nvalue = [[0, 1]\\n[1, 0]]'),\n Text(0.574585635359116, 0.6818181818181818, 'gini = 0.397\\nsamples = 22\\nvalue = [[18, 4]\\n[12, 10]]'),\n Text(0.6077348066298343, 0.7121212121212122, 'x[37] <= 0.5\\ngini = 0.198\\nsamples = 435\\nvalue = [[333, 102]\\n[427, 8]]'),\n Text(0.5966850828729282, 0.6818181818181818, 'gini = 0.249\\nsamples = 274\\nvalue = [[184, 90]\\n[266, 8]]'),\n Text(0.6187845303867403, 0.6818181818181818, 'gini = 0.069\\nsamples = 161\\nvalue = [[149, 12]\\n[161, 0]]'),\n Text(0.6077348066298343, 0.7424242424242424, 'gini = 0.25\\nsamples = 79\\nvalue = [[38, 41]\\n[79, 0]]'),\n Text(0.6187845303867403, 0.7727272727272727, 'gini = 0.208\\nsamples = 44\\nvalue = [[13, 31]\\n[44, 0]]'),\n Text(0.6298342541436464, 0.803030303030303, 'gini = 0.306\\nsamples = 62\\nvalue = [[18, 44]\\n[55, 7]]'),\n Text(0.6298342541436464, 0.8636363636363636, 'gini = 0.272\\nsamples = 159\\nvalue = [[49, 110]\\n[149, 10]]'),\n Text(0.6740331491712708, 0.9242424242424242, 'x[1] <= 0.999\\ngini = 0.25\\nsamples = 974\\nvalue = [[974, 0]\\n[482, 492]]'),\n Text(0.6629834254143646, 0.8939393939393939, 'gini = 0.038\\nsamples = 75\\nvalue = [[75, 0]\\n[3, 72]]'),\n Text(0.6850828729281768, 0.8939393939393939, 'x[97] <= 0.5\\ngini = 0.249\\nsamples = 899\\nvalue = [[899, 0]\\n[479, 420]]'),\n Text(0.6740331491712708, 0.8636363636363636, 'x[91] <= 0.5\\ngini = 0.242\\nsamples = 721\\nvalue = [[721, 0]\\n[426, 295]]'),\n Text(0.6629834254143646, 0.8333333333333334, 'x[88] <= 0.5\\ngini = 0.228\\nsamples = 571\\nvalue = [[571, 0]\\n[371, 200]]'),\n Text(0.6519337016574586, 0.803030303030303, 'gini = 0.197\\nsamples = 338\\nvalue = [[338, 0]\\n[247, 91]]'),\n Text(0.6740331491712708, 0.803030303030303, 'gini = 0.249\\nsamples = 233\\nvalue = [[233, 0]\\n[124, 109]]'),\n Text(0.6850828729281768, 0.8333333333333334, 'gini = 0.232\\nsamples = 150\\nvalue = [[150, 0]\\n[55, 95]]'),\n Text(0.6961325966850829, 0.8636363636363636, 'gini = 0.209\\nsamples = 178\\nvalue = [[178, 0]\\n[53, 125]]'),\n Text(0.8325276243093923, 0.9545454545454546, 'x[1] <= 1.0\\ngini = 0.248\\nsamples = 8637\\nvalue = [[1, 8636]\\n[4735, 3902]]'),\n Text(0.7403314917127072, 0.9242424242424242, 'x[0] <= 0.0\\ngini = 0.1\\nsamples = 757\\nvalue = [[0, 757]\\n[85, 672]]'),\n Text(0.7292817679558011, 0.8939393939393939, 'x[3] <= 0.038\\ngini = 0.028\\nsamples = 485\\nvalue = [[0, 485]\\n[14, 471]]'),\n Text(0.7182320441988951, 0.8636363636363636, 'gini = 0.095\\nsamples = 94\\nvalue = [[0, 94]\\n[10, 84]]'),\n Text(0.7403314917127072, 0.8636363636363636, 'x[5] <= 0.001\\ngini = 0.01\\nsamples = 391\\nvalue = [[0, 391]\\n[4, 387]]'),\n Text(0.7292817679558011, 0.8333333333333334, 'x[93] <= 0.5\\ngini = 0.005\\nsamples = 382\\nvalue = [[0, 382]\\n[2, 380]]'),\n Text(0.7182320441988951, 0.803030303030303, 'gini = 0.003\\nsamples = 378\\nvalue = [[0, 378]\\n[1, 377]]'),\n Text(0.7403314917127072, 0.803030303030303, 'gini = 0.188\\nsamples = 4\\nvalue = [[0, 4]\\n[1, 3]]'),\n Text(0.7513812154696132, 0.8333333333333334, 'gini = 0.173\\nsamples = 9\\nvalue = [[0, 9]\\n[2, 7]]'),\n Text(0.7513812154696132, 0.8939393939393939, 'gini = 0.193\\nsamples = 272\\nvalue = [[0, 272]\\n[71, 201]]'),\n Text(0.9247237569060773, 0.9242424242424242, 'x[15] <= 0.5\\ngini = 0.242\\nsamples = 7880\\nvalue = [[1, 7879]\\n[4650, 3230]]'),\n Text(0.8715469613259669, 0.8939393939393939, 'x[97] <= 0.5\\ngini = 0.231\\nsamples = 6511\\nvalue = [[1, 6510]\\n[4158, 2353]]'),\n Text(0.8204419889502762, 0.8636363636363636, 'x[91] <= 0.5\\ngini = 0.219\\nsamples = 5831\\nvalue = [[1, 5830]\\n[3938, 1893]]'),\n Text(0.7734806629834254, 0.8333333333333334, 'x[4] <= 0.003\\ngini = 0.202\\nsamples = 4996\\nvalue = [[1, 4995]\\n[3590, 1406]]'),\n Text(0.7624309392265194, 0.803030303030303, 'x[21] <= 0.5\\ngini = 0.197\\nsamples = 4739\\nvalue = [[1, 4738]\\n[3466, 1273]]'),\n Text(0.7237569060773481, 0.7727272727272727, 'x[18] <= 0.5\\ngini = 0.183\\nsamples = 3649\\nvalue = [[1, 3648]\\n[2773, 876]]'),\n Text(0.712707182320442, 0.7424242424242424, 'x[81] <= 0.5\\ngini = 0.178\\nsamples = 3560\\nvalue = [[1, 3559]\\n[2735, 825]]'),\n Text(0.7016574585635359, 0.7121212121212122, 'x[2] <= 0.0\\ngini = 0.174\\nsamples = 3467\\nvalue = [[1, 3466]\\n[2691, 776]]'),\n Text(0.6795580110497238, 0.6818181818181818, 'x[17] <= 0.5\\ngini = 0.09\\nsamples = 391\\nvalue = [[0, 391]\\n[352, 39]]'),\n Text(0.6685082872928176, 0.6515151515151515, 'gini = 0.055\\nsamples = 311\\nvalue = [[0, 311]\\n[293, 18]]'),\n Text(0.6906077348066298, 0.6515151515151515, 'gini = 0.194\\nsamples = 80\\nvalue = [[0, 80]\\n[59, 21]]'),\n Text(0.7237569060773481, 0.6818181818181818, 'x[84] <= 0.5\\ngini = 0.183\\nsamples = 3076\\nvalue = [[1, 3075]\\n[2339, 737]]'),\n Text(0.712707182320442, 0.6515151515151515, 'x[7] <= 0.5\\ngini = 0.179\\nsamples = 2978\\nvalue = [[1, 2977]\\n[2285, 693]]'),\n Text(0.7016574585635359, 0.6212121212121212, 'x[95] <= 0.5\\ngini = 0.184\\nsamples = 2824\\nvalue = [[1, 2823]\\n[2142, 682]]'),\n Text(0.6906077348066298, 0.5909090909090909, 'x[92] <= 0.5\\ngini = 0.188\\nsamples = 2638\\nvalue = [[1, 2637]\\n[1976, 662]]'),\n Text(0.6795580110497238, 0.5606060606060606, 'x[11] <= 0.5\\ngini = 0.193\\nsamples = 2455\\nvalue = [[1, 2454]\\n[1817, 638]]'),\n Text(0.6685082872928176, 0.5303030303030303, 'x[1] <= 1.0\\ngini = 0.195\\nsamples = 2387\\nvalue = [[1, 2386]\\n[1754, 633]]'),\n Text(0.6574585635359116, 0.5, 'gini = 0.249\\nsamples = 51\\nvalue = [[0, 51]\\n[27, 24]]'),\n Text(0.6795580110497238, 0.5, 'x[0] <= 0.0\\ngini = 0.193\\nsamples = 2336\\nvalue = [[1, 2335]\\n[1727, 609]]'),\n Text(0.6574585635359116, 0.4696969696969697, 'x[5] <= 0.0\\ngini = 0.166\\nsamples = 687\\nvalue = [[0, 687]\\n[543, 144]]'),\n Text(0.6464088397790055, 0.4393939393939394, 'gini = 0.219\\nsamples = 220\\nvalue = [[0, 220]\\n[149, 71]]'),\n Text(0.6685082872928176, 0.4393939393939394, 'x[98] <= 0.5\\ngini = 0.132\\nsamples = 467\\nvalue = [[0, 467]\\n[394, 73]]'),\n Text(0.6574585635359116, 0.4090909090909091, 'x[2] <= 0.0\\ngini = 0.122\\nsamples = 441\\nvalue = [[0, 441]\\n[378, 63]]'),\n Text(0.6464088397790055, 0.3787878787878788, 'x[5] <= 0.0\\ngini = 0.134\\nsamples = 383\\nvalue = [[0, 383]\\n[322, 61]]'),\n Text(0.6353591160220995, 0.3484848484848485, 'gini = 0.124\\nsamples = 352\\nvalue = [[0, 352]\\n[301, 51]]'),\n Text(0.6574585635359116, 0.3484848484848485, 'gini = 0.219\\nsamples = 31\\nvalue = [[0, 31]\\n[21, 10]]'),\n Text(0.6685082872928176, 0.3787878787878788, 'gini = 0.033\\nsamples = 58\\nvalue = [[0, 58]\\n[56, 2]]'),\n Text(0.6795580110497238, 0.4090909090909091, 'gini = 0.237\\nsamples = 26\\nvalue = [[0, 26]\\n[16, 10]]'),\n Text(0.7016574585635359, 0.4696969696969697, 'x[5] <= 0.0\\ngini = 0.203\\nsamples = 1649\\nvalue = [[1, 1648]\\n[1184, 465]]'),\n Text(0.6906077348066298, 0.4393939393939394, 'gini = 0.066\\nsamples = 56\\nvalue = [[0, 56]\\n[52, 4]]'),\n Text(0.712707182320442, 0.4393939393939394, 'x[0] <= 0.0\\ngini = 0.206\\nsamples = 1593\\nvalue = [[1, 1592]\\n[1132, 461]]'),\n Text(0.7016574585635359, 0.4090909090909091, 'x[2] <= 0.0\\ngini = 0.215\\nsamples = 1234\\nvalue = [[1, 1233]\\n[852, 382]]'),\n Text(0.6906077348066298, 0.3787878787878788, 'x[5] <= 0.0\\ngini = 0.218\\nsamples = 1164\\nvalue = [[1, 1163]\\n[793, 371]]'),\n Text(0.6795580110497238, 0.3484848484848485, 'x[0] <= 0.0\\ngini = 0.213\\nsamples = 1060\\nvalue = [[1, 1059]\\n[736, 324]]'),\n Text(0.6685082872928176, 0.3181818181818182, 'x[2] <= 0.0\\ngini = 0.212\\nsamples = 1055\\nvalue = [[1, 1054]\\n[735, 320]]'),\n Text(0.6574585635359116, 0.2878787878787879, 'x[100] <= 0.5\\ngini = 0.218\\nsamples = 854\\nvalue = [[1, 853]\\n[582, 272]]'),\n Text(0.6464088397790055, 0.25757575757575757, 'x[5] <= 0.0\\ngini = 0.216\\nsamples = 838\\nvalue = [[1, 837]\\n[576, 262]]'),\n Text(0.6353591160220995, 0.22727272727272727, 'x[0] <= 0.0\\ngini = 0.211\\nsamples = 761\\nvalue = [[1, 760]\\n[533, 228]]'),\n Text(0.6243093922651933, 0.19696969696969696, 'x[0] <= 0.0\\ngini = 0.214\\nsamples = 731\\nvalue = [[1, 730]\\n[507, 224]]'),\n Text(0.6132596685082873, 0.16666666666666666, 'x[0] <= 0.0\\ngini = 0.211\\nsamples = 705\\nvalue = [[1, 704]\\n[494, 211]]'),\n Text(0.6022099447513812, 0.13636363636363635, 'x[0] <= 0.0\\ngini = 0.215\\nsamples = 679\\nvalue = [[1, 678]\\n[470, 209]]'),\n Text(0.5911602209944752, 0.10606060606060606, 'x[5] <= 0.0\\ngini = 0.213\\nsamples = 676\\nvalue = [[1, 675]\\n[470, 206]]'),\n Text(0.580110497237569, 0.07575757575757576, 'x[5] <= 0.0\\ngini = 0.216\\nsamples = 659\\nvalue = [[1, 658]\\n[454, 205]]'),\n Text(0.569060773480663, 0.045454545454545456, 'x[14] <= 0.5\\ngini = 0.215\\nsamples = 657\\nvalue = [[1, 656]\\n[454, 203]]'),\n Text(0.5580110497237569, 0.015151515151515152, 'gini = 0.211\\nsamples = 605\\nvalue = [[1, 604]\\n[424, 181]]'),\n Text(0.580110497237569, 0.015151515151515152, 'gini = 0.244\\nsamples = 52\\nvalue = [[0, 52]\\n[30, 22]]'),\n Text(0.5911602209944752, 0.045454545454545456, 'gini = 0.0\\nsamples = 2\\nvalue = [[0, 2]\\n[0, 2]]'),\n Text(0.6022099447513812, 0.07575757575757576, 'gini = 0.055\\nsamples = 17\\nvalue = [[0, 17]\\n[16, 1]]'),\n Text(0.6132596685082873, 0.10606060606060606, 'gini = 0.0\\nsamples = 3\\nvalue = [[0, 3]\\n[0, 3]]'),\n Text(0.6243093922651933, 0.13636363636363635, 'gini = 0.071\\nsamples = 26\\nvalue = [[0, 26]\\n[24, 2]]'),\n Text(0.6353591160220995, 0.16666666666666666, 'gini = 0.25\\nsamples = 26\\nvalue = [[0, 26]\\n[13, 13]]'),\n Text(0.6464088397790055, 0.19696969696969696, 'gini = 0.116\\nsamples = 30\\nvalue = [[0, 30]\\n[26, 4]]'),\n Text(0.6574585635359116, 0.22727272727272727, 'gini = 0.247\\nsamples = 77\\nvalue = [[0, 77]\\n[43, 34]]'),\n Text(0.6685082872928176, 0.25757575757575757, 'gini = 0.234\\nsamples = 16\\nvalue = [[0, 16]\\n[6, 10]]'),\n Text(0.6795580110497238, 0.2878787878787879, 'gini = 0.182\\nsamples = 201\\nvalue = [[0, 201]\\n[153, 48]]'),\n Text(0.6906077348066298, 0.3181818181818182, 'gini = 0.16\\nsamples = 5\\nvalue = [[0, 5]\\n[1, 4]]'),\n Text(0.7016574585635359, 0.3484848484848485, 'gini = 0.248\\nsamples = 104\\nvalue = [[0, 104]\\n[57, 47]]'),\n Text(0.712707182320442, 0.3787878787878788, 'gini = 0.132\\nsamples = 70\\nvalue = [[0, 70]\\n[59, 11]]'),\n Text(0.7237569060773481, 0.4090909090909091, 'gini = 0.172\\nsamples = 359\\nvalue = [[0, 359]\\n[280, 79]]'),\n Text(0.6906077348066298, 0.5303030303030303, 'gini = 0.068\\nsamples = 68\\nvalue = [[0, 68]\\n[63, 5]]'),\n Text(0.7016574585635359, 0.5606060606060606, 'gini = 0.114\\nsamples = 183\\nvalue = [[0, 183]\\n[159, 24]]'),\n Text(0.712707182320442, 0.5909090909090909, 'gini = 0.096\\nsamples = 186\\nvalue = [[0, 186]\\n[166, 20]]'),\n Text(0.7237569060773481, 0.6212121212121212, 'gini = 0.066\\nsamples = 154\\nvalue = [[0, 154]\\n[143, 11]]'),\n Text(0.7348066298342542, 0.6515151515151515, 'gini = 0.247\\nsamples = 98\\nvalue = [[0, 98]\\n[54, 44]]'),\n Text(0.7237569060773481, 0.7121212121212122, 'gini = 0.249\\nsamples = 93\\nvalue = [[0, 93]\\n[44, 49]]'),\n Text(0.7348066298342542, 0.7424242424242424, 'gini = 0.245\\nsamples = 89\\nvalue = [[0, 89]\\n[38, 51]]'),\n Text(0.8011049723756906, 0.7727272727272727, 'x[95] <= 0.5\\ngini = 0.232\\nsamples = 1090\\nvalue = [[0, 1090]\\n[693, 397]]'),\n Text(0.7900552486187845, 0.7424242424242424, 'x[92] <= 0.5\\ngini = 0.235\\nsamples = 1032\\nvalue = [[0, 1032]\\n[641, 391]]'),\n Text(0.7790055248618785, 0.7121212121212122, 'x[93] <= 0.5\\ngini = 0.239\\nsamples = 968\\nvalue = [[0, 968]\\n[585, 383]]'),\n Text(0.7679558011049724, 0.6818181818181818, 'x[94] <= 0.5\\ngini = 0.242\\nsamples = 922\\nvalue = [[0, 922]\\n[546, 376]]'),\n Text(0.7569060773480663, 0.6515151515151515, 'x[2] <= 0.0\\ngini = 0.244\\nsamples = 837\\nvalue = [[0, 837]\\n[482, 355]]'),\n Text(0.7458563535911602, 0.6212121212121212, 'x[0] <= 0.0\\ngini = 0.248\\nsamples = 562\\nvalue = [[0, 562]\\n[303, 259]]'),\n Text(0.7348066298342542, 0.5909090909090909, 'gini = 0.211\\nsamples = 89\\nvalue = [[0, 89]\\n[62, 27]]'),\n Text(0.7569060773480663, 0.5909090909090909, 'x[100] <= 0.5\\ngini = 0.25\\nsamples = 473\\nvalue = [[0, 473]\\n[241, 232]]'),\n Text(0.7458563535911602, 0.5606060606060606, 'x[2] <= 0.0\\ngini = 0.249\\nsamples = 439\\nvalue = [[0, 439]\\n[232, 207]]'),\n Text(0.7348066298342542, 0.5303030303030303, 'gini = 0.24\\nsamples = 83\\nvalue = [[0, 83]\\n[33, 50]]'),\n Text(0.7569060773480663, 0.5303030303030303, 'gini = 0.247\\nsamples = 356\\nvalue = [[0, 356]\\n[199, 157]]'),\n Text(0.7679558011049724, 0.5606060606060606, 'gini = 0.195\\nsamples = 34\\nvalue = [[0, 34]\\n[9, 25]]'),\n Text(0.7679558011049724, 0.6212121212121212, 'gini = 0.227\\nsamples = 275\\nvalue = [[0, 275]\\n[179, 96]]'),\n Text(0.7790055248618785, 0.6515151515151515, 'gini = 0.186\\nsamples = 85\\nvalue = [[0, 85]\\n[64, 21]]'),\n Text(0.7900552486187845, 0.6818181818181818, 'gini = 0.129\\nsamples = 46\\nvalue = [[0, 46]\\n[39, 7]]'),\n Text(0.8011049723756906, 0.7121212121212122, 'gini = 0.109\\nsamples = 64\\nvalue = [[0, 64]\\n[56, 8]]'),\n Text(0.8121546961325967, 0.7424242424242424, 'gini = 0.093\\nsamples = 58\\nvalue = [[0, 58]\\n[52, 6]]'),\n Text(0.7845303867403315, 0.803030303030303, 'gini = 0.25\\nsamples = 257\\nvalue = [[0, 257]\\n[124, 133]]'),\n Text(0.8674033149171271, 0.8333333333333334, 'x[18] <= 0.5\\ngini = 0.243\\nsamples = 835\\nvalue = [[0, 835]\\n[348, 487]]'),\n Text(0.856353591160221, 0.803030303030303, 'x[85] <= 0.5\\ngini = 0.25\\nsamples = 670\\nvalue = [[0, 670]\\n[326, 344]]'),\n Text(0.8453038674033149, 0.7727272727272727, 'x[2] <= 0.0\\ngini = 0.246\\nsamples = 559\\nvalue = [[0, 559]\\n[245, 314]]'),\n Text(0.8342541436464088, 0.7424242424242424, 'gini = 0.236\\nsamples = 331\\nvalue = [[0, 331]\\n[127, 204]]'),\n Text(0.856353591160221, 0.7424242424242424, 'gini = 0.25\\nsamples = 228\\nvalue = [[0, 228]\\n[118, 110]]'),\n Text(0.8674033149171271, 0.7727272727272727, 'gini = 0.197\\nsamples = 111\\nvalue = [[0, 111]\\n[81, 30]]'),\n Text(0.8784530386740331, 0.803030303030303, 'gini = 0.116\\nsamples = 165\\nvalue = [[0, 165]\\n[22, 143]]'),\n Text(0.9226519337016574, 0.8636363636363636, 'x[20] <= 0.5\\ngini = 0.219\\nsamples = 680\\nvalue = [[0, 680]\\n[220, 460]]'),\n Text(0.9116022099447514, 0.8333333333333334, 'x[16] <= 0.5\\ngini = 0.235\\nsamples = 535\\nvalue = [[0, 535]\\n[201, 334]]'),\n Text(0.9005524861878453, 0.803030303030303, 'x[18] <= 0.5\\ngini = 0.244\\nsamples = 421\\nvalue = [[0, 421]\\n[177, 244]]'),\n Text(0.8895027624309392, 0.7727272727272727, 'gini = 0.248\\nsamples = 212\\nvalue = [[0, 212]\\n[115, 97]]'),\n Text(0.9116022099447514, 0.7727272727272727, 'gini = 0.209\\nsamples = 209\\nvalue = [[0, 209]\\n[62, 147]]'),\n Text(0.9226519337016574, 0.803030303030303, 'gini = 0.166\\nsamples = 114\\nvalue = [[0, 114]\\n[24, 90]]'),\n Text(0.9337016574585635, 0.8333333333333334, 'gini = 0.114\\nsamples = 145\\nvalue = [[0, 145]\\n[19, 126]]'),\n Text(0.9779005524861878, 0.8939393939393939, 'x[4] <= 0.004\\ngini = 0.23\\nsamples = 1369\\nvalue = [[0, 1369]\\n[492, 877]]'),\n Text(0.9668508287292817, 0.8636363636363636, 'x[85] <= 0.5\\ngini = 0.237\\nsamples = 1256\\nvalue = [[0, 1256]\\n[484, 772]]'),\n Text(0.9558011049723757, 0.8333333333333334, 'x[91] <= 0.5\\ngini = 0.23\\nsamples = 1125\\nvalue = [[0, 1125]\\n[404, 721]]'),\n Text(0.9447513812154696, 0.803030303030303, 'x[5] <= 0.0\\ngini = 0.241\\nsamples = 785\\nvalue = [[0, 785]\\n[319, 466]]'),\n Text(0.9337016574585635, 0.7727272727272727, 'gini = 0.243\\nsamples = 72\\nvalue = [[0, 72]\\n[42, 30]]'),\n Text(0.9558011049723757, 0.7727272727272727, 'x[2] <= 0.0\\ngini = 0.238\\nsamples = 713\\nvalue = [[0, 713]\\n[277, 436]]'),\n Text(0.9447513812154696, 0.7424242424242424, 'x[92] <= 0.5\\ngini = 0.231\\nsamples = 530\\nvalue = [[0, 530]\\n[192, 338]]'),\n Text(0.9337016574585635, 0.7121212121212122, 'x[2] <= 0.0\\ngini = 0.229\\nsamples = 523\\nvalue = [[0, 523]\\n[186, 337]]'),\n Text(0.9226519337016574, 0.6818181818181818, 'x[2] <= 0.0\\ngini = 0.233\\nsamples = 485\\nvalue = [[0, 485]\\n[180, 305]]'),\n Text(0.9116022099447514, 0.6515151515151515, 'gini = 0.143\\nsamples = 29\\nvalue = [[0, 29]\\n[5, 24]]'),\n Text(0.9337016574585635, 0.6515151515151515, 'x[0] <= 0.0\\ngini = 0.236\\nsamples = 456\\nvalue = [[0, 456]\\n[175, 281]]'),\n Text(0.9226519337016574, 0.6212121212121212, 'gini = 0.249\\nsamples = 152\\nvalue = [[0, 152]\\n[72, 80]]'),\n Text(0.9447513812154696, 0.6212121212121212, 'gini = 0.224\\nsamples = 304\\nvalue = [[0, 304]\\n[103, 201]]'),\n Text(0.9447513812154696, 0.6818181818181818, 'gini = 0.133\\nsamples = 38\\nvalue = [[0, 38]\\n[6, 32]]'),\n Text(0.9558011049723757, 0.7121212121212122, 'gini = 0.122\\nsamples = 7\\nvalue = [[0, 7]\\n[6, 1]]'),\n Text(0.9668508287292817, 0.7424242424242424, 'gini = 0.249\\nsamples = 183\\nvalue = [[0, 183]\\n[85, 98]]'),\n Text(0.9668508287292817, 0.803030303030303, 'gini = 0.188\\nsamples = 340\\nvalue = [[0, 340]\\n[85, 255]]'),\n Text(0.9779005524861878, 0.8333333333333334, 'gini = 0.238\\nsamples = 131\\nvalue = [[0, 131]\\n[80, 51]]'),\n Text(0.988950276243094, 0.8636363636363636, 'gini = 0.066\\nsamples = 113\\nvalue = [[0, 113]\\n[8, 105]]')]"
     },
     "execution_count": 597,
     "metadata": {},
     "output_type": "execute_result"
    },
    {
     "data": {
      "text/plain": "<Figure size 640x480 with 1 Axes>",
      "image/png": "[encoded data removed]"
     },
     "metadata": {},
     "output_type": "display_data"
    }
   ],
   "source": [
    "tree.plot_tree(best_dt_model)"
   ],
   "metadata": {
    "collapsed": false,
    "pycharm": {
     "name": "#%%\n"
    }
   }
  },
  {
   "cell_type": "markdown",
   "source": [
    "## Classifier NR. 2: random forest"
   ],
   "metadata": {
    "collapsed": false,
    "pycharm": {
     "name": "#%% md\n"
    }
   }
  },
  {
   "cell_type": "code",
   "execution_count": 598,
   "outputs": [
    {
     "name": "stdout",
     "output_type": "stream",
     "text": [
      "--- runtime --- 3.7659430503845215\n"
     ]
    }
   ],
   "source": [
    "start_time = time.time()\n",
    "random_forest = RandomForestClassifier(n_estimators=100,random_state=0)\n",
    "random_forest.fit(X_training,y_training)\n",
    "rf_prediction = random_forest.predict(X_test)\n",
    "print(\"--- runtime ---\" , (time.time() - start_time))"
   ],
   "metadata": {
    "collapsed": false,
    "pycharm": {
     "name": "#%%\n"
    }
   }
  },
  {
   "cell_type": "code",
   "execution_count": 599,
   "outputs": [
    {
     "name": "stdout",
     "output_type": "stream",
     "text": [
      "confusion matrix: [[2208  708]\n",
      " [ 716 5417]]\n",
      "accuracy: 0.6823958448447343\n",
      "precision: 0.8327700443425046\n",
      "recall: 0.8030446070332783\n",
      "F1: 0.8167363576397217\n",
      "Cross validated scores: [0.68363722 0.6881364  0.67677007 0.68972051 0.68829938]\n"
     ]
    }
   ],
   "source": [
    "print(\"confusion matrix:\",metrics.confusion_matrix(y_test['sex_encode'], rf_prediction.transpose()[0]))\n",
    "print(\"accuracy:\",metrics.accuracy_score(y_test, rf_prediction))\n",
    "print(\"precision:\",metrics.precision_score(y_test, rf_prediction, average='weighted'))\n",
    "print(\"recall:\",metrics.recall_score(y_test, rf_prediction, average='weighted'))\n",
    "print(\"F1:\",metrics.f1_score(y_test, rf_prediction, average='weighted'))\n",
    "\n",
    "cv_scores = cross_val_score(random_forest,X_training,y_training,cv=5)\n",
    "print(\"Cross validated scores:\",cv_scores)"
   ],
   "metadata": {
    "collapsed": false,
    "pycharm": {
     "name": "#%%\n"
    }
   }
  },
  {
   "cell_type": "code",
   "execution_count": 600,
   "outputs": [],
   "source": [
    "random_forest = RandomForestClassifier()\n",
    "parameters = {'criterion': ['entropy', 'gini'],\n",
    "                'max_depth': randint(1, 50),\n",
    "                'min_samples_split':  randint(2, 1000),\n",
    "                'max_features': ['sqrt', 'log2', None]}"
   ],
   "metadata": {
    "collapsed": false,
    "pycharm": {
     "name": "#%%\n"
    }
   }
  },
  {
   "cell_type": "markdown",
   "source": [
    "### Finding best random forest"
   ],
   "metadata": {
    "collapsed": false,
    "pycharm": {
     "name": "#%% md\n"
    }
   }
  },
  {
   "cell_type": "code",
   "execution_count": 601,
   "outputs": [
    {
     "name": "stdout",
     "output_type": "stream",
     "text": [
      " Results from Random Search CV\n",
      "\n",
      " The best estimator across searched params:\n",
      " RandomForestClassifier(criterion='entropy', max_depth=24, max_features=None,\n",
      "                       min_samples_split=48)\n",
      "\n",
      " The best score across searched params:\n",
      " 0.6955429489162622\n",
      "\n",
      " The best parameters across searched params:\n",
      " {'criterion': 'entropy', 'max_depth': 24, 'max_features': None, 'min_samples_split': 48}\n",
      "\n",
      " The best cross validation strategy:\n",
      " 2\n"
     ]
    }
   ],
   "source": [
    "best_random_forest = sklearn.model_selection.RandomizedSearchCV(estimator=random_forest, param_distributions = parameters,cv = 2, n_iter = 50, n_jobs=-1)\n",
    "best_random_forest.fit(X_training, y_training)\n",
    "\n",
    "print(\" Results from Random Search CV\" )\n",
    "print(\"\\n The best estimator across searched params:\\n\", best_random_forest.best_estimator_)\n",
    "print(\"\\n The best score across searched params:\\n\", best_random_forest.best_score_)\n",
    "print(\"\\n The best parameters across searched params:\\n\", best_random_forest.best_params_)\n",
    "print(\"\\n The best cross validation strategy:\\n\", best_random_forest.cv)"
   ],
   "metadata": {
    "collapsed": false,
    "pycharm": {
     "name": "#%%\n"
    }
   }
  },
  {
   "cell_type": "code",
   "execution_count": 602,
   "outputs": [
    {
     "name": "stdout",
     "output_type": "stream",
     "text": [
      "--- runtime --- 17.612901210784912\n",
      "time for fitting: 17.45252299308777\n",
      "time for prediction: 0.16037821769714355\n"
     ]
    }
   ],
   "source": [
    "start_time = time.time()\n",
    "best_rf_model = best_random_forest.best_estimator_\n",
    "best_rf_model = best_rf_model.fit(X_training,y_training)\n",
    "finished_time_fitting = time.time()\n",
    "best_rf_prediction = best_rf_model.predict(X_test)\n",
    "finished_time_prediction = time.time()\n",
    "print(\"--- runtime ---\" , (finished_time_prediction - start_time))\n",
    "print(f\"time for fitting: {finished_time_fitting - start_time}\")\n",
    "print(f\"time for prediction: {finished_time_prediction - finished_time_fitting}\")\n",
    "best_models['random_forest'] = best_rf_model"
   ],
   "metadata": {
    "collapsed": false,
    "pycharm": {
     "name": "#%%\n"
    }
   }
  },
  {
   "cell_type": "markdown",
   "source": [
    "### inverse transform y - features"
   ],
   "metadata": {
    "collapsed": false,
    "pycharm": {
     "name": "#%% md\n"
    }
   }
  },
  {
   "cell_type": "code",
   "execution_count": 603,
   "outputs": [],
   "source": [
    "y_best_rf_prediction_sex = lbencod_sex.inverse_transform(best_rf_prediction.transpose()[0])\n",
    "y_test_sex = lbencod_sex.inverse_transform(y_test['sex_encode'])\n",
    "y_best_rf_prediction_income = lbencod_income.inverse_transform(best_dt_prediction.transpose()[1])\n",
    "y_test_income = lbencod_income.inverse_transform(y_test['income_encode'])"
   ],
   "metadata": {
    "collapsed": false,
    "pycharm": {
     "name": "#%%\n"
    }
   }
  },
  {
   "cell_type": "code",
   "execution_count": 604,
   "outputs": [
    {
     "data": {
      "text/plain": "<Figure size 640x480 with 2 Axes>",
      "image/png": "[encoded data removed]"
     },
     "metadata": {},
     "output_type": "display_data"
    },
    {
     "data": {
      "text/plain": "<Figure size 640x480 with 2 Axes>",
      "image/png": "[encoded data removed]"
     },
     "metadata": {},
     "output_type": "display_data"
    },
    {
     "name": "stdout",
     "output_type": "stream",
     "text": [
      "accuracy: 0.6953254503260029\n",
      "precision: 0.8483816700525876\n",
      "recall: 0.7970261977814491\n",
      "F1: 0.8204497131121629\n",
      "Cross validated scores: [0.70187071 0.70660668 0.69358276 0.69208906 0.69587873]\n"
     ]
    }
   ],
   "source": [
    "best_rf_cm = metrics.confusion_matrix(y_test_sex, y_best_rf_prediction_sex)\n",
    "sns.heatmap(best_rf_cm, annot=True, cmap='Blues', fmt='d')\n",
    "plt.xlabel('Predicted labels')\n",
    "plt.ylabel('True labels')\n",
    "plt.title('Confusion Matrix - sex')\n",
    "plt.show()\n",
    "\n",
    "best_rf_cm = metrics.confusion_matrix(y_test_income, y_best_rf_prediction_income)\n",
    "sns.heatmap(best_rf_cm, annot=True, cmap='Blues', fmt='d')\n",
    "plt.xlabel('Predicted labels')\n",
    "plt.ylabel('True labels')\n",
    "plt.title('Confusion Matrix - income')\n",
    "plt.show()\n",
    "\n",
    "print(\"accuracy:\",metrics.accuracy_score(y_test,best_rf_prediction))\n",
    "print(\"precision:\",metrics.precision_score(y_test,best_rf_prediction, average='weighted'))\n",
    "print(\"recall:\",metrics.recall_score(y_test,best_rf_prediction, average='weighted'))\n",
    "print(\"F1:\",metrics.f1_score(y_test,best_rf_prediction, average='weighted'))\n",
    "\n",
    "cv_scores = cross_val_score(best_rf_model,X_training,y_training,cv=5)\n",
    "print(\"Cross validated scores:\",cv_scores)"
   ],
   "metadata": {
    "collapsed": false,
    "pycharm": {
     "name": "#%%\n"
    }
   }
  },
  {
   "cell_type": "markdown",
   "source": [
    "## Classifier Nr. 3 : KNN"
   ],
   "metadata": {
    "collapsed": false,
    "pycharm": {
     "name": "#%% md\n"
    }
   }
  },
  {
   "cell_type": "code",
   "execution_count": 665,
   "outputs": [],
   "source": [
    "\n",
    "# using the kNN classifier\n",
    "knn = KNeighborsClassifier()\n",
    "parameters = {'n_neighbors': randint(1, 50),\n",
    "              'weights': ['uniform', 'distance'],\n",
    "              'algorithm': ['brute']}\n"
   ],
   "metadata": {
    "collapsed": false,
    "pycharm": {
     "name": "#%%\n"
    }
   }
  },
  {
   "cell_type": "markdown",
   "source": [
    "### Finding the best KNN"
   ],
   "metadata": {
    "collapsed": false,
    "pycharm": {
     "name": "#%% md\n"
    }
   }
  },
  {
   "cell_type": "code",
   "execution_count": 666,
   "outputs": [
    {
     "name": "stdout",
     "output_type": "stream",
     "text": [
      " Results from Random Search CV\n",
      "\n",
      " The best estimator across searched params:\n",
      " KNeighborsClassifier(algorithm='brute', n_neighbors=37)\n",
      "\n",
      " The best score across searched params:\n",
      " 0.640909689960792\n",
      "\n",
      " The best parameters across searched params:\n",
      " {'algorithm': 'brute', 'n_neighbors': 37, 'weights': 'uniform'}\n",
      "\n",
      " The best cross validation strategy:\n",
      " None\n"
     ]
    }
   ],
   "source": [
    "best_KNN = sklearn.model_selection.RandomizedSearchCV(estimator=knn, param_distributions=parameters, n_iter=50, n_jobs=5)\n",
    "best_KNN.fit(X_training, y_training)\n",
    "\n",
    "print(\" Results from Random Search CV\" )\n",
    "print(\"\\n The best estimator across searched params:\\n\", best_KNN.best_estimator_)\n",
    "print(\"\\n The best score across searched params:\\n\", best_KNN.best_score_)\n",
    "print(\"\\n The best parameters across searched params:\\n\", best_KNN.best_params_)\n",
    "print(\"\\n The best cross validation strategy:\\n\", best_KNN.cv)"
   ],
   "metadata": {
    "collapsed": false,
    "pycharm": {
     "name": "#%%\n"
    }
   }
  },
  {
   "cell_type": "markdown",
   "source": [
    "### Training the model"
   ],
   "metadata": {
    "collapsed": false,
    "pycharm": {
     "name": "#%% md\n"
    }
   }
  },
  {
   "cell_type": "code",
   "execution_count": 667,
   "outputs": [
    {
     "name": "stdout",
     "output_type": "stream",
     "text": [
      "--- runtime --- 2.2751517295837402\n",
      "time for fitting: 0.006292819976806641\n",
      "time for prediction: 2.2688589096069336\n"
     ]
    }
   ],
   "source": [
    "start_time = time.time()\n",
    "best_knn_model = best_KNN.best_estimator_\n",
    "best_knn_model = best_knn_model.fit(X_training, y_training)\n",
    "finished_time_fitting = time.time()\n",
    "best_knn_prediction = best_knn_model.predict(X_test)\n",
    "finished_time_prediction = time.time()\n",
    "print(\"--- runtime ---\" , (finished_time_prediction - start_time))\n",
    "print(f\"time for fitting: {finished_time_fitting - start_time}\")\n",
    "print(f\"time for prediction: {finished_time_prediction - finished_time_fitting}\")\n",
    "best_models['knn'] = best_knn_model\n"
   ],
   "metadata": {
    "collapsed": false,
    "pycharm": {
     "name": "#%%\n"
    }
   }
  },
  {
   "cell_type": "markdown",
   "source": [
    "### inverse transform y - features"
   ],
   "metadata": {
    "collapsed": false,
    "pycharm": {
     "name": "#%% md\n"
    }
   }
  },
  {
   "cell_type": "code",
   "execution_count": 668,
   "outputs": [],
   "source": [
    "y_best_knn_prediction_sex = lbencod_sex.inverse_transform(best_knn_prediction.transpose()[0])\n",
    "y_test_sex = lbencod_sex.inverse_transform(y_test['sex_encode'])\n",
    "y_best_knn_prediction_income = lbencod_income.inverse_transform(best_knn_prediction.transpose()[1])\n",
    "y_test_income = lbencod_income.inverse_transform(y_test['income_encode'])"
   ],
   "metadata": {
    "collapsed": false,
    "pycharm": {
     "name": "#%%\n"
    }
   }
  },
  {
   "cell_type": "code",
   "execution_count": 669,
   "outputs": [
    {
     "data": {
      "text/plain": "<Figure size 640x480 with 2 Axes>",
      "image/png": "[encoded data removed]"
     },
     "metadata": {},
     "output_type": "display_data"
    },
    {
     "data": {
      "text/plain": "<Figure size 640x480 with 2 Axes>",
      "image/png": "[encoded data removed]"
     },
     "metadata": {},
     "output_type": "display_data"
    },
    {
     "name": "stdout",
     "output_type": "stream",
     "text": [
      "accuracy: 0.6190967361673911\n",
      "precision: 0.7762451746870658\n",
      "recall: 0.7858878839794414\n",
      "F1: 0.7757477900972528\n",
      "Cross validated scores: [0.65728477 0.61691542 0.66666667 0.6053068  0.65837479]\n"
     ]
    }
   ],
   "source": [
    "best_knn_cm = metrics.confusion_matrix(y_test_income, y_best_knn_prediction_income)\n",
    "sns.heatmap(best_knn_cm, annot=True, cmap='Blues', fmt='d')\n",
    "plt.xlabel('Predicted labels')\n",
    "plt.ylabel('True labels')\n",
    "plt.title('Confusion Matrix - income')\n",
    "plt.show()\n",
    "\n",
    "best_knn_cm = metrics.confusion_matrix(y_test_sex, y_best_knn_prediction_sex)\n",
    "sns.heatmap(best_knn_cm, annot=True, cmap='Blues', fmt='d')\n",
    "plt.xlabel('Predicted labels')\n",
    "plt.ylabel('True labels')\n",
    "plt.title('Confusion Matrix - sex')\n",
    "plt.show()\n",
    "\n",
    "print(\"accuracy:\",metrics.accuracy_score(y_test,best_knn_prediction))\n",
    "print(\"precision:\",metrics.precision_score(y_test,best_knn_prediction, average='weighted'))\n",
    "print(\"recall:\",metrics.recall_score(y_test,best_knn_prediction, average='weighted'))\n",
    "print(\"F1:\",metrics.f1_score(y_test,best_knn_prediction, average='weighted'))\n",
    "\n",
    "cv_scores = cross_val_score(best_knn_model,X_training,y_training,cv=5)\n",
    "print(\"Cross validated scores:\",cv_scores)\n"
   ],
   "metadata": {
    "collapsed": false,
    "pycharm": {
     "name": "#%%\n"
    }
   }
  },
  {
   "cell_type": "markdown",
   "source": [
    "## Evaluation"
   ],
   "metadata": {
    "collapsed": false,
    "pycharm": {
     "name": "#%% md\n"
    }
   }
  },
  {
   "cell_type": "code",
   "execution_count": 670,
   "outputs": [],
   "source": [
    "def eval_function(y_test, best_prediction):\n",
    "    print(\"accuracy:\",metrics.accuracy_score(y_test,best_prediction))\n",
    "    print(\"precision:\",metrics.precision_score(y_test,best_prediction, average='weighted'))\n",
    "    print(\"recall:\",metrics.recall_score(y_test,best_prediction, average='weighted'))\n",
    "    print(\"F1:\",metrics.f1_score(y_test,best_prediction, average='weighted'))\n"
   ],
   "metadata": {
    "collapsed": false,
    "pycharm": {
     "name": "#%%\n"
    }
   }
  },
  {
   "cell_type": "code",
   "execution_count": 671,
   "outputs": [],
   "source": [
    "best_prediction_dict = {}\n",
    "for name, best_model in best_models.items():\n",
    "    best_prediction_dict[name] = best_model.predict(X_test)"
   ],
   "metadata": {
    "collapsed": false,
    "pycharm": {
     "name": "#%%\n"
    }
   }
  },
  {
   "cell_type": "code",
   "execution_count": 672,
   "outputs": [
    {
     "name": "stdout",
     "output_type": "stream",
     "text": [
      "\t decision_tree \n",
      "accuracy: 0.6561924408752671\n",
      "precision: 0.8089689532881164\n",
      "recall: 0.7928204310928723\n",
      "F1: 0.7976114624122078\n",
      "\n",
      "\n",
      "\t knn \n",
      "accuracy: 0.6190967361673911\n",
      "precision: 0.7762451746870658\n",
      "recall: 0.7858878839794414\n",
      "F1: 0.7757477900972528\n",
      "\n",
      "\n"
     ]
    }
   ],
   "source": [
    "for name, best_prediction in best_prediction_dict.items():\n",
    "    print(f'\\t {name} ')\n",
    "    eval_function(y_test, best_prediction)\n",
    "    print('\\n')"
   ],
   "metadata": {
    "collapsed": false,
    "pycharm": {
     "name": "#%%\n"
    }
   }
  },
  {
   "cell_type": "code",
   "execution_count": 612,
   "outputs": [],
   "source": [],
   "metadata": {
    "collapsed": false,
    "pycharm": {
     "name": "#%%\n"
    }
   }
  }
 ],
 "metadata": {
  "kernelspec": {
   "display_name": "Python 3",
   "language": "python",
   "name": "python3"
  },
  "language_info": {
   "codemirror_mode": {
    "name": "ipython",
    "version": 2
   },
   "file_extension": ".py",
   "mimetype": "text/x-python",
   "name": "python",
   "nbconvert_exporter": "python",
   "pygments_lexer": "ipython2",
   "version": "2.7.6"
  }
 },
 "nbformat": 4,
 "nbformat_minor": 0
}