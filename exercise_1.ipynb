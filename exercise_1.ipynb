{
 "cells": [
  {
   "cell_type": "code",
   "execution_count": 1,
   "metadata": {
    "collapsed": true,
    "pycharm": {
     "name": "#%%\n"
    }
   },
   "outputs": [],
   "source": [
    "import pandas as pd\n",
    "# read in data\n",
    "df = pd.read_csv(\"adult.data\",names = [\"age\",\"workclass\",\"fnlwgt\",\"education\",\"education_num\",\"marital_status\",\"occupation\",\"relationship\",\"race\",\"sex\",\"capital_gain\",\"capital_loss\",\"hours_per_week\",\"native_country\",\"income\"])"
   ]
  },
  {
   "cell_type": "code",
   "execution_count": 2,
   "outputs": [
    {
     "data": {
      "text/plain": "   age          workclass  fnlwgt   education  education_num  \\\n0   39          State-gov   77516   Bachelors             13   \n1   50   Self-emp-not-inc   83311   Bachelors             13   \n2   38            Private  215646     HS-grad              9   \n3   53            Private  234721        11th              7   \n4   28            Private  338409   Bachelors             13   \n\n        marital_status          occupation    relationship    race      sex  \\\n0        Never-married        Adm-clerical   Not-in-family   White     Male   \n1   Married-civ-spouse     Exec-managerial         Husband   White     Male   \n2             Divorced   Handlers-cleaners   Not-in-family   White     Male   \n3   Married-civ-spouse   Handlers-cleaners         Husband   Black     Male   \n4   Married-civ-spouse      Prof-specialty            Wife   Black   Female   \n\n   capital_gain  capital_loss  hours_per_week  native_country  income  \n0          2174             0              40   United-States   <=50K  \n1             0             0              13   United-States   <=50K  \n2             0             0              40   United-States   <=50K  \n3             0             0              40   United-States   <=50K  \n4             0             0              40            Cuba   <=50K  ",
      "text/html": "<div>\n<style scoped>\n    .dataframe tbody tr th:only-of-type {\n        vertical-align: middle;\n    }\n\n    .dataframe tbody tr th {\n        vertical-align: top;\n    }\n\n    .dataframe thead th {\n        text-align: right;\n    }\n</style>\n<table border=\"1\" class=\"dataframe\">\n  <thead>\n    <tr style=\"text-align: right;\">\n      <th></th>\n      <th>age</th>\n      <th>workclass</th>\n      <th>fnlwgt</th>\n      <th>education</th>\n      <th>education_num</th>\n      <th>marital_status</th>\n      <th>occupation</th>\n      <th>relationship</th>\n      <th>race</th>\n      <th>sex</th>\n      <th>capital_gain</th>\n      <th>capital_loss</th>\n      <th>hours_per_week</th>\n      <th>native_country</th>\n      <th>income</th>\n    </tr>\n  </thead>\n  <tbody>\n    <tr>\n      <th>0</th>\n      <td>39</td>\n      <td>State-gov</td>\n      <td>77516</td>\n      <td>Bachelors</td>\n      <td>13</td>\n      <td>Never-married</td>\n      <td>Adm-clerical</td>\n      <td>Not-in-family</td>\n      <td>White</td>\n      <td>Male</td>\n      <td>2174</td>\n      <td>0</td>\n      <td>40</td>\n      <td>United-States</td>\n      <td>&lt;=50K</td>\n    </tr>\n    <tr>\n      <th>1</th>\n      <td>50</td>\n      <td>Self-emp-not-inc</td>\n      <td>83311</td>\n      <td>Bachelors</td>\n      <td>13</td>\n      <td>Married-civ-spouse</td>\n      <td>Exec-managerial</td>\n      <td>Husband</td>\n      <td>White</td>\n      <td>Male</td>\n      <td>0</td>\n      <td>0</td>\n      <td>13</td>\n      <td>United-States</td>\n      <td>&lt;=50K</td>\n    </tr>\n    <tr>\n      <th>2</th>\n      <td>38</td>\n      <td>Private</td>\n      <td>215646</td>\n      <td>HS-grad</td>\n      <td>9</td>\n      <td>Divorced</td>\n      <td>Handlers-cleaners</td>\n      <td>Not-in-family</td>\n      <td>White</td>\n      <td>Male</td>\n      <td>0</td>\n      <td>0</td>\n      <td>40</td>\n      <td>United-States</td>\n      <td>&lt;=50K</td>\n    </tr>\n    <tr>\n      <th>3</th>\n      <td>53</td>\n      <td>Private</td>\n      <td>234721</td>\n      <td>11th</td>\n      <td>7</td>\n      <td>Married-civ-spouse</td>\n      <td>Handlers-cleaners</td>\n      <td>Husband</td>\n      <td>Black</td>\n      <td>Male</td>\n      <td>0</td>\n      <td>0</td>\n      <td>40</td>\n      <td>United-States</td>\n      <td>&lt;=50K</td>\n    </tr>\n    <tr>\n      <th>4</th>\n      <td>28</td>\n      <td>Private</td>\n      <td>338409</td>\n      <td>Bachelors</td>\n      <td>13</td>\n      <td>Married-civ-spouse</td>\n      <td>Prof-specialty</td>\n      <td>Wife</td>\n      <td>Black</td>\n      <td>Female</td>\n      <td>0</td>\n      <td>0</td>\n      <td>40</td>\n      <td>Cuba</td>\n      <td>&lt;=50K</td>\n    </tr>\n  </tbody>\n</table>\n</div>"
     },
     "execution_count": 2,
     "metadata": {},
     "output_type": "execute_result"
    }
   ],
   "source": [
    "# Display for exploring data\n",
    "df.head()"
   ],
   "metadata": {
    "collapsed": false,
    "pycharm": {
     "name": "#%%\n"
    }
   }
  },
  {
   "cell_type": "code",
   "execution_count": 3,
   "outputs": [
    {
     "data": {
      "text/plain": "(32561, 15)"
     },
     "execution_count": 3,
     "metadata": {},
     "output_type": "execute_result"
    }
   ],
   "source": [
    "# Display for exploring data\n",
    "df.shape"
   ],
   "metadata": {
    "collapsed": false,
    "pycharm": {
     "name": "#%%\n"
    }
   }
  },
  {
   "cell_type": "code",
   "execution_count": 4,
   "outputs": [
    {
     "name": "stdout",
     "output_type": "stream",
     "text": [
      "<class 'pandas.core.frame.DataFrame'>\n",
      "RangeIndex: 32561 entries, 0 to 32560\n",
      "Data columns (total 15 columns):\n",
      " #   Column          Non-Null Count  Dtype \n",
      "---  ------          --------------  ----- \n",
      " 0   age             32561 non-null  int64 \n",
      " 1   workclass       32561 non-null  object\n",
      " 2   fnlwgt          32561 non-null  int64 \n",
      " 3   education       32561 non-null  object\n",
      " 4   education_num   32561 non-null  int64 \n",
      " 5   marital_status  32561 non-null  object\n",
      " 6   occupation      32561 non-null  object\n",
      " 7   relationship    32561 non-null  object\n",
      " 8   race            32561 non-null  object\n",
      " 9   sex             32561 non-null  object\n",
      " 10  capital_gain    32561 non-null  int64 \n",
      " 11  capital_loss    32561 non-null  int64 \n",
      " 12  hours_per_week  32561 non-null  int64 \n",
      " 13  native_country  32561 non-null  object\n",
      " 14  income          32561 non-null  object\n",
      "dtypes: int64(6), object(9)\n",
      "memory usage: 3.7+ MB\n"
     ]
    }
   ],
   "source": [
    "# Display for exploring data\n",
    "df.info()"
   ],
   "metadata": {
    "collapsed": false,
    "pycharm": {
     "name": "#%%\n"
    }
   }
  },
  {
   "cell_type": "code",
   "execution_count": 5,
   "outputs": [
    {
     "data": {
      "text/plain": "age               0\nworkclass         0\nfnlwgt            0\neducation         0\neducation_num     0\nmarital_status    0\noccupation        0\nrelationship      0\nrace              0\nsex               0\ncapital_gain      0\ncapital_loss      0\nhours_per_week    0\nnative_country    0\nincome            0\ndtype: int64"
     },
     "execution_count": 5,
     "metadata": {},
     "output_type": "execute_result"
    }
   ],
   "source": [
    "# checking missing values\n",
    "df.isnull().sum()"
   ],
   "metadata": {
    "collapsed": false,
    "pycharm": {
     "name": "#%%\n"
    }
   }
  },
  {
   "cell_type": "code",
   "execution_count": 6,
   "outputs": [],
   "source": [
    "# separate numerical data\n",
    "df_numeric = df[['age', 'fnlwgt', 'education_num', 'capital_gain', 'capital_loss', 'hours_per_week']].copy()"
   ],
   "metadata": {
    "collapsed": false,
    "pycharm": {
     "name": "#%%\n"
    }
   }
  },
  {
   "cell_type": "code",
   "execution_count": 7,
   "outputs": [
    {
     "data": {
      "text/plain": "                age        fnlwgt  education_num  capital_gain  capital_loss  \\\ncount  3.256100e+04  3.256100e+04   3.256100e+04  3.256100e+04  3.256100e+04   \nmean  -2.705915e-17 -1.001625e-16   1.471887e-16  1.309314e-17  1.016900e-16   \nstd    1.000015e+00  1.000015e+00   1.000015e+00  1.000015e+00  1.000015e+00   \nmin   -1.582206e+00 -1.681631e+00  -3.529656e+00 -1.459205e-01 -2.166595e-01   \n25%   -7.757679e-01 -6.816910e-01  -4.200596e-01 -1.459205e-01 -2.166595e-01   \n50%   -1.159546e-01 -1.082193e-01  -3.136003e-02 -1.459205e-01 -2.166595e-01   \n75%    6.904838e-01  4.478765e-01   7.460392e-01 -1.459205e-01 -2.166595e-01   \nmax    3.769612e+00  1.226856e+01   2.300838e+00  1.339458e+01  1.059351e+01   \n\n       hours_per_week  \ncount    3.256100e+04  \nmean    -1.549355e-17  \nstd      1.000015e+00  \nmin     -3.194030e+00  \n25%     -3.542945e-02  \n50%     -3.542945e-02  \n75%      3.695194e-01  \nmax      4.742967e+00  ",
      "text/html": "<div>\n<style scoped>\n    .dataframe tbody tr th:only-of-type {\n        vertical-align: middle;\n    }\n\n    .dataframe tbody tr th {\n        vertical-align: top;\n    }\n\n    .dataframe thead th {\n        text-align: right;\n    }\n</style>\n<table border=\"1\" class=\"dataframe\">\n  <thead>\n    <tr style=\"text-align: right;\">\n      <th></th>\n      <th>age</th>\n      <th>fnlwgt</th>\n      <th>education_num</th>\n      <th>capital_gain</th>\n      <th>capital_loss</th>\n      <th>hours_per_week</th>\n    </tr>\n  </thead>\n  <tbody>\n    <tr>\n      <th>count</th>\n      <td>3.256100e+04</td>\n      <td>3.256100e+04</td>\n      <td>3.256100e+04</td>\n      <td>3.256100e+04</td>\n      <td>3.256100e+04</td>\n      <td>3.256100e+04</td>\n    </tr>\n    <tr>\n      <th>mean</th>\n      <td>-2.705915e-17</td>\n      <td>-1.001625e-16</td>\n      <td>1.471887e-16</td>\n      <td>1.309314e-17</td>\n      <td>1.016900e-16</td>\n      <td>-1.549355e-17</td>\n    </tr>\n    <tr>\n      <th>std</th>\n      <td>1.000015e+00</td>\n      <td>1.000015e+00</td>\n      <td>1.000015e+00</td>\n      <td>1.000015e+00</td>\n      <td>1.000015e+00</td>\n      <td>1.000015e+00</td>\n    </tr>\n    <tr>\n      <th>min</th>\n      <td>-1.582206e+00</td>\n      <td>-1.681631e+00</td>\n      <td>-3.529656e+00</td>\n      <td>-1.459205e-01</td>\n      <td>-2.166595e-01</td>\n      <td>-3.194030e+00</td>\n    </tr>\n    <tr>\n      <th>25%</th>\n      <td>-7.757679e-01</td>\n      <td>-6.816910e-01</td>\n      <td>-4.200596e-01</td>\n      <td>-1.459205e-01</td>\n      <td>-2.166595e-01</td>\n      <td>-3.542945e-02</td>\n    </tr>\n    <tr>\n      <th>50%</th>\n      <td>-1.159546e-01</td>\n      <td>-1.082193e-01</td>\n      <td>-3.136003e-02</td>\n      <td>-1.459205e-01</td>\n      <td>-2.166595e-01</td>\n      <td>-3.542945e-02</td>\n    </tr>\n    <tr>\n      <th>75%</th>\n      <td>6.904838e-01</td>\n      <td>4.478765e-01</td>\n      <td>7.460392e-01</td>\n      <td>-1.459205e-01</td>\n      <td>-2.166595e-01</td>\n      <td>3.695194e-01</td>\n    </tr>\n    <tr>\n      <th>max</th>\n      <td>3.769612e+00</td>\n      <td>1.226856e+01</td>\n      <td>2.300838e+00</td>\n      <td>1.339458e+01</td>\n      <td>1.059351e+01</td>\n      <td>4.742967e+00</td>\n    </tr>\n  </tbody>\n</table>\n</div>"
     },
     "execution_count": 7,
     "metadata": {},
     "output_type": "execute_result"
    }
   ],
   "source": [
    "from sklearn.preprocessing import StandardScaler\n",
    "\n",
    "# standardization of numeric values\n",
    "scaler = StandardScaler()\n",
    "df_numeric_sc = pd.DataFrame(scaler.fit_transform(df_numeric))\n",
    "df_numeric_sc.rename(mapper=dict(zip(df_numeric_sc.columns, df_numeric.columns)), axis=1, inplace=True)\n",
    "df_numeric_sc.describe()"
   ],
   "metadata": {
    "collapsed": false,
    "pycharm": {
     "name": "#%%\n"
    }
   }
  },
  {
   "cell_type": "code",
   "execution_count": 8,
   "outputs": [
    {
     "data": {
      "text/plain": "                age        fnlwgt  education_num  capital_gain  capital_loss  \\\ncount  32561.000000  32561.000000   32561.000000  32561.000000  32561.000000   \nmean       0.000308      0.998796       0.000080      0.007050      0.000691   \nstd        0.000311      0.016682       0.000076      0.045375      0.004263   \nmin        0.000017      0.246804       0.000002      0.000000      0.000000   \n25%        0.000135      1.000000       0.000039      0.000000      0.000000   \n50%        0.000213      1.000000       0.000056      0.000000      0.000000   \n75%        0.000349      1.000000       0.000087      0.000000      0.000000   \nmax        0.003980      1.000000       0.001008      0.969065      0.094350   \n\n       hours_per_week  \ncount    32561.000000  \nmean         0.000321  \nstd          0.000325  \nmin          0.000003  \n25%          0.000153  \n50%          0.000225  \n75%          0.000348  \nmax          0.004177  ",
      "text/html": "<div>\n<style scoped>\n    .dataframe tbody tr th:only-of-type {\n        vertical-align: middle;\n    }\n\n    .dataframe tbody tr th {\n        vertical-align: top;\n    }\n\n    .dataframe thead th {\n        text-align: right;\n    }\n</style>\n<table border=\"1\" class=\"dataframe\">\n  <thead>\n    <tr style=\"text-align: right;\">\n      <th></th>\n      <th>age</th>\n      <th>fnlwgt</th>\n      <th>education_num</th>\n      <th>capital_gain</th>\n      <th>capital_loss</th>\n      <th>hours_per_week</th>\n    </tr>\n  </thead>\n  <tbody>\n    <tr>\n      <th>count</th>\n      <td>32561.000000</td>\n      <td>32561.000000</td>\n      <td>32561.000000</td>\n      <td>32561.000000</td>\n      <td>32561.000000</td>\n      <td>32561.000000</td>\n    </tr>\n    <tr>\n      <th>mean</th>\n      <td>0.000308</td>\n      <td>0.998796</td>\n      <td>0.000080</td>\n      <td>0.007050</td>\n      <td>0.000691</td>\n      <td>0.000321</td>\n    </tr>\n    <tr>\n      <th>std</th>\n      <td>0.000311</td>\n      <td>0.016682</td>\n      <td>0.000076</td>\n      <td>0.045375</td>\n      <td>0.004263</td>\n      <td>0.000325</td>\n    </tr>\n    <tr>\n      <th>min</th>\n      <td>0.000017</td>\n      <td>0.246804</td>\n      <td>0.000002</td>\n      <td>0.000000</td>\n      <td>0.000000</td>\n      <td>0.000003</td>\n    </tr>\n    <tr>\n      <th>25%</th>\n      <td>0.000135</td>\n      <td>1.000000</td>\n      <td>0.000039</td>\n      <td>0.000000</td>\n      <td>0.000000</td>\n      <td>0.000153</td>\n    </tr>\n    <tr>\n      <th>50%</th>\n      <td>0.000213</td>\n      <td>1.000000</td>\n      <td>0.000056</td>\n      <td>0.000000</td>\n      <td>0.000000</td>\n      <td>0.000225</td>\n    </tr>\n    <tr>\n      <th>75%</th>\n      <td>0.000349</td>\n      <td>1.000000</td>\n      <td>0.000087</td>\n      <td>0.000000</td>\n      <td>0.000000</td>\n      <td>0.000348</td>\n    </tr>\n    <tr>\n      <th>max</th>\n      <td>0.003980</td>\n      <td>1.000000</td>\n      <td>0.001008</td>\n      <td>0.969065</td>\n      <td>0.094350</td>\n      <td>0.004177</td>\n    </tr>\n  </tbody>\n</table>\n</div>"
     },
     "execution_count": 8,
     "metadata": {},
     "output_type": "execute_result"
    }
   ],
   "source": [
    "from sklearn.preprocessing import Normalizer\n",
    "\n",
    "# normalize numeric data\n",
    "normal = Normalizer()\n",
    "df_numeric_nrm = pd.DataFrame(normal.fit_transform(df_numeric))\n",
    "df_numeric_nrm.rename(mapper=dict(zip(df_numeric_nrm.columns, df_numeric)), axis=1, inplace=True)\n",
    "df_numeric_nrm.describe()"
   ],
   "metadata": {
    "collapsed": false,
    "pycharm": {
     "name": "#%%\n"
    }
   }
  },
  {
   "cell_type": "code",
   "execution_count": 9,
   "outputs": [],
   "source": [
    "# create dataframe for categorical data\n",
    "df_cat = df[['workclass', 'education', 'marital_status', 'occupation', 'relationship', 'race', 'sex', 'native_country', 'income']].copy()"
   ],
   "metadata": {
    "collapsed": false,
    "pycharm": {
     "name": "#%%\n"
    }
   }
  },
  {
   "cell_type": "code",
   "execution_count": 10,
   "outputs": [
    {
     "data": {
      "text/plain": "array([' State-gov', ' Self-emp-not-inc', ' Private', ' Federal-gov',\n       ' Local-gov', ' ?', ' Self-emp-inc', ' Without-pay',\n       ' Never-worked'], dtype=object)"
     },
     "execution_count": 10,
     "metadata": {},
     "output_type": "execute_result"
    }
   ],
   "source": [
    "# check how many work-classes exists. If there are more than two different values One-Hot-Encoding is used, otherwise Label-Encoding\n",
    "df_cat['workclass'].unique()\n",
    "# TODO there is a null - field which was not recognized from the further check - function !!!"
   ],
   "metadata": {
    "collapsed": false,
    "pycharm": {
     "name": "#%%\n"
    }
   }
  },
  {
   "cell_type": "code",
   "execution_count": 11,
   "outputs": [
    {
     "data": {
      "text/plain": "array([' Bachelors', ' HS-grad', ' 11th', ' Masters', ' 9th',\n       ' Some-college', ' Assoc-acdm', ' Assoc-voc', ' 7th-8th',\n       ' Doctorate', ' Prof-school', ' 5th-6th', ' 10th', ' 1st-4th',\n       ' Preschool', ' 12th'], dtype=object)"
     },
     "execution_count": 11,
     "metadata": {},
     "output_type": "execute_result"
    }
   ],
   "source": [
    "df_cat['education'].unique()"
   ],
   "metadata": {
    "collapsed": false,
    "pycharm": {
     "name": "#%%\n"
    }
   }
  },
  {
   "cell_type": "code",
   "execution_count": 12,
   "outputs": [
    {
     "data": {
      "text/plain": "array([' Never-married', ' Married-civ-spouse', ' Divorced',\n       ' Married-spouse-absent', ' Separated', ' Married-AF-spouse',\n       ' Widowed'], dtype=object)"
     },
     "execution_count": 12,
     "metadata": {},
     "output_type": "execute_result"
    }
   ],
   "source": [
    "df_cat['marital_status'].unique()"
   ],
   "metadata": {
    "collapsed": false,
    "pycharm": {
     "name": "#%%\n"
    }
   }
  },
  {
   "cell_type": "code",
   "execution_count": 13,
   "outputs": [
    {
     "data": {
      "text/plain": "array([' Adm-clerical', ' Exec-managerial', ' Handlers-cleaners',\n       ' Prof-specialty', ' Other-service', ' Sales', ' Craft-repair',\n       ' Transport-moving', ' Farming-fishing', ' Machine-op-inspct',\n       ' Tech-support', ' ?', ' Protective-serv', ' Armed-Forces',\n       ' Priv-house-serv'], dtype=object)"
     },
     "execution_count": 13,
     "metadata": {},
     "output_type": "execute_result"
    }
   ],
   "source": [
    "df_cat['occupation'].unique()\n",
    "# TODO contains ? -> is it an null value?"
   ],
   "metadata": {
    "collapsed": false,
    "pycharm": {
     "name": "#%%\n"
    }
   }
  },
  {
   "cell_type": "code",
   "execution_count": 14,
   "outputs": [
    {
     "data": {
      "text/plain": "array([' Not-in-family', ' Husband', ' Wife', ' Own-child', ' Unmarried',\n       ' Other-relative'], dtype=object)"
     },
     "execution_count": 14,
     "metadata": {},
     "output_type": "execute_result"
    }
   ],
   "source": [
    "df_cat['relationship'].unique()"
   ],
   "metadata": {
    "collapsed": false,
    "pycharm": {
     "name": "#%%\n"
    }
   }
  },
  {
   "cell_type": "code",
   "execution_count": 15,
   "outputs": [
    {
     "data": {
      "text/plain": "array([' White', ' Black', ' Asian-Pac-Islander', ' Amer-Indian-Eskimo',\n       ' Other'], dtype=object)"
     },
     "execution_count": 15,
     "metadata": {},
     "output_type": "execute_result"
    }
   ],
   "source": [
    "df_cat['race'].unique()"
   ],
   "metadata": {
    "collapsed": false,
    "pycharm": {
     "name": "#%%\n"
    }
   }
  },
  {
   "cell_type": "code",
   "execution_count": 16,
   "outputs": [
    {
     "data": {
      "text/plain": "array([' United-States', ' Cuba', ' Jamaica', ' India', ' ?', ' Mexico',\n       ' South', ' Puerto-Rico', ' Honduras', ' England', ' Canada',\n       ' Germany', ' Iran', ' Philippines', ' Italy', ' Poland',\n       ' Columbia', ' Cambodia', ' Thailand', ' Ecuador', ' Laos',\n       ' Taiwan', ' Haiti', ' Portugal', ' Dominican-Republic',\n       ' El-Salvador', ' France', ' Guatemala', ' China', ' Japan',\n       ' Yugoslavia', ' Peru', ' Outlying-US(Guam-USVI-etc)', ' Scotland',\n       ' Trinadad&Tobago', ' Greece', ' Nicaragua', ' Vietnam', ' Hong',\n       ' Ireland', ' Hungary', ' Holand-Netherlands'], dtype=object)"
     },
     "execution_count": 16,
     "metadata": {},
     "output_type": "execute_result"
    }
   ],
   "source": [
    "df_cat['native_country'].unique()"
   ],
   "metadata": {
    "collapsed": false,
    "pycharm": {
     "name": "#%%\n"
    }
   }
  },
  {
   "cell_type": "code",
   "execution_count": 17,
   "outputs": [
    {
     "data": {
      "text/plain": "array([' Male', ' Female'], dtype=object)"
     },
     "execution_count": 17,
     "metadata": {},
     "output_type": "execute_result"
    }
   ],
   "source": [
    "df_cat['sex'].unique()"
   ],
   "metadata": {
    "collapsed": false,
    "pycharm": {
     "name": "#%%\n"
    }
   }
  },
  {
   "cell_type": "code",
   "execution_count": 18,
   "outputs": [
    {
     "data": {
      "text/plain": "array([' <=50K', ' >50K'], dtype=object)"
     },
     "execution_count": 18,
     "metadata": {},
     "output_type": "execute_result"
    }
   ],
   "source": [
    "df_cat['income'].unique()"
   ],
   "metadata": {
    "collapsed": false,
    "pycharm": {
     "name": "#%%\n"
    }
   }
  },
  {
   "cell_type": "code",
   "execution_count": 19,
   "outputs": [
    {
     "data": {
      "text/plain": "                age        fnlwgt  education_num  capital_gain  capital_loss  \\\ncount  32561.000000  32561.000000   32561.000000  32561.000000  32561.000000   \nmean       0.000308      0.998796       0.000080      0.007050      0.000691   \nstd        0.000311      0.016682       0.000076      0.045375      0.004263   \nmin        0.000017      0.246804       0.000002      0.000000      0.000000   \n25%        0.000135      1.000000       0.000039      0.000000      0.000000   \n50%        0.000213      1.000000       0.000056      0.000000      0.000000   \n75%        0.000349      1.000000       0.000087      0.000000      0.000000   \nmax        0.003980      1.000000       0.001008      0.969065      0.094350   \n\n       hours_per_week    sex_encode  income_encode  workclass_ ?  \\\ncount    32561.000000  32561.000000   32561.000000  32561.000000   \nmean         0.000321      0.669205       0.240810      0.056386   \nstd          0.000325      0.470506       0.427581      0.230670   \nmin          0.000003      0.000000       0.000000      0.000000   \n25%          0.000153      0.000000       0.000000      0.000000   \n50%          0.000225      1.000000       0.000000      0.000000   \n75%          0.000348      1.000000       0.000000      0.000000   \nmax          0.004177      1.000000       1.000000      1.000000   \n\n       workclass_ Federal-gov  ...  native_country_ Portugal  \\\ncount            32561.000000  ...              32561.000000   \nmean                 0.029483  ...                  0.001136   \nstd                  0.169159  ...                  0.033691   \nmin                  0.000000  ...                  0.000000   \n25%                  0.000000  ...                  0.000000   \n50%                  0.000000  ...                  0.000000   \n75%                  0.000000  ...                  0.000000   \nmax                  1.000000  ...                  1.000000   \n\n       native_country_ Puerto-Rico  native_country_ Scotland  \\\ncount                 32561.000000              32561.000000   \nmean                      0.003501                  0.000369   \nstd                       0.059068                  0.019194   \nmin                       0.000000                  0.000000   \n25%                       0.000000                  0.000000   \n50%                       0.000000                  0.000000   \n75%                       0.000000                  0.000000   \nmax                       1.000000                  1.000000   \n\n       native_country_ South  native_country_ Taiwan  \\\ncount           32561.000000            32561.000000   \nmean                0.002457                0.001566   \nstd                 0.049507                0.039546   \nmin                 0.000000                0.000000   \n25%                 0.000000                0.000000   \n50%                 0.000000                0.000000   \n75%                 0.000000                0.000000   \nmax                 1.000000                1.000000   \n\n       native_country_ Thailand  native_country_ Trinadad&Tobago  \\\ncount              32561.000000                     32561.000000   \nmean                   0.000553                         0.000584   \nstd                    0.023506                         0.024149   \nmin                    0.000000                         0.000000   \n25%                    0.000000                         0.000000   \n50%                    0.000000                         0.000000   \n75%                    0.000000                         0.000000   \nmax                    1.000000                         1.000000   \n\n       native_country_ United-States  native_country_ Vietnam  \\\ncount                   32561.000000             32561.000000   \nmean                        0.895857                 0.002058   \nstd                         0.305451                 0.045316   \nmin                         0.000000                 0.000000   \n25%                         1.000000                 0.000000   \n50%                         1.000000                 0.000000   \n75%                         1.000000                 0.000000   \nmax                         1.000000                 1.000000   \n\n       native_country_ Yugoslavia  \ncount                32561.000000  \nmean                     0.000491  \nstd                      0.022162  \nmin                      0.000000  \n25%                      0.000000  \n50%                      0.000000  \n75%                      0.000000  \nmax                      1.000000  \n\n[8 rows x 93 columns]",
      "text/html": "<div>\n<style scoped>\n    .dataframe tbody tr th:only-of-type {\n        vertical-align: middle;\n    }\n\n    .dataframe tbody tr th {\n        vertical-align: top;\n    }\n\n    .dataframe thead th {\n        text-align: right;\n    }\n</style>\n<table border=\"1\" class=\"dataframe\">\n  <thead>\n    <tr style=\"text-align: right;\">\n      <th></th>\n      <th>age</th>\n      <th>fnlwgt</th>\n      <th>education_num</th>\n      <th>capital_gain</th>\n      <th>capital_loss</th>\n      <th>hours_per_week</th>\n      <th>sex_encode</th>\n      <th>income_encode</th>\n      <th>workclass_ ?</th>\n      <th>workclass_ Federal-gov</th>\n      <th>...</th>\n      <th>native_country_ Portugal</th>\n      <th>native_country_ Puerto-Rico</th>\n      <th>native_country_ Scotland</th>\n      <th>native_country_ South</th>\n      <th>native_country_ Taiwan</th>\n      <th>native_country_ Thailand</th>\n      <th>native_country_ Trinadad&amp;Tobago</th>\n      <th>native_country_ United-States</th>\n      <th>native_country_ Vietnam</th>\n      <th>native_country_ Yugoslavia</th>\n    </tr>\n  </thead>\n  <tbody>\n    <tr>\n      <th>count</th>\n      <td>32561.000000</td>\n      <td>32561.000000</td>\n      <td>32561.000000</td>\n      <td>32561.000000</td>\n      <td>32561.000000</td>\n      <td>32561.000000</td>\n      <td>32561.000000</td>\n      <td>32561.000000</td>\n      <td>32561.000000</td>\n      <td>32561.000000</td>\n      <td>...</td>\n      <td>32561.000000</td>\n      <td>32561.000000</td>\n      <td>32561.000000</td>\n      <td>32561.000000</td>\n      <td>32561.000000</td>\n      <td>32561.000000</td>\n      <td>32561.000000</td>\n      <td>32561.000000</td>\n      <td>32561.000000</td>\n      <td>32561.000000</td>\n    </tr>\n    <tr>\n      <th>mean</th>\n      <td>0.000308</td>\n      <td>0.998796</td>\n      <td>0.000080</td>\n      <td>0.007050</td>\n      <td>0.000691</td>\n      <td>0.000321</td>\n      <td>0.669205</td>\n      <td>0.240810</td>\n      <td>0.056386</td>\n      <td>0.029483</td>\n      <td>...</td>\n      <td>0.001136</td>\n      <td>0.003501</td>\n      <td>0.000369</td>\n      <td>0.002457</td>\n      <td>0.001566</td>\n      <td>0.000553</td>\n      <td>0.000584</td>\n      <td>0.895857</td>\n      <td>0.002058</td>\n      <td>0.000491</td>\n    </tr>\n    <tr>\n      <th>std</th>\n      <td>0.000311</td>\n      <td>0.016682</td>\n      <td>0.000076</td>\n      <td>0.045375</td>\n      <td>0.004263</td>\n      <td>0.000325</td>\n      <td>0.470506</td>\n      <td>0.427581</td>\n      <td>0.230670</td>\n      <td>0.169159</td>\n      <td>...</td>\n      <td>0.033691</td>\n      <td>0.059068</td>\n      <td>0.019194</td>\n      <td>0.049507</td>\n      <td>0.039546</td>\n      <td>0.023506</td>\n      <td>0.024149</td>\n      <td>0.305451</td>\n      <td>0.045316</td>\n      <td>0.022162</td>\n    </tr>\n    <tr>\n      <th>min</th>\n      <td>0.000017</td>\n      <td>0.246804</td>\n      <td>0.000002</td>\n      <td>0.000000</td>\n      <td>0.000000</td>\n      <td>0.000003</td>\n      <td>0.000000</td>\n      <td>0.000000</td>\n      <td>0.000000</td>\n      <td>0.000000</td>\n      <td>...</td>\n      <td>0.000000</td>\n      <td>0.000000</td>\n      <td>0.000000</td>\n      <td>0.000000</td>\n      <td>0.000000</td>\n      <td>0.000000</td>\n      <td>0.000000</td>\n      <td>0.000000</td>\n      <td>0.000000</td>\n      <td>0.000000</td>\n    </tr>\n    <tr>\n      <th>25%</th>\n      <td>0.000135</td>\n      <td>1.000000</td>\n      <td>0.000039</td>\n      <td>0.000000</td>\n      <td>0.000000</td>\n      <td>0.000153</td>\n      <td>0.000000</td>\n      <td>0.000000</td>\n      <td>0.000000</td>\n      <td>0.000000</td>\n      <td>...</td>\n      <td>0.000000</td>\n      <td>0.000000</td>\n      <td>0.000000</td>\n      <td>0.000000</td>\n      <td>0.000000</td>\n      <td>0.000000</td>\n      <td>0.000000</td>\n      <td>1.000000</td>\n      <td>0.000000</td>\n      <td>0.000000</td>\n    </tr>\n    <tr>\n      <th>50%</th>\n      <td>0.000213</td>\n      <td>1.000000</td>\n      <td>0.000056</td>\n      <td>0.000000</td>\n      <td>0.000000</td>\n      <td>0.000225</td>\n      <td>1.000000</td>\n      <td>0.000000</td>\n      <td>0.000000</td>\n      <td>0.000000</td>\n      <td>...</td>\n      <td>0.000000</td>\n      <td>0.000000</td>\n      <td>0.000000</td>\n      <td>0.000000</td>\n      <td>0.000000</td>\n      <td>0.000000</td>\n      <td>0.000000</td>\n      <td>1.000000</td>\n      <td>0.000000</td>\n      <td>0.000000</td>\n    </tr>\n    <tr>\n      <th>75%</th>\n      <td>0.000349</td>\n      <td>1.000000</td>\n      <td>0.000087</td>\n      <td>0.000000</td>\n      <td>0.000000</td>\n      <td>0.000348</td>\n      <td>1.000000</td>\n      <td>0.000000</td>\n      <td>0.000000</td>\n      <td>0.000000</td>\n      <td>...</td>\n      <td>0.000000</td>\n      <td>0.000000</td>\n      <td>0.000000</td>\n      <td>0.000000</td>\n      <td>0.000000</td>\n      <td>0.000000</td>\n      <td>0.000000</td>\n      <td>1.000000</td>\n      <td>0.000000</td>\n      <td>0.000000</td>\n    </tr>\n    <tr>\n      <th>max</th>\n      <td>0.003980</td>\n      <td>1.000000</td>\n      <td>0.001008</td>\n      <td>0.969065</td>\n      <td>0.094350</td>\n      <td>0.004177</td>\n      <td>1.000000</td>\n      <td>1.000000</td>\n      <td>1.000000</td>\n      <td>1.000000</td>\n      <td>...</td>\n      <td>1.000000</td>\n      <td>1.000000</td>\n      <td>1.000000</td>\n      <td>1.000000</td>\n      <td>1.000000</td>\n      <td>1.000000</td>\n      <td>1.000000</td>\n      <td>1.000000</td>\n      <td>1.000000</td>\n      <td>1.000000</td>\n    </tr>\n  </tbody>\n</table>\n<p>8 rows × 93 columns</p>\n</div>"
     },
     "execution_count": 19,
     "metadata": {},
     "output_type": "execute_result"
    }
   ],
   "source": [
    "from sklearn.preprocessing import OneHotEncoder\n",
    "from sklearn.neighbors import KNeighborsClassifier\n",
    "# start training\n",
    "\n",
    "from sklearn.model_selection import train_test_split\n",
    "from sklearn.preprocessing import LabelEncoder\n",
    "\n",
    "# because income has also only two entries -> use LabelEncoder\n",
    "lbencod = LabelEncoder()\n",
    "\n",
    "df_encode = pd.DataFrame()\n",
    "df_encode['sex_encode'] = pd.DataFrame(lbencod.fit_transform(df_cat['sex']))\n",
    "df_encode['income_encode'] = pd.DataFrame(lbencod.fit_transform(df_cat['income']))\n",
    "\n",
    "onehotenc = OneHotEncoder(categories='auto', sparse_output=False)\n",
    "census_onehot_workclass = pd.DataFrame(onehotenc.fit_transform(df[['workclass']]))\n",
    "census_onehot_workclass.columns = onehotenc.get_feature_names_out()\n",
    "\n",
    "census_onehot_education = pd.DataFrame(onehotenc.fit_transform(df[['education']]))\n",
    "census_onehot_education.columns = onehotenc.get_feature_names_out()\n",
    "\n",
    "census_onehot_marital = pd.DataFrame(onehotenc.fit_transform(df[['marital_status']]))\n",
    "census_onehot_marital.columns = onehotenc.get_feature_names_out()\n",
    "\n",
    "census_onehot_occupation = pd.DataFrame(onehotenc.fit_transform(df[['occupation']]))\n",
    "census_onehot_occupation.columns = onehotenc.get_feature_names_out()\n",
    "\n",
    "census_onehot_relationship = pd.DataFrame(onehotenc.fit_transform(df[['relationship']]))\n",
    "census_onehot_relationship.columns = onehotenc.get_feature_names_out()\n",
    "\n",
    "census_onehot_race = pd.DataFrame(onehotenc.fit_transform(df[['race']]))\n",
    "census_onehot_race.columns = onehotenc.get_feature_names_out()\n",
    "\n",
    "census_onehot_country = pd.DataFrame(onehotenc.fit_transform(df[['native_country']]))\n",
    "census_onehot_country.columns = onehotenc.get_feature_names_out()\n",
    "\n",
    "# concat all one-hot categories\n",
    "census_onehot = pd.concat([census_onehot_workclass,census_onehot_education ], axis=1)\n",
    "census_onehot = pd.concat([census_onehot, census_onehot_marital], axis=1)\n",
    "census_onehot = pd.concat([census_onehot, census_onehot_relationship], axis=1)\n",
    "census_onehot = pd.concat([census_onehot, census_onehot_race], axis=1)\n",
    "census_onehot = pd.concat([census_onehot, census_onehot_country], axis=1)\n",
    "\n",
    "# concat one-hot with label encode dataframes\n",
    "df_encode = pd.concat([df_encode, census_onehot], axis=1)\n",
    "\n",
    "# concat categories with normalized numeric dataframes\n",
    "df_encode = pd.concat([df_numeric_nrm, df_encode])\n",
    "\n",
    "df_encode.describe()"
   ],
   "metadata": {
    "collapsed": false,
    "pycharm": {
     "name": "#%%\n"
    }
   }
  },
  {
   "cell_type": "code",
   "execution_count": 20,
   "outputs": [
    {
     "data": {
      "text/plain": "count    8141.000000\nmean        0.240142\nstd         0.427196\nmin         0.000000\n25%         0.000000\n50%         0.000000\n75%         0.000000\nmax         1.000000\nName: income_encode, dtype: float64"
     },
     "execution_count": 20,
     "metadata": {},
     "output_type": "execute_result"
    }
   ],
   "source": [
    "# split data into training and test set\n",
    "\n",
    "x = df_encode.iloc[:, [1, 2, 3, 4]].dropna() # TODO drop data before encoding ?\n",
    "y = df_encode.loc[:, 'income_encode'].dropna() # TODO drop data before encoding ?\n",
    "\n",
    "# This has to be done, otherwise Error will occur\n",
    "#y = y.astype('float')\n",
    "\n",
    "x_training, x_test, y_training, y_test = train_test_split(x, y, train_size=0.75)\n",
    "y_test.describe()"
   ],
   "metadata": {
    "collapsed": false,
    "pycharm": {
     "name": "#%%\n"
    }
   }
  },
  {
   "cell_type": "code",
   "execution_count": 21,
   "outputs": [
    {
     "data": {
      "text/plain": "KNeighborsClassifier(n_neighbors=10)",
      "text/html": "<style>#sk-container-id-1 {color: black;background-color: white;}#sk-container-id-1 pre{padding: 0;}#sk-container-id-1 div.sk-toggleable {background-color: white;}#sk-container-id-1 label.sk-toggleable__label {cursor: pointer;display: block;width: 100%;margin-bottom: 0;padding: 0.3em;box-sizing: border-box;text-align: center;}#sk-container-id-1 label.sk-toggleable__label-arrow:before {content: \"▸\";float: left;margin-right: 0.25em;color: #696969;}#sk-container-id-1 label.sk-toggleable__label-arrow:hover:before {color: black;}#sk-container-id-1 div.sk-estimator:hover label.sk-toggleable__label-arrow:before {color: black;}#sk-container-id-1 div.sk-toggleable__content {max-height: 0;max-width: 0;overflow: hidden;text-align: left;background-color: #f0f8ff;}#sk-container-id-1 div.sk-toggleable__content pre {margin: 0.2em;color: black;border-radius: 0.25em;background-color: #f0f8ff;}#sk-container-id-1 input.sk-toggleable__control:checked~div.sk-toggleable__content {max-height: 200px;max-width: 100%;overflow: auto;}#sk-container-id-1 input.sk-toggleable__control:checked~label.sk-toggleable__label-arrow:before {content: \"▾\";}#sk-container-id-1 div.sk-estimator input.sk-toggleable__control:checked~label.sk-toggleable__label {background-color: #d4ebff;}#sk-container-id-1 div.sk-label input.sk-toggleable__control:checked~label.sk-toggleable__label {background-color: #d4ebff;}#sk-container-id-1 input.sk-hidden--visually {border: 0;clip: rect(1px 1px 1px 1px);clip: rect(1px, 1px, 1px, 1px);height: 1px;margin: -1px;overflow: hidden;padding: 0;position: absolute;width: 1px;}#sk-container-id-1 div.sk-estimator {font-family: monospace;background-color: #f0f8ff;border: 1px dotted black;border-radius: 0.25em;box-sizing: border-box;margin-bottom: 0.5em;}#sk-container-id-1 div.sk-estimator:hover {background-color: #d4ebff;}#sk-container-id-1 div.sk-parallel-item::after {content: \"\";width: 100%;border-bottom: 1px solid gray;flex-grow: 1;}#sk-container-id-1 div.sk-label:hover label.sk-toggleable__label {background-color: #d4ebff;}#sk-container-id-1 div.sk-serial::before {content: \"\";position: absolute;border-left: 1px solid gray;box-sizing: border-box;top: 0;bottom: 0;left: 50%;z-index: 0;}#sk-container-id-1 div.sk-serial {display: flex;flex-direction: column;align-items: center;background-color: white;padding-right: 0.2em;padding-left: 0.2em;position: relative;}#sk-container-id-1 div.sk-item {position: relative;z-index: 1;}#sk-container-id-1 div.sk-parallel {display: flex;align-items: stretch;justify-content: center;background-color: white;position: relative;}#sk-container-id-1 div.sk-item::before, #sk-container-id-1 div.sk-parallel-item::before {content: \"\";position: absolute;border-left: 1px solid gray;box-sizing: border-box;top: 0;bottom: 0;left: 50%;z-index: -1;}#sk-container-id-1 div.sk-parallel-item {display: flex;flex-direction: column;z-index: 1;position: relative;background-color: white;}#sk-container-id-1 div.sk-parallel-item:first-child::after {align-self: flex-end;width: 50%;}#sk-container-id-1 div.sk-parallel-item:last-child::after {align-self: flex-start;width: 50%;}#sk-container-id-1 div.sk-parallel-item:only-child::after {width: 0;}#sk-container-id-1 div.sk-dashed-wrapped {border: 1px dashed gray;margin: 0 0.4em 0.5em 0.4em;box-sizing: border-box;padding-bottom: 0.4em;background-color: white;}#sk-container-id-1 div.sk-label label {font-family: monospace;font-weight: bold;display: inline-block;line-height: 1.2em;}#sk-container-id-1 div.sk-label-container {text-align: center;}#sk-container-id-1 div.sk-container {/* jupyter's `normalize.less` sets `[hidden] { display: none; }` but bootstrap.min.css set `[hidden] { display: none !important; }` so we also need the `!important` here to be able to override the default hidden behavior on the sphinx rendered scikit-learn.org. See: https://github.com/scikit-learn/scikit-learn/issues/21755 */display: inline-block !important;position: relative;}#sk-container-id-1 div.sk-text-repr-fallback {display: none;}</style><div id=\"sk-container-id-1\" class=\"sk-top-container\"><div class=\"sk-text-repr-fallback\"><pre>KNeighborsClassifier(n_neighbors=10)</pre><b>In a Jupyter environment, please rerun this cell to show the HTML representation or trust the notebook. <br />On GitHub, the HTML representation is unable to render, please try loading this page with nbviewer.org.</b></div><div class=\"sk-container\" hidden><div class=\"sk-item\"><div class=\"sk-estimator sk-toggleable\"><input class=\"sk-toggleable__control sk-hidden--visually\" id=\"sk-estimator-id-1\" type=\"checkbox\" checked><label for=\"sk-estimator-id-1\" class=\"sk-toggleable__label sk-toggleable__label-arrow\">KNeighborsClassifier</label><div class=\"sk-toggleable__content\"><pre>KNeighborsClassifier(n_neighbors=10)</pre></div></div></div></div></div>"
     },
     "execution_count": 21,
     "metadata": {},
     "output_type": "execute_result"
    }
   ],
   "source": [
    "# using the kNN classifier\n",
    "model = KNeighborsClassifier(n_neighbors=10)\n",
    "model.fit(x_training, y_training)"
   ],
   "metadata": {
    "collapsed": false,
    "pycharm": {
     "name": "#%%\n"
    }
   }
  },
  {
   "cell_type": "code",
   "execution_count": 22,
   "outputs": [
    {
     "name": "stdout",
     "output_type": "stream",
     "text": [
      "accurancy: 0.7895835892396511\n"
     ]
    }
   ],
   "source": [
    "from sklearn.metrics import accuracy_score\n",
    "# predict\n",
    "y_prediction = model.predict(x_test)\n",
    "\n",
    "# evaluation\n",
    "acc = accuracy_score(y_test, y_prediction)\n",
    "print(f'accurancy: {acc}')"
   ],
   "metadata": {
    "collapsed": false,
    "pycharm": {
     "name": "#%%\n"
    }
   }
  },
  {
   "cell_type": "code",
   "execution_count": 22,
   "outputs": [],
   "source": [],
   "metadata": {
    "collapsed": false,
    "pycharm": {
     "name": "#%%\n"
    }
   }
  }
 ],
 "metadata": {
  "kernelspec": {
   "display_name": "Python 3",
   "language": "python",
   "name": "python3"
  },
  "language_info": {
   "codemirror_mode": {
    "name": "ipython",
    "version": 2
   },
   "file_extension": ".py",
   "mimetype": "text/x-python",
   "name": "python",
   "nbconvert_exporter": "python",
   "pygments_lexer": "ipython2",
   "version": "2.7.6"
  }
 },
 "nbformat": 4,
 "nbformat_minor": 0
}