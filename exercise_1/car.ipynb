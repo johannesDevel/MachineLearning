{
 "cells": [
  {
   "cell_type": "markdown",
   "id": "3755bde0",
   "metadata": {},
   "source": [
    "Group 33: Breitenecker Johannes, Dasovic Ivana, Thurner Lukas\n",
    "    \n",
    "# Exercise n°1: Classification\n",
    "\n",
    "## Car dataset\n",
    "\n",
    "For this exercise we will try to predict whether a car with some specifications is acceptable."
   ]
  },
  {
   "cell_type": "markdown",
   "id": "5e746b7b",
   "metadata": {},
   "source": [
    "## Data preprocessing"
   ]
  },
  {
   "cell_type": "markdown",
   "id": "62f71d77",
   "metadata": {},
   "source": [
    "### Import libraries "
   ]
  },
  {
   "cell_type": "code",
   "execution_count": 205,
   "id": "76f10658",
   "metadata": {},
   "outputs": [],
   "source": [
    "import pandas as pd\n",
    "import numpy as np\n",
    "\n",
    "import matplotlib.pyplot as plt\n",
    "import seaborn as sns\n",
    "from seaborn import pairplot\n",
    "import sklearn as sk\n",
    "\n",
    "from sklearn.impute import KNNImputer\n",
    "from sklearn.preprocessing import StandardScaler\n",
    "from sklearn.model_selection import train_test_split, cross_val_score\n",
    "\n",
    "from sklearn import tree\n",
    "from sklearn.ensemble import RandomForestClassifier\n",
    "from sklearn.neighbors import KNeighborsClassifier\n",
    "from sklearn.svm import SVC\n",
    "\n",
    "from sklearn import metrics\n",
    "import time\n",
    "from scipy.stats import randint \n",
    "from sklearn.preprocessing import LabelEncoder"
   ]
  },
  {
   "cell_type": "markdown",
   "id": "535820dd",
   "metadata": {},
   "source": [
    "### Import dataset"
   ]
  },
  {
   "cell_type": "code",
   "execution_count": 206,
   "id": "658ba6e6",
   "metadata": {},
   "outputs": [],
   "source": [
    "car_data = pd.read_csv(\"Car.csv\", delimiter = \";\")"
   ]
  },
  {
   "cell_type": "code",
   "execution_count": 207,
   "id": "90e8747a",
   "metadata": {},
   "outputs": [
    {
     "data": {
      "text/html": [
       "<div>\n",
       "<style scoped>\n",
       "    .dataframe tbody tr th:only-of-type {\n",
       "        vertical-align: middle;\n",
       "    }\n",
       "\n",
       "    .dataframe tbody tr th {\n",
       "        vertical-align: top;\n",
       "    }\n",
       "\n",
       "    .dataframe thead th {\n",
       "        text-align: right;\n",
       "    }\n",
       "</style>\n",
       "<table border=\"1\" class=\"dataframe\">\n",
       "  <thead>\n",
       "    <tr style=\"text-align: right;\">\n",
       "      <th></th>\n",
       "      <th>buying</th>\n",
       "      <th>maint</th>\n",
       "      <th>persons</th>\n",
       "      <th>doors</th>\n",
       "      <th>lug_boot</th>\n",
       "      <th>safety</th>\n",
       "      <th>class</th>\n",
       "    </tr>\n",
       "  </thead>\n",
       "  <tbody>\n",
       "    <tr>\n",
       "      <th>0</th>\n",
       "      <td>vhigh</td>\n",
       "      <td>vhigh</td>\n",
       "      <td>2</td>\n",
       "      <td>2</td>\n",
       "      <td>small</td>\n",
       "      <td>low</td>\n",
       "      <td>unacc</td>\n",
       "    </tr>\n",
       "    <tr>\n",
       "      <th>1</th>\n",
       "      <td>vhigh</td>\n",
       "      <td>vhigh</td>\n",
       "      <td>2</td>\n",
       "      <td>2</td>\n",
       "      <td>small</td>\n",
       "      <td>med</td>\n",
       "      <td>unacc</td>\n",
       "    </tr>\n",
       "    <tr>\n",
       "      <th>2</th>\n",
       "      <td>vhigh</td>\n",
       "      <td>vhigh</td>\n",
       "      <td>2</td>\n",
       "      <td>2</td>\n",
       "      <td>small</td>\n",
       "      <td>high</td>\n",
       "      <td>unacc</td>\n",
       "    </tr>\n",
       "    <tr>\n",
       "      <th>3</th>\n",
       "      <td>vhigh</td>\n",
       "      <td>vhigh</td>\n",
       "      <td>2</td>\n",
       "      <td>2</td>\n",
       "      <td>med</td>\n",
       "      <td>low</td>\n",
       "      <td>unacc</td>\n",
       "    </tr>\n",
       "    <tr>\n",
       "      <th>4</th>\n",
       "      <td>vhigh</td>\n",
       "      <td>vhigh</td>\n",
       "      <td>2</td>\n",
       "      <td>2</td>\n",
       "      <td>med</td>\n",
       "      <td>med</td>\n",
       "      <td>unacc</td>\n",
       "    </tr>\n",
       "  </tbody>\n",
       "</table>\n",
       "</div>"
      ],
      "text/plain": [
       "  buying  maint persons doors lug_boot safety  class\n",
       "0  vhigh  vhigh       2     2    small    low  unacc\n",
       "1  vhigh  vhigh       2     2    small    med  unacc\n",
       "2  vhigh  vhigh       2     2    small   high  unacc\n",
       "3  vhigh  vhigh       2     2      med    low  unacc\n",
       "4  vhigh  vhigh       2     2      med    med  unacc"
      ]
     },
     "execution_count": 207,
     "metadata": {},
     "output_type": "execute_result"
    }
   ],
   "source": [
    "car_data.head()"
   ]
  },
  {
   "cell_type": "code",
   "execution_count": 208,
   "id": "dd677e11",
   "metadata": {},
   "outputs": [
    {
     "name": "stdout",
     "output_type": "stream",
     "text": [
      "Number of columns is 7 and number of row is 1728\n"
     ]
    }
   ],
   "source": [
    "num_rows, num_cols = car_data.shape\n",
    "print(f'Number of columns is {num_cols} and number of row is {num_rows}')"
   ]
  },
  {
   "cell_type": "code",
   "execution_count": 209,
   "id": "8d8a7295",
   "metadata": {},
   "outputs": [
    {
     "name": "stdout",
     "output_type": "stream",
     "text": [
      " columns are: buying, maint, persons, doors, lug_boot, safety, class\n"
     ]
    }
   ],
   "source": [
    "column_names = ''\n",
    "for col in car_data.columns:\n",
    "    column_names += col + ', '\n",
    "print(f' columns are: {column_names[:-2]}')"
   ]
  },
  {
   "cell_type": "markdown",
   "id": "4387e1ef",
   "metadata": {},
   "source": [
    "### Missing Values"
   ]
  },
  {
   "cell_type": "code",
   "execution_count": 210,
   "id": "705e200a",
   "metadata": {},
   "outputs": [
    {
     "name": "stdout",
     "output_type": "stream",
     "text": [
      "buying      0\n",
      "maint       0\n",
      "persons     0\n",
      "doors       0\n",
      "lug_boot    0\n",
      "safety      0\n",
      "class       0\n",
      "dtype: int64\n"
     ]
    }
   ],
   "source": [
    "missing_values_count = car_data.isnull().sum()\n",
    "\n",
    "print(missing_values_count)"
   ]
  },
  {
   "cell_type": "markdown",
   "id": "32d42815",
   "metadata": {},
   "source": [
    "As it is visible, in this dataset there are no missing values"
   ]
  },
  {
   "cell_type": "markdown",
   "id": "63ef515b",
   "metadata": {},
   "source": [
    "### Label encoding"
   ]
  },
  {
   "cell_type": "code",
   "execution_count": 211,
   "id": "257ac686",
   "metadata": {},
   "outputs": [
    {
     "data": {
      "text/html": [
       "<div>\n",
       "<style scoped>\n",
       "    .dataframe tbody tr th:only-of-type {\n",
       "        vertical-align: middle;\n",
       "    }\n",
       "\n",
       "    .dataframe tbody tr th {\n",
       "        vertical-align: top;\n",
       "    }\n",
       "\n",
       "    .dataframe thead th {\n",
       "        text-align: right;\n",
       "    }\n",
       "</style>\n",
       "<table border=\"1\" class=\"dataframe\">\n",
       "  <thead>\n",
       "    <tr style=\"text-align: right;\">\n",
       "      <th></th>\n",
       "      <th>buying</th>\n",
       "      <th>maint</th>\n",
       "      <th>persons</th>\n",
       "      <th>doors</th>\n",
       "      <th>lug_boot</th>\n",
       "      <th>safety</th>\n",
       "      <th>class</th>\n",
       "    </tr>\n",
       "  </thead>\n",
       "  <tbody>\n",
       "    <tr>\n",
       "      <th>0</th>\n",
       "      <td>3</td>\n",
       "      <td>3</td>\n",
       "      <td>0</td>\n",
       "      <td>0</td>\n",
       "      <td>2</td>\n",
       "      <td>1</td>\n",
       "      <td>2</td>\n",
       "    </tr>\n",
       "    <tr>\n",
       "      <th>1</th>\n",
       "      <td>3</td>\n",
       "      <td>3</td>\n",
       "      <td>0</td>\n",
       "      <td>0</td>\n",
       "      <td>2</td>\n",
       "      <td>2</td>\n",
       "      <td>2</td>\n",
       "    </tr>\n",
       "    <tr>\n",
       "      <th>2</th>\n",
       "      <td>3</td>\n",
       "      <td>3</td>\n",
       "      <td>0</td>\n",
       "      <td>0</td>\n",
       "      <td>2</td>\n",
       "      <td>0</td>\n",
       "      <td>2</td>\n",
       "    </tr>\n",
       "    <tr>\n",
       "      <th>3</th>\n",
       "      <td>3</td>\n",
       "      <td>3</td>\n",
       "      <td>0</td>\n",
       "      <td>0</td>\n",
       "      <td>1</td>\n",
       "      <td>1</td>\n",
       "      <td>2</td>\n",
       "    </tr>\n",
       "    <tr>\n",
       "      <th>4</th>\n",
       "      <td>3</td>\n",
       "      <td>3</td>\n",
       "      <td>0</td>\n",
       "      <td>0</td>\n",
       "      <td>1</td>\n",
       "      <td>2</td>\n",
       "      <td>2</td>\n",
       "    </tr>\n",
       "  </tbody>\n",
       "</table>\n",
       "</div>"
      ],
      "text/plain": [
       "   buying  maint  persons  doors  lug_boot  safety  class\n",
       "0       3      3        0      0         2       1      2\n",
       "1       3      3        0      0         2       2      2\n",
       "2       3      3        0      0         2       0      2\n",
       "3       3      3        0      0         1       1      2\n",
       "4       3      3        0      0         1       2      2"
      ]
     },
     "execution_count": 211,
     "metadata": {},
     "output_type": "execute_result"
    }
   ],
   "source": [
    "le = LabelEncoder()\n",
    "car_data = car_data.apply(lambda x: le.fit_transform(x) if x.dtype == 'object' else x)\n",
    "car_data.head()"
   ]
  },
  {
   "cell_type": "code",
   "execution_count": 212,
   "id": "24e9f20b",
   "metadata": {},
   "outputs": [],
   "source": [
    "best_models = {}"
   ]
  },
  {
   "cell_type": "markdown",
   "id": "7b0bf186",
   "metadata": {},
   "source": [
    "### Splitting dataset to train and test data"
   ]
  },
  {
   "cell_type": "code",
   "execution_count": 213,
   "id": "ddb0735a",
   "metadata": {},
   "outputs": [],
   "source": [
    "X = car_data.drop('class', axis=1)\n",
    "y = car_data['class']\n",
    "    \n",
    "X_train, X_test, y_train, y_test = sk.model_selection.train_test_split(X, y, test_size=0.3)"
   ]
  },
  {
   "cell_type": "markdown",
   "id": "218b9c07",
   "metadata": {},
   "source": [
    "## Classifier n°1: decision tree"
   ]
  },
  {
   "cell_type": "code",
   "execution_count": 214,
   "id": "4c3a8924",
   "metadata": {},
   "outputs": [],
   "source": [
    "decision_tree = tree.DecisionTreeClassifier()\n",
    "parameters = {'criterion': ['entropy', 'gini'],\n",
    "                'splitter': ['best', 'random'],\n",
    "                'max_depth': randint(1, 50),\n",
    "                'min_samples_split':  randint(2, 1000)}"
   ]
  },
  {
   "cell_type": "markdown",
   "id": "ede9852c",
   "metadata": {},
   "source": [
    "#### Finding the best decision tree"
   ]
  },
  {
   "cell_type": "code",
   "execution_count": 215,
   "id": "eff98ae7",
   "metadata": {},
   "outputs": [
    {
     "name": "stdout",
     "output_type": "stream",
     "text": [
      "Random Search CV results\n",
      "\n",
      " The best estimator:\n",
      " DecisionTreeClassifier(criterion='entropy', max_depth=28, min_samples_split=3)\n",
      "\n",
      " The best score:\n",
      " 0.9437469213507744\n",
      "\t  criterion :  entropy\n",
      "\t  max_depth :  28\n",
      "\t  min_samples_split :  3\n",
      "\t  splitter :  best\n",
      "\n",
      " The best cross validation strategy:\n",
      " 2\n"
     ]
    }
   ],
   "source": [
    "best_decision_tree = sk.model_selection.RandomizedSearchCV(estimator = decision_tree, param_distributions = parameters, cv = 2, n_iter = 500)\n",
    "best_decision_tree.fit(X_train, y_train)\n",
    "\n",
    "print(\"Random Search CV results\" )\n",
    "print(\"\\n The best estimator:\\n\", best_decision_tree.best_estimator_)\n",
    "print(\"\\n The best score:\\n\", best_decision_tree.best_score_)\n",
    "for param, value in best_decision_tree.best_params_.items():\n",
    "    print(\"\\t \", param, \": \", value)\n",
    "print(\"\\n The best cross validation strategy:\\n\", best_decision_tree.cv)"
   ]
  },
  {
   "cell_type": "code",
   "execution_count": 216,
   "id": "0a090507",
   "metadata": {},
   "outputs": [
    {
     "name": "stdout",
     "output_type": "stream",
     "text": [
      "--- runtime --- 0.00936579704284668\n"
     ]
    }
   ],
   "source": [
    "start_time = time.time()\n",
    "best_dt_model = best_decision_tree.best_estimator_\n",
    "best_dt_model = best_dt_model.fit(X_train,y_train)  \n",
    "best_dt_prediction = best_dt_model.predict(X_test)\n",
    "print(\"--- runtime ---\" , (time.time() - start_time))\n",
    "best_models['decision_tree'] = best_dt_model"
   ]
  },
  {
   "cell_type": "code",
   "execution_count": 217,
   "id": "5a6a3035",
   "metadata": {},
   "outputs": [
    {
     "data": {
      "image/png": "[encoded data removed]",
      "text/plain": [
       "<Figure size 640x480 with 2 Axes>"
      ]
     },
     "metadata": {},
     "output_type": "display_data"
    },
    {
     "name": "stdout",
     "output_type": "stream",
     "text": [
      "accuracy: 0.976878612716763\n",
      "precision: 0.9770300579506633\n",
      "recall: 0.976878612716763\n",
      "F1: 0.9769216439659945\n",
      "Cross validated scores: [0.97107438 0.95867769 0.96694215 0.95867769 0.94605809]\n"
     ]
    }
   ],
   "source": [
    "best_dt_cm = metrics.confusion_matrix(y_test, best_dt_prediction)\n",
    "sns.heatmap(best_dt_cm, annot=True, cmap='Blues', fmt='d')\n",
    "plt.xlabel('Predicted labels')\n",
    "plt.ylabel('True labels')\n",
    "plt.title('Confusion Matrix')\n",
    "plt.show()\n",
    "\n",
    "print(\"accuracy:\",metrics.accuracy_score(y_test,best_dt_prediction))\n",
    "print(\"precision:\",metrics.precision_score(y_test,best_dt_prediction, average='weighted'))\n",
    "print(\"recall:\",metrics.recall_score(y_test,best_dt_prediction, average='weighted'))\n",
    "print(\"F1:\",metrics.f1_score(y_test,best_dt_prediction, average='weighted'))\n",
    "\n",
    "cv_scores = cross_val_score(best_dt_model,X_train,y_train,cv=5)\n",
    "print(\"Cross validated scores:\",cv_scores)"
   ]
  },
  {
   "cell_type": "code",
   "execution_count": 218,
   "id": "7d603f86",
   "metadata": {},
   "outputs": [
    {
     "data": {
      "text/plain": [
       "[Text(0.5319496268656716, 0.9642857142857143, 'X[3] <= 0.5\\nentropy = 1.239\\nsamples = 1209\\nvalue = [273, 56, 834, 46]'),\n",
       " Text(0.5170242537313433, 0.8928571428571429, 'entropy = 0.0\\nsamples = 404\\nvalue = [0, 0, 404, 0]'),\n",
       " Text(0.546875, 0.8928571428571429, 'X[5] <= 0.5\\nentropy = 1.516\\nsamples = 805\\nvalue = [273, 56, 430, 46]'),\n",
       " Text(0.28171641791044777, 0.8214285714285714, 'X[0] <= 2.5\\nentropy = 1.706\\nsamples = 286\\nvalue = [151, 26, 63, 46]'),\n",
       " Text(0.1455223880597015, 0.75, 'X[0] <= 0.5\\nentropy = 1.669\\nsamples = 218\\nvalue = [121, 26, 25, 46]'),\n",
       " Text(0.05970149253731343, 0.6785714285714286, 'X[1] <= 2.5\\nentropy = 0.876\\nsamples = 71\\nvalue = [50, 0, 21, 0]'),\n",
       " Text(0.04477611940298507, 0.6071428571428571, 'X[2] <= 0.5\\nentropy = 0.314\\nsamples = 53\\nvalue = [50, 0, 3, 0]'),\n",
       " Text(0.029850746268656716, 0.5357142857142857, 'X[4] <= 1.5\\nentropy = 0.696\\nsamples = 16\\nvalue = [13, 0, 3, 0]'),\n",
       " Text(0.014925373134328358, 0.4642857142857143, 'entropy = 0.0\\nsamples = 10\\nvalue = [10, 0, 0, 0]'),\n",
       " Text(0.04477611940298507, 0.4642857142857143, 'X[3] <= 1.5\\nentropy = 1.0\\nsamples = 6\\nvalue = [3, 0, 3, 0]'),\n",
       " Text(0.029850746268656716, 0.39285714285714285, 'entropy = 0.0\\nsamples = 3\\nvalue = [3, 0, 0, 0]'),\n",
       " Text(0.05970149253731343, 0.39285714285714285, 'entropy = 0.0\\nsamples = 3\\nvalue = [0, 0, 3, 0]'),\n",
       " Text(0.05970149253731343, 0.5357142857142857, 'entropy = 0.0\\nsamples = 37\\nvalue = [37, 0, 0, 0]'),\n",
       " Text(0.07462686567164178, 0.6071428571428571, 'entropy = 0.0\\nsamples = 18\\nvalue = [0, 0, 18, 0]'),\n",
       " Text(0.23134328358208955, 0.6785714285714286, 'X[4] <= 1.5\\nentropy = 1.615\\nsamples = 147\\nvalue = [71, 26, 4, 46]'),\n",
       " Text(0.16417910447761194, 0.6071428571428571, 'X[1] <= 2.5\\nentropy = 1.33\\nsamples = 95\\nvalue = [41, 8, 0, 46]'),\n",
       " Text(0.14925373134328357, 0.5357142857142857, 'X[1] <= 0.5\\nentropy = 1.283\\nsamples = 74\\nvalue = [20, 8, 0, 46]'),\n",
       " Text(0.1044776119402985, 0.4642857142857143, 'X[0] <= 1.5\\nentropy = 0.931\\nsamples = 26\\nvalue = [17, 0, 0, 9]'),\n",
       " Text(0.08955223880597014, 0.39285714285714285, 'X[4] <= 0.5\\nentropy = 0.684\\nsamples = 11\\nvalue = [2, 0, 0, 9]'),\n",
       " Text(0.07462686567164178, 0.32142857142857145, 'entropy = 0.0\\nsamples = 6\\nvalue = [0, 0, 0, 6]'),\n",
       " Text(0.1044776119402985, 0.32142857142857145, 'X[2] <= 1.5\\nentropy = 0.971\\nsamples = 5\\nvalue = [2, 0, 0, 3]'),\n",
       " Text(0.08955223880597014, 0.25, 'X[3] <= 1.5\\nentropy = 0.918\\nsamples = 3\\nvalue = [2, 0, 0, 1]'),\n",
       " Text(0.07462686567164178, 0.17857142857142858, 'entropy = 0.0\\nsamples = 2\\nvalue = [2, 0, 0, 0]'),\n",
       " Text(0.1044776119402985, 0.17857142857142858, 'entropy = 0.0\\nsamples = 1\\nvalue = [0, 0, 0, 1]'),\n",
       " Text(0.11940298507462686, 0.25, 'entropy = 0.0\\nsamples = 2\\nvalue = [0, 0, 0, 2]'),\n",
       " Text(0.11940298507462686, 0.39285714285714285, 'entropy = 0.0\\nsamples = 15\\nvalue = [15, 0, 0, 0]'),\n",
       " Text(0.19402985074626866, 0.4642857142857143, 'X[2] <= 1.5\\nentropy = 0.97\\nsamples = 48\\nvalue = [3, 8, 0, 37]'),\n",
       " Text(0.1791044776119403, 0.39285714285714285, 'X[4] <= 0.5\\nentropy = 1.362\\nsamples = 25\\nvalue = [3, 8, 0, 14]'),\n",
       " Text(0.16417910447761194, 0.32142857142857145, 'entropy = 0.0\\nsamples = 11\\nvalue = [0, 0, 0, 11]'),\n",
       " Text(0.19402985074626866, 0.32142857142857145, 'X[3] <= 1.5\\nentropy = 1.414\\nsamples = 14\\nvalue = [3, 8, 0, 3]'),\n",
       " Text(0.14925373134328357, 0.25, 'X[1] <= 1.5\\nentropy = 0.811\\nsamples = 8\\nvalue = [2, 6, 0, 0]'),\n",
       " Text(0.13432835820895522, 0.17857142857142858, 'entropy = 0.0\\nsamples = 4\\nvalue = [0, 4, 0, 0]'),\n",
       " Text(0.16417910447761194, 0.17857142857142858, 'X[0] <= 1.5\\nentropy = 1.0\\nsamples = 4\\nvalue = [2, 2, 0, 0]'),\n",
       " Text(0.14925373134328357, 0.10714285714285714, 'entropy = 0.0\\nsamples = 2\\nvalue = [0, 2, 0, 0]'),\n",
       " Text(0.1791044776119403, 0.10714285714285714, 'entropy = 0.0\\nsamples = 2\\nvalue = [2, 0, 0, 0]'),\n",
       " Text(0.23880597014925373, 0.25, 'X[2] <= 0.5\\nentropy = 1.459\\nsamples = 6\\nvalue = [1, 2, 0, 3]'),\n",
       " Text(0.22388059701492538, 0.17857142857142858, 'X[1] <= 1.5\\nentropy = 0.918\\nsamples = 3\\nvalue = [1, 2, 0, 0]'),\n",
       " Text(0.208955223880597, 0.10714285714285714, 'entropy = 0.0\\nsamples = 2\\nvalue = [0, 2, 0, 0]'),\n",
       " Text(0.23880597014925373, 0.10714285714285714, 'entropy = 0.0\\nsamples = 1\\nvalue = [1, 0, 0, 0]'),\n",
       " Text(0.2537313432835821, 0.17857142857142858, 'entropy = 0.0\\nsamples = 3\\nvalue = [0, 0, 0, 3]'),\n",
       " Text(0.208955223880597, 0.39285714285714285, 'entropy = 0.0\\nsamples = 23\\nvalue = [0, 0, 0, 23]'),\n",
       " Text(0.1791044776119403, 0.5357142857142857, 'entropy = 0.0\\nsamples = 21\\nvalue = [21, 0, 0, 0]'),\n",
       " Text(0.29850746268656714, 0.6071428571428571, 'X[1] <= 0.5\\nentropy = 1.272\\nsamples = 52\\nvalue = [30, 18, 4, 0]'),\n",
       " Text(0.26865671641791045, 0.5357142857142857, 'X[2] <= 0.5\\nentropy = 0.567\\nsamples = 15\\nvalue = [13, 0, 2, 0]'),\n",
       " Text(0.2537313432835821, 0.4642857142857143, 'X[3] <= 1.5\\nentropy = 1.0\\nsamples = 4\\nvalue = [2, 0, 2, 0]'),\n",
       " Text(0.23880597014925373, 0.39285714285714285, 'entropy = 0.0\\nsamples = 2\\nvalue = [2, 0, 0, 0]'),\n",
       " Text(0.26865671641791045, 0.39285714285714285, 'entropy = 0.0\\nsamples = 2\\nvalue = [0, 0, 2, 0]'),\n",
       " Text(0.2835820895522388, 0.4642857142857143, 'entropy = 0.0\\nsamples = 11\\nvalue = [11, 0, 0, 0]'),\n",
       " Text(0.3283582089552239, 0.5357142857142857, 'X[1] <= 1.5\\nentropy = 1.249\\nsamples = 37\\nvalue = [17, 18, 2, 0]'),\n",
       " Text(0.31343283582089554, 0.4642857142857143, 'entropy = 0.0\\nsamples = 13\\nvalue = [0, 13, 0, 0]'),\n",
       " Text(0.34328358208955223, 0.4642857142857143, 'X[0] <= 1.5\\nentropy = 1.123\\nsamples = 24\\nvalue = [17, 5, 2, 0]'),\n",
       " Text(0.31343283582089554, 0.39285714285714285, 'X[1] <= 2.5\\nentropy = 1.349\\nsamples = 11\\nvalue = [5, 5, 1, 0]'),\n",
       " Text(0.29850746268656714, 0.32142857142857145, 'entropy = 0.0\\nsamples = 5\\nvalue = [0, 5, 0, 0]'),\n",
       " Text(0.3283582089552239, 0.32142857142857145, 'X[2] <= 0.5\\nentropy = 0.65\\nsamples = 6\\nvalue = [5, 0, 1, 0]'),\n",
       " Text(0.31343283582089554, 0.25, 'entropy = 1.0\\nsamples = 2\\nvalue = [1, 0, 1, 0]'),\n",
       " Text(0.34328358208955223, 0.25, 'entropy = 0.0\\nsamples = 4\\nvalue = [4, 0, 0, 0]'),\n",
       " Text(0.373134328358209, 0.39285714285714285, 'X[2] <= 0.5\\nentropy = 0.391\\nsamples = 13\\nvalue = [12, 0, 1, 0]'),\n",
       " Text(0.3582089552238806, 0.32142857142857145, 'entropy = 1.0\\nsamples = 2\\nvalue = [1, 0, 1, 0]'),\n",
       " Text(0.3880597014925373, 0.32142857142857145, 'entropy = 0.0\\nsamples = 11\\nvalue = [11, 0, 0, 0]'),\n",
       " Text(0.417910447761194, 0.75, 'X[1] <= 0.5\\nentropy = 0.99\\nsamples = 68\\nvalue = [30, 0, 38, 0]'),\n",
       " Text(0.40298507462686567, 0.6785714285714286, 'entropy = 0.0\\nsamples = 19\\nvalue = [0, 0, 19, 0]'),\n",
       " Text(0.43283582089552236, 0.6785714285714286, 'X[1] <= 2.5\\nentropy = 0.963\\nsamples = 49\\nvalue = [30, 0, 19, 0]'),\n",
       " Text(0.417910447761194, 0.6071428571428571, 'X[2] <= 0.5\\nentropy = 0.206\\nsamples = 31\\nvalue = [30, 0, 1, 0]'),\n",
       " Text(0.40298507462686567, 0.5357142857142857, 'X[4] <= 1.5\\nentropy = 0.544\\nsamples = 8\\nvalue = [7, 0, 1, 0]'),\n",
       " Text(0.3880597014925373, 0.4642857142857143, 'entropy = 0.0\\nsamples = 5\\nvalue = [5, 0, 0, 0]'),\n",
       " Text(0.417910447761194, 0.4642857142857143, 'X[3] <= 1.5\\nentropy = 0.918\\nsamples = 3\\nvalue = [2, 0, 1, 0]'),\n",
       " Text(0.40298507462686567, 0.39285714285714285, 'entropy = 0.0\\nsamples = 2\\nvalue = [2, 0, 0, 0]'),\n",
       " Text(0.43283582089552236, 0.39285714285714285, 'entropy = 0.0\\nsamples = 1\\nvalue = [0, 0, 1, 0]'),\n",
       " Text(0.43283582089552236, 0.5357142857142857, 'entropy = 0.0\\nsamples = 23\\nvalue = [23, 0, 0, 0]'),\n",
       " Text(0.44776119402985076, 0.6071428571428571, 'entropy = 0.0\\nsamples = 18\\nvalue = [0, 0, 18, 0]'),\n",
       " Text(0.8120335820895522, 0.8214285714285714, 'X[5] <= 1.5\\nentropy = 1.082\\nsamples = 519\\nvalue = [122, 30, 367, 0]'),\n",
       " Text(0.7971082089552238, 0.75, 'entropy = 0.0\\nsamples = 252\\nvalue = [0, 0, 252, 0]'),\n",
       " Text(0.8269589552238806, 0.75, 'X[4] <= 1.5\\nentropy = 1.394\\nsamples = 267\\nvalue = [122, 30, 115, 0]'),\n",
       " Text(0.6986940298507462, 0.6785714285714286, 'X[0] <= 2.5\\nentropy = 1.407\\nsamples = 177\\nvalue = [100, 30, 47, 0]'),\n",
       " Text(0.5764925373134329, 0.6071428571428571, 'X[0] <= 0.5\\nentropy = 1.345\\nsamples = 131\\nvalue = [80, 30, 21, 0]'),\n",
       " Text(0.4925373134328358, 0.5357142857142857, 'X[1] <= 2.5\\nentropy = 0.939\\nsamples = 45\\nvalue = [29, 0, 16, 0]'),\n",
       " Text(0.47761194029850745, 0.4642857142857143, 'X[2] <= 1.5\\nentropy = 0.711\\nsamples = 36\\nvalue = [29, 0, 7, 0]'),\n",
       " Text(0.4626865671641791, 0.39285714285714285, 'X[4] <= 0.5\\nentropy = 0.977\\nsamples = 17\\nvalue = [10, 0, 7, 0]'),\n",
       " Text(0.44776119402985076, 0.32142857142857145, 'entropy = 0.0\\nsamples = 7\\nvalue = [7, 0, 0, 0]'),\n",
       " Text(0.47761194029850745, 0.32142857142857145, 'X[2] <= 0.5\\nentropy = 0.881\\nsamples = 10\\nvalue = [3, 0, 7, 0]'),\n",
       " Text(0.4626865671641791, 0.25, 'entropy = 0.0\\nsamples = 5\\nvalue = [0, 0, 5, 0]'),\n",
       " Text(0.4925373134328358, 0.25, 'X[3] <= 1.5\\nentropy = 0.971\\nsamples = 5\\nvalue = [3, 0, 2, 0]'),\n",
       " Text(0.47761194029850745, 0.17857142857142858, 'entropy = 0.0\\nsamples = 2\\nvalue = [0, 0, 2, 0]'),\n",
       " Text(0.5074626865671642, 0.17857142857142858, 'entropy = 0.0\\nsamples = 3\\nvalue = [3, 0, 0, 0]'),\n",
       " Text(0.4925373134328358, 0.39285714285714285, 'entropy = 0.0\\nsamples = 19\\nvalue = [19, 0, 0, 0]'),\n",
       " Text(0.5074626865671642, 0.4642857142857143, 'entropy = 0.0\\nsamples = 9\\nvalue = [0, 0, 9, 0]'),\n",
       " Text(0.6604477611940298, 0.5357142857142857, 'X[1] <= 2.5\\nentropy = 1.216\\nsamples = 86\\nvalue = [51, 30, 5, 0]'),\n",
       " Text(0.6044776119402985, 0.4642857142857143, 'X[1] <= 0.5\\nentropy = 1.163\\nsamples = 66\\nvalue = [34, 30, 2, 0]'),\n",
       " Text(0.5522388059701493, 0.39285714285714285, 'X[0] <= 1.5\\nentropy = 0.503\\nsamples = 18\\nvalue = [16, 0, 2, 0]'),\n",
       " Text(0.5373134328358209, 0.32142857142857145, 'entropy = 0.0\\nsamples = 10\\nvalue = [10, 0, 0, 0]'),\n",
       " Text(0.5671641791044776, 0.32142857142857145, 'X[2] <= 1.5\\nentropy = 0.811\\nsamples = 8\\nvalue = [6, 0, 2, 0]'),\n",
       " Text(0.5522388059701493, 0.25, 'X[4] <= 0.5\\nentropy = 0.971\\nsamples = 5\\nvalue = [3, 0, 2, 0]'),\n",
       " Text(0.5373134328358209, 0.17857142857142858, 'entropy = 0.0\\nsamples = 3\\nvalue = [3, 0, 0, 0]'),\n",
       " Text(0.5671641791044776, 0.17857142857142858, 'entropy = 0.0\\nsamples = 2\\nvalue = [0, 0, 2, 0]'),\n",
       " Text(0.582089552238806, 0.25, 'entropy = 0.0\\nsamples = 3\\nvalue = [3, 0, 0, 0]'),\n",
       " Text(0.6567164179104478, 0.39285714285714285, 'X[1] <= 1.5\\nentropy = 0.954\\nsamples = 48\\nvalue = [18, 30, 0, 0]'),\n",
       " Text(0.6268656716417911, 0.32142857142857145, 'X[2] <= 1.5\\nentropy = 0.634\\nsamples = 25\\nvalue = [4, 21, 0, 0]'),\n",
       " Text(0.6119402985074627, 0.25, 'X[4] <= 0.5\\nentropy = 0.971\\nsamples = 10\\nvalue = [4, 6, 0, 0]'),\n",
       " Text(0.5970149253731343, 0.17857142857142858, 'entropy = 0.0\\nsamples = 4\\nvalue = [0, 4, 0, 0]'),\n",
       " Text(0.6268656716417911, 0.17857142857142858, 'X[2] <= 0.5\\nentropy = 0.918\\nsamples = 6\\nvalue = [4, 2, 0, 0]'),\n",
       " Text(0.6119402985074627, 0.10714285714285714, 'entropy = 0.0\\nsamples = 3\\nvalue = [3, 0, 0, 0]'),\n",
       " Text(0.6417910447761194, 0.10714285714285714, 'X[3] <= 1.5\\nentropy = 0.918\\nsamples = 3\\nvalue = [1, 2, 0, 0]'),\n",
       " Text(0.6268656716417911, 0.03571428571428571, 'entropy = 0.0\\nsamples = 1\\nvalue = [1, 0, 0, 0]'),\n",
       " Text(0.6567164179104478, 0.03571428571428571, 'entropy = 0.0\\nsamples = 2\\nvalue = [0, 2, 0, 0]'),\n",
       " Text(0.6417910447761194, 0.25, 'entropy = 0.0\\nsamples = 15\\nvalue = [0, 15, 0, 0]'),\n",
       " Text(0.6865671641791045, 0.32142857142857145, 'X[0] <= 1.5\\nentropy = 0.966\\nsamples = 23\\nvalue = [14, 9, 0, 0]'),\n",
       " Text(0.6716417910447762, 0.25, 'X[4] <= 0.5\\nentropy = 0.811\\nsamples = 12\\nvalue = [3, 9, 0, 0]'),\n",
       " Text(0.6567164179104478, 0.17857142857142858, 'entropy = 0.0\\nsamples = 7\\nvalue = [0, 7, 0, 0]'),\n",
       " Text(0.6865671641791045, 0.17857142857142858, 'X[2] <= 0.5\\nentropy = 0.971\\nsamples = 5\\nvalue = [3, 2, 0, 0]'),\n",
       " Text(0.6716417910447762, 0.10714285714285714, 'entropy = 0.0\\nsamples = 2\\nvalue = [2, 0, 0, 0]'),\n",
       " Text(0.7014925373134329, 0.10714285714285714, 'X[3] <= 1.5\\nentropy = 0.918\\nsamples = 3\\nvalue = [1, 2, 0, 0]'),\n",
       " Text(0.6865671641791045, 0.03571428571428571, 'entropy = 0.0\\nsamples = 1\\nvalue = [1, 0, 0, 0]'),\n",
       " Text(0.7164179104477612, 0.03571428571428571, 'entropy = 0.0\\nsamples = 2\\nvalue = [0, 2, 0, 0]'),\n",
       " Text(0.7014925373134329, 0.25, 'entropy = 0.0\\nsamples = 11\\nvalue = [11, 0, 0, 0]'),\n",
       " Text(0.7164179104477612, 0.4642857142857143, 'X[4] <= 0.5\\nentropy = 0.61\\nsamples = 20\\nvalue = [17, 0, 3, 0]'),\n",
       " Text(0.7014925373134329, 0.39285714285714285, 'entropy = 0.0\\nsamples = 12\\nvalue = [12, 0, 0, 0]'),\n",
       " Text(0.7313432835820896, 0.39285714285714285, 'X[2] <= 1.5\\nentropy = 0.954\\nsamples = 8\\nvalue = [5, 0, 3, 0]'),\n",
       " Text(0.7164179104477612, 0.32142857142857145, 'entropy = 0.0\\nsamples = 3\\nvalue = [0, 0, 3, 0]'),\n",
       " Text(0.746268656716418, 0.32142857142857145, 'entropy = 0.0\\nsamples = 5\\nvalue = [5, 0, 0, 0]'),\n",
       " Text(0.8208955223880597, 0.6071428571428571, 'X[1] <= 2.5\\nentropy = 0.988\\nsamples = 46\\nvalue = [20, 0, 26, 0]'),\n",
       " Text(0.8059701492537313, 0.5357142857142857, 'X[1] <= 0.5\\nentropy = 0.985\\nsamples = 35\\nvalue = [20, 0, 15, 0]'),\n",
       " Text(0.7910447761194029, 0.4642857142857143, 'entropy = 0.0\\nsamples = 10\\nvalue = [0, 0, 10, 0]'),\n",
       " Text(0.8208955223880597, 0.4642857142857143, 'X[2] <= 0.5\\nentropy = 0.722\\nsamples = 25\\nvalue = [20, 0, 5, 0]'),\n",
       " Text(0.7910447761194029, 0.39285714285714285, 'X[4] <= 0.5\\nentropy = 0.918\\nsamples = 6\\nvalue = [2, 0, 4, 0]'),\n",
       " Text(0.7761194029850746, 0.32142857142857145, 'entropy = 0.0\\nsamples = 2\\nvalue = [2, 0, 0, 0]'),\n",
       " Text(0.8059701492537313, 0.32142857142857145, 'entropy = 0.0\\nsamples = 4\\nvalue = [0, 0, 4, 0]'),\n",
       " Text(0.8507462686567164, 0.39285714285714285, 'X[2] <= 1.5\\nentropy = 0.297\\nsamples = 19\\nvalue = [18, 0, 1, 0]'),\n",
       " Text(0.835820895522388, 0.32142857142857145, 'X[4] <= 0.5\\nentropy = 0.65\\nsamples = 6\\nvalue = [5, 0, 1, 0]'),\n",
       " Text(0.8208955223880597, 0.25, 'entropy = 0.0\\nsamples = 4\\nvalue = [4, 0, 0, 0]'),\n",
       " Text(0.8507462686567164, 0.25, 'entropy = 1.0\\nsamples = 2\\nvalue = [1, 0, 1, 0]'),\n",
       " Text(0.8656716417910447, 0.32142857142857145, 'entropy = 0.0\\nsamples = 13\\nvalue = [13, 0, 0, 0]'),\n",
       " Text(0.835820895522388, 0.5357142857142857, 'entropy = 0.0\\nsamples = 11\\nvalue = [0, 0, 11, 0]'),\n",
       " Text(0.9552238805970149, 0.6785714285714286, 'X[0] <= 0.5\\nentropy = 0.802\\nsamples = 90\\nvalue = [22, 0, 68, 0]'),\n",
       " Text(0.9402985074626866, 0.6071428571428571, 'entropy = 0.0\\nsamples = 28\\nvalue = [0, 0, 28, 0]'),\n",
       " Text(0.9701492537313433, 0.6071428571428571, 'X[0] <= 2.5\\nentropy = 0.938\\nsamples = 62\\nvalue = [22, 0, 40, 0]'),\n",
       " Text(0.9552238805970149, 0.5357142857142857, 'X[1] <= 2.5\\nentropy = 0.993\\nsamples = 40\\nvalue = [22, 0, 18, 0]'),\n",
       " Text(0.9402985074626866, 0.4642857142857143, 'X[2] <= 0.5\\nentropy = 0.869\\nsamples = 31\\nvalue = [22, 0, 9, 0]'),\n",
       " Text(0.9104477611940298, 0.39285714285714285, 'X[3] <= 1.5\\nentropy = 0.881\\nsamples = 10\\nvalue = [3, 0, 7, 0]'),\n",
       " Text(0.8955223880597015, 0.32142857142857145, 'X[1] <= 0.5\\nentropy = 0.811\\nsamples = 4\\nvalue = [3, 0, 1, 0]'),\n",
       " Text(0.8805970149253731, 0.25, 'entropy = 1.0\\nsamples = 2\\nvalue = [1, 0, 1, 0]'),\n",
       " Text(0.9104477611940298, 0.25, 'entropy = 0.0\\nsamples = 2\\nvalue = [2, 0, 0, 0]'),\n",
       " Text(0.9253731343283582, 0.32142857142857145, 'entropy = 0.0\\nsamples = 6\\nvalue = [0, 0, 6, 0]'),\n",
       " Text(0.9701492537313433, 0.39285714285714285, 'X[1] <= 0.5\\nentropy = 0.454\\nsamples = 21\\nvalue = [19, 0, 2, 0]'),\n",
       " Text(0.9552238805970149, 0.32142857142857145, 'X[0] <= 1.5\\nentropy = 0.971\\nsamples = 5\\nvalue = [3, 0, 2, 0]'),\n",
       " Text(0.9402985074626866, 0.25, 'entropy = 0.0\\nsamples = 3\\nvalue = [3, 0, 0, 0]'),\n",
       " Text(0.9701492537313433, 0.25, 'entropy = 0.0\\nsamples = 2\\nvalue = [0, 0, 2, 0]'),\n",
       " Text(0.9850746268656716, 0.32142857142857145, 'entropy = 0.0\\nsamples = 16\\nvalue = [16, 0, 0, 0]'),\n",
       " Text(0.9701492537313433, 0.4642857142857143, 'entropy = 0.0\\nsamples = 9\\nvalue = [0, 0, 9, 0]'),\n",
       " Text(0.9850746268656716, 0.5357142857142857, 'entropy = 0.0\\nsamples = 22\\nvalue = [0, 0, 22, 0]')]"
      ]
     },
     "execution_count": 218,
     "metadata": {},
     "output_type": "execute_result"
    },
    {
     "data": {
      "image/png": "[encoded data removed]",
      "text/plain": [
       "<Figure size 640x480 with 1 Axes>"
      ]
     },
     "metadata": {},
     "output_type": "display_data"
    }
   ],
   "source": [
    "tree.plot_tree(best_dt_model)"
   ]
  },
  {
   "cell_type": "markdown",
   "id": "84afae45",
   "metadata": {},
   "source": [
    "## Classifier n°2: random forest"
   ]
  },
  {
   "cell_type": "code",
   "execution_count": 219,
   "id": "7d0e79f7",
   "metadata": {},
   "outputs": [],
   "source": [
    "random_forest = RandomForestClassifier()\n",
    "parameters = {'criterion': ['entropy', 'gini'],\n",
    "                'max_depth': randint(1, 50),\n",
    "                'min_samples_split':  randint(2, 1000),\n",
    "                'max_features': ['sqrt', 'log2', None]}"
   ]
  },
  {
   "cell_type": "markdown",
   "id": "348397a4",
   "metadata": {},
   "source": [
    "#### Finding the best random forest"
   ]
  },
  {
   "cell_type": "code",
   "execution_count": 220,
   "id": "ea5d777e",
   "metadata": {},
   "outputs": [
    {
     "name": "stdout",
     "output_type": "stream",
     "text": [
      "Random Search CV results\n",
      "\n",
      " The best estimator:\n",
      " RandomForestClassifier(max_depth=20, max_features=None, min_samples_split=9)\n",
      "\n",
      " The best score:\n",
      " 0.9263874445843139\n",
      "\t  criterion :  gini\n",
      "\t  max_depth :  20\n",
      "\t  max_features :  None\n",
      "\t  min_samples_split :  9\n",
      "\n",
      " The best cross validation strategy:\n",
      " 2\n"
     ]
    }
   ],
   "source": [
    "best_random_forest = sk.model_selection.RandomizedSearchCV(estimator=random_forest, param_distributions = parameters,cv = 2, n_iter = 500, n_jobs=-1)\n",
    "best_random_forest.fit(X_train, y_train)\n",
    "\n",
    "print(\"Random Search CV results\" )\n",
    "print(\"\\n The best estimator:\\n\", best_random_forest.best_estimator_)\n",
    "print(\"\\n The best score:\\n\", best_random_forest.best_score_)\n",
    "for param, value in best_random_forest.best_params_.items():\n",
    "    print(\"\\t \", param, \": \", value)\n",
    "print(\"\\n The best cross validation strategy:\\n\", best_random_forest.cv)"
   ]
  },
  {
   "cell_type": "code",
   "execution_count": 221,
   "id": "4f365484",
   "metadata": {},
   "outputs": [
    {
     "name": "stdout",
     "output_type": "stream",
     "text": [
      "--- runtime --- 0.10376620292663574\n"
     ]
    }
   ],
   "source": [
    "start_time = time.time()\n",
    "best_rf_model = best_random_forest.best_estimator_\n",
    "best_rf_model = best_rf_model.fit(X_train,y_train)  \n",
    "best_rf_prediction = best_rf_model.predict(X_test)\n",
    "print(\"--- runtime ---\" , (time.time() - start_time))\n",
    "best_models['random_forest'] = best_rf_model"
   ]
  },
  {
   "cell_type": "code",
   "execution_count": 222,
   "id": "6e95f0f1",
   "metadata": {},
   "outputs": [
    {
     "data": {
      "image/png": "[encoded data removed]",
      "text/plain": [
       "<Figure size 640x480 with 2 Axes>"
      ]
     },
     "metadata": {},
     "output_type": "display_data"
    },
    {
     "name": "stdout",
     "output_type": "stream",
     "text": [
      "accuracy: 0.9633911368015414\n",
      "precision: 0.9667172905882684\n",
      "recall: 0.9633911368015414\n",
      "F1: 0.9641776910636665\n",
      "Cross validated scores: [0.95867769 0.95041322 0.95454545 0.97107438 0.9253112 ]\n"
     ]
    }
   ],
   "source": [
    "best_rf_cm = metrics.confusion_matrix(y_test, best_rf_prediction)\n",
    "sns.heatmap(best_rf_cm, annot=True, cmap='Blues', fmt='d')\n",
    "plt.xlabel('Predicted labels')\n",
    "plt.ylabel('True labels')\n",
    "plt.title('Confusion Matrix')\n",
    "plt.show()\n",
    "\n",
    "print(\"accuracy:\",metrics.accuracy_score(y_test,best_rf_prediction))\n",
    "print(\"precision:\",metrics.precision_score(y_test,best_rf_prediction, average='weighted'))\n",
    "print(\"recall:\",metrics.recall_score(y_test,best_rf_prediction, average='weighted'))\n",
    "print(\"F1:\",metrics.f1_score(y_test,best_rf_prediction, average='weighted'))\n",
    "\n",
    "cv_scores = cross_val_score(best_rf_model,X_train,y_train,cv=5)\n",
    "print(\"Cross validated scores:\",cv_scores)"
   ]
  },
  {
   "cell_type": "markdown",
   "id": "0d26b74d",
   "metadata": {},
   "source": [
    "## Classifier n°3: KNN"
   ]
  },
  {
   "cell_type": "code",
   "execution_count": 223,
   "id": "e677fbe6",
   "metadata": {},
   "outputs": [],
   "source": [
    "knn = KNeighborsClassifier()\n",
    "parameters = {'n_neighbors': randint(1,50),\n",
    "              'weights': ['uniform', 'distance'],\n",
    "              'algorithm': ['brute']\n",
    "}"
   ]
  },
  {
   "cell_type": "markdown",
   "id": "91cc6888",
   "metadata": {},
   "source": [
    "#### Finding the best KNN"
   ]
  },
  {
   "cell_type": "code",
   "execution_count": 224,
   "id": "033ebd21",
   "metadata": {},
   "outputs": [
    {
     "name": "stdout",
     "output_type": "stream",
     "text": [
      "Random Search CV results\n",
      "\n",
      " The best estimator:\n",
      " KNeighborsClassifier(algorithm='brute', n_neighbors=3)\n",
      "\n",
      " The best score:\n",
      " 0.8552569645886925\n",
      "\t  algorithm :  brute\n",
      "\t  n_neighbors :  3\n",
      "\t  weights :  uniform\n",
      "\n",
      " The best cross validation strategy:\n",
      " 2\n"
     ]
    }
   ],
   "source": [
    "best_KNN = sk.model_selection.RandomizedSearchCV(estimator=knn, param_distributions = parameters, cv = 2, n_iter = 500, n_jobs=-1)\n",
    "best_KNN.fit(X_train, y_train)\n",
    "\n",
    "print(\"Random Search CV results\" )\n",
    "print(\"\\n The best estimator:\\n\", best_KNN.best_estimator_)\n",
    "print(\"\\n The best score:\\n\", best_KNN.best_score_)\n",
    "for param, value in best_KNN.best_params_.items():\n",
    "    print(\"\\t \", param, \": \", value)\n",
    "print(\"\\n The best cross validation strategy:\\n\", best_KNN.cv)\n"
   ]
  },
  {
   "cell_type": "code",
   "execution_count": 230,
   "id": "18cddbcf",
   "metadata": {},
   "outputs": [
    {
     "name": "stdout",
     "output_type": "stream",
     "text": [
      "--- runtime --- 0.03214669227600098\n"
     ]
    },
    {
     "name": "stderr",
     "output_type": "stream",
     "text": [
      "C:\\Users\\IvanaD\\anaconda3\\lib\\site-packages\\sklearn\\neighbors\\_classification.py:228: FutureWarning: Unlike other reduction functions (e.g. `skew`, `kurtosis`), the default behavior of `mode` typically preserves the axis it acts along. In SciPy 1.11.0, this behavior will change: the default value of `keepdims` will become False, the `axis` over which the statistic is taken will be eliminated, and the value None will no longer be accepted. Set `keepdims` to True or False to avoid this warning.\n",
      "  mode, _ = stats.mode(_y[neigh_ind, k], axis=1)\n"
     ]
    }
   ],
   "source": [
    "start_time = time.time()\n",
    "best_knn_model = best_KNN.best_estimator_\n",
    "best_knn_model = best_knn_model.fit(X_train,y_train)  \n",
    "best_knn_prediction = best_knn_model.predict(X_test)\n",
    "print(\"--- runtime ---\" , (time.time() - start_time))\n",
    "best_models['knn'] = best_knn_model"
   ]
  },
  {
   "cell_type": "code",
   "execution_count": 226,
   "id": "8235c9cd",
   "metadata": {},
   "outputs": [
    {
     "data": {
      "image/png": "[encoded data removed]",
      "text/plain": [
       "<Figure size 640x480 with 2 Axes>"
      ]
     },
     "metadata": {},
     "output_type": "display_data"
    },
    {
     "name": "stdout",
     "output_type": "stream",
     "text": [
      "accuracy: 0.9248554913294798\n",
      "precision: 0.9241236373785938\n",
      "recall: 0.9248554913294798\n",
      "F1: 0.9241003878477607\n",
      "Cross validated scores: [0.87190083 0.88842975 0.92561983 0.88429752 0.87551867]\n"
     ]
    },
    {
     "name": "stderr",
     "output_type": "stream",
     "text": [
      "C:\\Users\\IvanaD\\anaconda3\\lib\\site-packages\\sklearn\\neighbors\\_classification.py:228: FutureWarning: Unlike other reduction functions (e.g. `skew`, `kurtosis`), the default behavior of `mode` typically preserves the axis it acts along. In SciPy 1.11.0, this behavior will change: the default value of `keepdims` will become False, the `axis` over which the statistic is taken will be eliminated, and the value None will no longer be accepted. Set `keepdims` to True or False to avoid this warning.\n",
      "  mode, _ = stats.mode(_y[neigh_ind, k], axis=1)\n",
      "C:\\Users\\IvanaD\\anaconda3\\lib\\site-packages\\sklearn\\neighbors\\_classification.py:228: FutureWarning: Unlike other reduction functions (e.g. `skew`, `kurtosis`), the default behavior of `mode` typically preserves the axis it acts along. In SciPy 1.11.0, this behavior will change: the default value of `keepdims` will become False, the `axis` over which the statistic is taken will be eliminated, and the value None will no longer be accepted. Set `keepdims` to True or False to avoid this warning.\n",
      "  mode, _ = stats.mode(_y[neigh_ind, k], axis=1)\n",
      "C:\\Users\\IvanaD\\anaconda3\\lib\\site-packages\\sklearn\\neighbors\\_classification.py:228: FutureWarning: Unlike other reduction functions (e.g. `skew`, `kurtosis`), the default behavior of `mode` typically preserves the axis it acts along. In SciPy 1.11.0, this behavior will change: the default value of `keepdims` will become False, the `axis` over which the statistic is taken will be eliminated, and the value None will no longer be accepted. Set `keepdims` to True or False to avoid this warning.\n",
      "  mode, _ = stats.mode(_y[neigh_ind, k], axis=1)\n",
      "C:\\Users\\IvanaD\\anaconda3\\lib\\site-packages\\sklearn\\neighbors\\_classification.py:228: FutureWarning: Unlike other reduction functions (e.g. `skew`, `kurtosis`), the default behavior of `mode` typically preserves the axis it acts along. In SciPy 1.11.0, this behavior will change: the default value of `keepdims` will become False, the `axis` over which the statistic is taken will be eliminated, and the value None will no longer be accepted. Set `keepdims` to True or False to avoid this warning.\n",
      "  mode, _ = stats.mode(_y[neigh_ind, k], axis=1)\n",
      "C:\\Users\\IvanaD\\anaconda3\\lib\\site-packages\\sklearn\\neighbors\\_classification.py:228: FutureWarning: Unlike other reduction functions (e.g. `skew`, `kurtosis`), the default behavior of `mode` typically preserves the axis it acts along. In SciPy 1.11.0, this behavior will change: the default value of `keepdims` will become False, the `axis` over which the statistic is taken will be eliminated, and the value None will no longer be accepted. Set `keepdims` to True or False to avoid this warning.\n",
      "  mode, _ = stats.mode(_y[neigh_ind, k], axis=1)\n"
     ]
    }
   ],
   "source": [
    "best_knn_cm = metrics.confusion_matrix(y_test, best_knn_prediction)\n",
    "sns.heatmap(best_knn_cm, annot=True, cmap='Blues', fmt='d')\n",
    "plt.xlabel('Predicted labels')\n",
    "plt.ylabel('True labels')\n",
    "plt.title('Confusion Matrix')\n",
    "plt.show()\n",
    "\n",
    "print(\"accuracy:\",metrics.accuracy_score(y_test,best_knn_prediction))\n",
    "print(\"precision:\",metrics.precision_score(y_test,best_knn_prediction, average='weighted'))\n",
    "print(\"recall:\",metrics.recall_score(y_test,best_knn_prediction, average='weighted'))\n",
    "print(\"F1:\",metrics.f1_score(y_test,best_knn_prediction, average='weighted'))\n",
    "\n",
    "cv_scores = cross_val_score(best_knn_model,X_train,y_train,cv=5)\n",
    "print(\"Cross validated scores:\",cv_scores)"
   ]
  },
  {
   "cell_type": "markdown",
   "id": "8c216588",
   "metadata": {},
   "source": [
    "## Evaluation"
   ]
  },
  {
   "cell_type": "code",
   "execution_count": 227,
   "id": "3620726e",
   "metadata": {},
   "outputs": [],
   "source": [
    "def eval_function(y_test, best_prediction):\n",
    "    print(\"accuracy:\",metrics.accuracy_score(y_test,best_prediction))\n",
    "    print(\"precision:\",metrics.precision_score(y_test,best_prediction, average='weighted'))\n",
    "    print(\"recall:\",metrics.recall_score(y_test,best_prediction, average='weighted'))\n",
    "    print(\"F1:\",metrics.f1_score(y_test,best_prediction, average='weighted'))\n"
   ]
  },
  {
   "cell_type": "code",
   "execution_count": 228,
   "id": "645bad8f",
   "metadata": {},
   "outputs": [
    {
     "name": "stderr",
     "output_type": "stream",
     "text": [
      "C:\\Users\\IvanaD\\anaconda3\\lib\\site-packages\\sklearn\\neighbors\\_classification.py:228: FutureWarning: Unlike other reduction functions (e.g. `skew`, `kurtosis`), the default behavior of `mode` typically preserves the axis it acts along. In SciPy 1.11.0, this behavior will change: the default value of `keepdims` will become False, the `axis` over which the statistic is taken will be eliminated, and the value None will no longer be accepted. Set `keepdims` to True or False to avoid this warning.\n",
      "  mode, _ = stats.mode(_y[neigh_ind, k], axis=1)\n"
     ]
    }
   ],
   "source": [
    "best_prediction_dict = {}\n",
    "for name, best_model in best_models.items():\n",
    "    best_prediction_dict[name] = best_model.predict(X_test)"
   ]
  },
  {
   "cell_type": "code",
   "execution_count": 229,
   "id": "5904e7e9",
   "metadata": {},
   "outputs": [
    {
     "name": "stdout",
     "output_type": "stream",
     "text": [
      "\t decision_tree \n",
      "accuracy: 0.976878612716763\n",
      "precision: 0.9770300579506633\n",
      "recall: 0.976878612716763\n",
      "F1: 0.9769216439659945\n",
      "\n",
      "\n",
      "\t random_forest \n",
      "accuracy: 0.9633911368015414\n",
      "precision: 0.9667172905882684\n",
      "recall: 0.9633911368015414\n",
      "F1: 0.9641776910636665\n",
      "\n",
      "\n",
      "\t knn \n",
      "accuracy: 0.9248554913294798\n",
      "precision: 0.9241236373785938\n",
      "recall: 0.9248554913294798\n",
      "F1: 0.9241003878477607\n",
      "\n",
      "\n"
     ]
    }
   ],
   "source": [
    "for name, best_prediction in best_prediction_dict.items():\n",
    "    print(f'\\t {name} ')\n",
    "    eval_function(y_test, best_prediction)\n",
    "    print('\\n')"
   ]
  }
 ],
 "metadata": {
  "kernelspec": {
   "display_name": "Python 3 (ipykernel)",
   "language": "python",
   "name": "python3"
  },
  "language_info": {
   "codemirror_mode": {
    "name": "ipython",
    "version": 3
   },
   "file_extension": ".py",
   "mimetype": "text/x-python",
   "name": "python",
   "nbconvert_exporter": "python",
   "pygments_lexer": "ipython3",
   "version": "3.9.13"
  }
 },
 "nbformat": 4,
 "nbformat_minor": 5
}
