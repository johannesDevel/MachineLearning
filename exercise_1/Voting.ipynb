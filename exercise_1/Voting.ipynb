{
 "cells": [
  {
   "cell_type": "code",
   "execution_count": 78,
   "id": "60d62d14",
   "metadata": {},
   "outputs": [],
   "source": [
    "import pandas as pandas\n",
    "import matplotlib.pyplot as plot\n",
    "import time\n",
    "from sklearn import metrics\n",
    "from sklearn.preprocessing import LabelEncoder\n",
    "from sklearn.tree import DecisionTreeClassifier, plot_tree\n",
    "from sklearn.ensemble import RandomForestClassifier\n",
    "from sklearn.neighbors import KNeighborsClassifier\n",
    "from sklearn.model_selection import train_test_split, cross_val_score\n",
    "import matplotlib.pyplot as plt\n"
   ]
  },
  {
   "cell_type": "code",
   "execution_count": 72,
   "id": "8e54de09",
   "metadata": {},
   "outputs": [],
   "source": [
    "def split_data(X,y):\n",
    "    X_train, X_remaining, y_train, y_remaining = train_test_split(\n",
    "        X, y, stratify=y, test_size=0.25, random_state= 0)\n",
    "    X_test, X_holdout, y_test, y_holdout = train_test_split(X_remaining, y_remaining,\n",
    "        stratify=y_remaining, test_size=0.3, random_state= 0)\n",
    "    return X_train,y_train,X_test,y_test,X_holdout,y_holdout\n",
    "\n",
    "def eval_metrics(test,pred,type=\"binary\"):\n",
    "    print(\"confusion matrix:\",metrics.confusion_matrix(test,pred))\n",
    "    print(\"accuracy:\",metrics.accuracy_score(test,pred))\n",
    "\n",
    "    if type == \"binary\":\n",
    "        print(\"precision:\",metrics.precision_score(test,pred))\n",
    "        print(\"recall:\",metrics.recall_score(test,pred))\n",
    "\n",
    "    elif type == \"multi\":\n",
    "        print(\"precision:\",metrics.precision_score(test,pred,average=\"macro\"))\n",
    "        print(\"recall:\",metrics.recall_score(test,pred,average=\"macro\"))\n",
    "\n",
    "def cv_holdout(mod,holdout_X, holdout_y,k=5):\n",
    "    cv_scores = cross_val_score(mod,holdout_X,holdout_y,cv=k)\n",
    "    print(\"Cross validated scores:\",cv_scores)"
   ]
  },
  {
   "cell_type": "markdown",
   "id": "dbb4d9ee",
   "metadata": {},
   "source": [
    "# Voting"
   ]
  },
  {
   "cell_type": "code",
   "execution_count": 30,
   "id": "e7b3645b",
   "metadata": {},
   "outputs": [],
   "source": [
    "voting_train = pandas.read_csv(\"CongressionalVotingID.shuf.lrn.csv\")"
   ]
  },
  {
   "cell_type": "code",
   "execution_count": 31,
   "id": "f71c0f72",
   "metadata": {},
   "outputs": [
    {
     "data": {
      "text/html": [
       "<div>\n",
       "<style scoped>\n",
       "    .dataframe tbody tr th:only-of-type {\n",
       "        vertical-align: middle;\n",
       "    }\n",
       "\n",
       "    .dataframe tbody tr th {\n",
       "        vertical-align: top;\n",
       "    }\n",
       "\n",
       "    .dataframe thead th {\n",
       "        text-align: right;\n",
       "    }\n",
       "</style>\n",
       "<table border=\"1\" class=\"dataframe\">\n",
       "  <thead>\n",
       "    <tr style=\"text-align: right;\">\n",
       "      <th></th>\n",
       "      <th>ID</th>\n",
       "      <th>class</th>\n",
       "      <th>handicapped-infants</th>\n",
       "      <th>water-project-cost-sharing</th>\n",
       "      <th>adoption-of-the-budget-resolution</th>\n",
       "      <th>physician-fee-freeze</th>\n",
       "      <th>el-salvador-aid</th>\n",
       "      <th>religious-groups-in-schools</th>\n",
       "      <th>anti-satellite-test-ban</th>\n",
       "      <th>aid-to-nicaraguan-contras</th>\n",
       "      <th>mx-missile</th>\n",
       "      <th>immigration</th>\n",
       "      <th>synfuels-crporation-cutback</th>\n",
       "      <th>education-spending</th>\n",
       "      <th>superfund-right-to-sue</th>\n",
       "      <th>crime</th>\n",
       "      <th>duty-free-exports</th>\n",
       "      <th>export-administration-act-south-africa</th>\n",
       "    </tr>\n",
       "  </thead>\n",
       "  <tbody>\n",
       "    <tr>\n",
       "      <th>0</th>\n",
       "      <td>249</td>\n",
       "      <td>republican</td>\n",
       "      <td>unknown</td>\n",
       "      <td>unknown</td>\n",
       "      <td>unknown</td>\n",
       "      <td>unknown</td>\n",
       "      <td>unknown</td>\n",
       "      <td>unknown</td>\n",
       "      <td>unknown</td>\n",
       "      <td>unknown</td>\n",
       "      <td>unknown</td>\n",
       "      <td>unknown</td>\n",
       "      <td>unknown</td>\n",
       "      <td>unknown</td>\n",
       "      <td>unknown</td>\n",
       "      <td>unknown</td>\n",
       "      <td>unknown</td>\n",
       "      <td>unknown</td>\n",
       "    </tr>\n",
       "    <tr>\n",
       "      <th>1</th>\n",
       "      <td>140</td>\n",
       "      <td>democrat</td>\n",
       "      <td>y</td>\n",
       "      <td>n</td>\n",
       "      <td>y</td>\n",
       "      <td>n</td>\n",
       "      <td>n</td>\n",
       "      <td>y</td>\n",
       "      <td>y</td>\n",
       "      <td>y</td>\n",
       "      <td>y</td>\n",
       "      <td>n</td>\n",
       "      <td>n</td>\n",
       "      <td>n</td>\n",
       "      <td>n</td>\n",
       "      <td>n</td>\n",
       "      <td>y</td>\n",
       "      <td>y</td>\n",
       "    </tr>\n",
       "    <tr>\n",
       "      <th>2</th>\n",
       "      <td>383</td>\n",
       "      <td>democrat</td>\n",
       "      <td>y</td>\n",
       "      <td>y</td>\n",
       "      <td>n</td>\n",
       "      <td>y</td>\n",
       "      <td>y</td>\n",
       "      <td>y</td>\n",
       "      <td>n</td>\n",
       "      <td>n</td>\n",
       "      <td>n</td>\n",
       "      <td>n</td>\n",
       "      <td>y</td>\n",
       "      <td>n</td>\n",
       "      <td>y</td>\n",
       "      <td>y</td>\n",
       "      <td>n</td>\n",
       "      <td>unknown</td>\n",
       "    </tr>\n",
       "    <tr>\n",
       "      <th>3</th>\n",
       "      <td>201</td>\n",
       "      <td>democrat</td>\n",
       "      <td>n</td>\n",
       "      <td>n</td>\n",
       "      <td>y</td>\n",
       "      <td>n</td>\n",
       "      <td>n</td>\n",
       "      <td>n</td>\n",
       "      <td>y</td>\n",
       "      <td>y</td>\n",
       "      <td>y</td>\n",
       "      <td>n</td>\n",
       "      <td>n</td>\n",
       "      <td>n</td>\n",
       "      <td>n</td>\n",
       "      <td>y</td>\n",
       "      <td>y</td>\n",
       "      <td>y</td>\n",
       "    </tr>\n",
       "    <tr>\n",
       "      <th>4</th>\n",
       "      <td>297</td>\n",
       "      <td>republican</td>\n",
       "      <td>n</td>\n",
       "      <td>n</td>\n",
       "      <td>y</td>\n",
       "      <td>y</td>\n",
       "      <td>y</td>\n",
       "      <td>y</td>\n",
       "      <td>n</td>\n",
       "      <td>n</td>\n",
       "      <td>n</td>\n",
       "      <td>y</td>\n",
       "      <td>n</td>\n",
       "      <td>y</td>\n",
       "      <td>y</td>\n",
       "      <td>y</td>\n",
       "      <td>y</td>\n",
       "      <td>y</td>\n",
       "    </tr>\n",
       "  </tbody>\n",
       "</table>\n",
       "</div>"
      ],
      "text/plain": [
       "    ID       class handicapped-infants water-project-cost-sharing  \\\n",
       "0  249  republican             unknown                    unknown   \n",
       "1  140    democrat                   y                          n   \n",
       "2  383    democrat                   y                          y   \n",
       "3  201    democrat                   n                          n   \n",
       "4  297  republican                   n                          n   \n",
       "\n",
       "  adoption-of-the-budget-resolution physician-fee-freeze el-salvador-aid  \\\n",
       "0                           unknown              unknown         unknown   \n",
       "1                                 y                    n               n   \n",
       "2                                 n                    y               y   \n",
       "3                                 y                    n               n   \n",
       "4                                 y                    y               y   \n",
       "\n",
       "  religious-groups-in-schools anti-satellite-test-ban  \\\n",
       "0                     unknown                 unknown   \n",
       "1                           y                       y   \n",
       "2                           y                       n   \n",
       "3                           n                       y   \n",
       "4                           y                       n   \n",
       "\n",
       "  aid-to-nicaraguan-contras mx-missile immigration  \\\n",
       "0                   unknown    unknown     unknown   \n",
       "1                         y          y           n   \n",
       "2                         n          n           n   \n",
       "3                         y          y           n   \n",
       "4                         n          n           y   \n",
       "\n",
       "  synfuels-crporation-cutback education-spending superfund-right-to-sue  \\\n",
       "0                     unknown            unknown                unknown   \n",
       "1                           n                  n                      n   \n",
       "2                           y                  n                      y   \n",
       "3                           n                  n                      n   \n",
       "4                           n                  y                      y   \n",
       "\n",
       "     crime duty-free-exports export-administration-act-south-africa  \n",
       "0  unknown           unknown                                unknown  \n",
       "1        n                 y                                      y  \n",
       "2        y                 n                                unknown  \n",
       "3        y                 y                                      y  \n",
       "4        y                 y                                      y  "
      ]
     },
     "execution_count": 31,
     "metadata": {},
     "output_type": "execute_result"
    }
   ],
   "source": [
    "voting_train.head()"
   ]
  },
  {
   "cell_type": "code",
   "execution_count": 32,
   "id": "6814b1da",
   "metadata": {},
   "outputs": [],
   "source": [
    "voting_test = pandas.read_csv(\"CongressionalVotingID.shuf.tes.csv\")"
   ]
  },
  {
   "cell_type": "code",
   "execution_count": 33,
   "id": "787269e1",
   "metadata": {},
   "outputs": [
    {
     "data": {
      "text/html": [
       "<div>\n",
       "<style scoped>\n",
       "    .dataframe tbody tr th:only-of-type {\n",
       "        vertical-align: middle;\n",
       "    }\n",
       "\n",
       "    .dataframe tbody tr th {\n",
       "        vertical-align: top;\n",
       "    }\n",
       "\n",
       "    .dataframe thead th {\n",
       "        text-align: right;\n",
       "    }\n",
       "</style>\n",
       "<table border=\"1\" class=\"dataframe\">\n",
       "  <thead>\n",
       "    <tr style=\"text-align: right;\">\n",
       "      <th></th>\n",
       "      <th>ID</th>\n",
       "      <th>handicapped-infants</th>\n",
       "      <th>water-project-cost-sharing</th>\n",
       "      <th>adoption-of-the-budget-resolution</th>\n",
       "      <th>physician-fee-freeze</th>\n",
       "      <th>el-salvador-aid</th>\n",
       "      <th>religious-groups-in-schools</th>\n",
       "      <th>anti-satellite-test-ban</th>\n",
       "      <th>aid-to-nicaraguan-contras</th>\n",
       "      <th>mx-missile</th>\n",
       "      <th>immigration</th>\n",
       "      <th>synfuels-crporation-cutback</th>\n",
       "      <th>education-spending</th>\n",
       "      <th>superfund-right-to-sue</th>\n",
       "      <th>crime</th>\n",
       "      <th>duty-free-exports</th>\n",
       "      <th>export-administration-act-south-africa</th>\n",
       "    </tr>\n",
       "  </thead>\n",
       "  <tbody>\n",
       "    <tr>\n",
       "      <th>0</th>\n",
       "      <td>102</td>\n",
       "      <td>y</td>\n",
       "      <td>n</td>\n",
       "      <td>y</td>\n",
       "      <td>n</td>\n",
       "      <td>y</td>\n",
       "      <td>y</td>\n",
       "      <td>y</td>\n",
       "      <td>n</td>\n",
       "      <td>n</td>\n",
       "      <td>n</td>\n",
       "      <td>y</td>\n",
       "      <td>n</td>\n",
       "      <td>n</td>\n",
       "      <td>y</td>\n",
       "      <td>n</td>\n",
       "      <td>y</td>\n",
       "    </tr>\n",
       "    <tr>\n",
       "      <th>1</th>\n",
       "      <td>413</td>\n",
       "      <td>n</td>\n",
       "      <td>n</td>\n",
       "      <td>n</td>\n",
       "      <td>y</td>\n",
       "      <td>y</td>\n",
       "      <td>y</td>\n",
       "      <td>n</td>\n",
       "      <td>n</td>\n",
       "      <td>n</td>\n",
       "      <td>y</td>\n",
       "      <td>n</td>\n",
       "      <td>y</td>\n",
       "      <td>y</td>\n",
       "      <td>y</td>\n",
       "      <td>n</td>\n",
       "      <td>y</td>\n",
       "    </tr>\n",
       "    <tr>\n",
       "      <th>2</th>\n",
       "      <td>30</td>\n",
       "      <td>y</td>\n",
       "      <td>y</td>\n",
       "      <td>y</td>\n",
       "      <td>n</td>\n",
       "      <td>n</td>\n",
       "      <td>n</td>\n",
       "      <td>y</td>\n",
       "      <td>y</td>\n",
       "      <td>y</td>\n",
       "      <td>n</td>\n",
       "      <td>y</td>\n",
       "      <td>n</td>\n",
       "      <td>n</td>\n",
       "      <td>n</td>\n",
       "      <td>y</td>\n",
       "      <td>y</td>\n",
       "    </tr>\n",
       "    <tr>\n",
       "      <th>3</th>\n",
       "      <td>298</td>\n",
       "      <td>y</td>\n",
       "      <td>y</td>\n",
       "      <td>y</td>\n",
       "      <td>n</td>\n",
       "      <td>n</td>\n",
       "      <td>y</td>\n",
       "      <td>y</td>\n",
       "      <td>y</td>\n",
       "      <td>y</td>\n",
       "      <td>y</td>\n",
       "      <td>n</td>\n",
       "      <td>n</td>\n",
       "      <td>unknown</td>\n",
       "      <td>n</td>\n",
       "      <td>y</td>\n",
       "      <td>unknown</td>\n",
       "    </tr>\n",
       "    <tr>\n",
       "      <th>4</th>\n",
       "      <td>95</td>\n",
       "      <td>y</td>\n",
       "      <td>n</td>\n",
       "      <td>y</td>\n",
       "      <td>n</td>\n",
       "      <td>y</td>\n",
       "      <td>y</td>\n",
       "      <td>n</td>\n",
       "      <td>n</td>\n",
       "      <td>n</td>\n",
       "      <td>n</td>\n",
       "      <td>n</td>\n",
       "      <td>n</td>\n",
       "      <td>n</td>\n",
       "      <td>n</td>\n",
       "      <td>n</td>\n",
       "      <td>y</td>\n",
       "    </tr>\n",
       "  </tbody>\n",
       "</table>\n",
       "</div>"
      ],
      "text/plain": [
       "    ID handicapped-infants water-project-cost-sharing  \\\n",
       "0  102                   y                          n   \n",
       "1  413                   n                          n   \n",
       "2   30                   y                          y   \n",
       "3  298                   y                          y   \n",
       "4   95                   y                          n   \n",
       "\n",
       "  adoption-of-the-budget-resolution physician-fee-freeze el-salvador-aid  \\\n",
       "0                                 y                    n               y   \n",
       "1                                 n                    y               y   \n",
       "2                                 y                    n               n   \n",
       "3                                 y                    n               n   \n",
       "4                                 y                    n               y   \n",
       "\n",
       "  religious-groups-in-schools anti-satellite-test-ban  \\\n",
       "0                           y                       y   \n",
       "1                           y                       n   \n",
       "2                           n                       y   \n",
       "3                           y                       y   \n",
       "4                           y                       n   \n",
       "\n",
       "  aid-to-nicaraguan-contras mx-missile immigration  \\\n",
       "0                         n          n           n   \n",
       "1                         n          n           y   \n",
       "2                         y          y           n   \n",
       "3                         y          y           y   \n",
       "4                         n          n           n   \n",
       "\n",
       "  synfuels-crporation-cutback education-spending superfund-right-to-sue crime  \\\n",
       "0                           y                  n                      n     y   \n",
       "1                           n                  y                      y     y   \n",
       "2                           y                  n                      n     n   \n",
       "3                           n                  n                unknown     n   \n",
       "4                           n                  n                      n     n   \n",
       "\n",
       "  duty-free-exports export-administration-act-south-africa  \n",
       "0                 n                                      y  \n",
       "1                 n                                      y  \n",
       "2                 y                                      y  \n",
       "3                 y                                unknown  \n",
       "4                 n                                      y  "
      ]
     },
     "execution_count": 33,
     "metadata": {},
     "output_type": "execute_result"
    }
   ],
   "source": [
    "voting_test.head()"
   ]
  },
  {
   "cell_type": "code",
   "execution_count": 34,
   "id": "cc6b4b0c",
   "metadata": {},
   "outputs": [
    {
     "data": {
      "text/plain": [
       "(218, 18)"
      ]
     },
     "execution_count": 34,
     "metadata": {},
     "output_type": "execute_result"
    }
   ],
   "source": [
    "voting_train.shape"
   ]
  },
  {
   "cell_type": "code",
   "execution_count": 35,
   "id": "cfbdeb85",
   "metadata": {},
   "outputs": [
    {
     "data": {
      "text/plain": [
       "(217, 17)"
      ]
     },
     "execution_count": 35,
     "metadata": {},
     "output_type": "execute_result"
    }
   ],
   "source": [
    "voting_test.shape"
   ]
  },
  {
   "cell_type": "code",
   "execution_count": 36,
   "id": "5c76fc3e",
   "metadata": {},
   "outputs": [
    {
     "data": {
      "text/plain": [
       "Index(['ID', 'class', 'handicapped-infants', 'water-project-cost-sharing',\n",
       "       'adoption-of-the-budget-resolution', 'physician-fee-freeze',\n",
       "       'el-salvador-aid', 'religious-groups-in-schools',\n",
       "       'anti-satellite-test-ban', 'aid-to-nicaraguan-contras', 'mx-missile',\n",
       "       'immigration', 'synfuels-crporation-cutback', 'education-spending',\n",
       "       'superfund-right-to-sue', 'crime', 'duty-free-exports',\n",
       "       'export-administration-act-south-africa'],\n",
       "      dtype='object')"
      ]
     },
     "execution_count": 36,
     "metadata": {},
     "output_type": "execute_result"
    }
   ],
   "source": [
    "voting_train.columns"
   ]
  },
  {
   "cell_type": "code",
   "execution_count": 37,
   "id": "9e13d89c",
   "metadata": {},
   "outputs": [],
   "source": [
    "voting_train = voting_train.set_index(\"ID\")"
   ]
  },
  {
   "cell_type": "code",
   "execution_count": 38,
   "id": "33957ee6",
   "metadata": {},
   "outputs": [
    {
     "data": {
      "text/plain": [
       "<Axes: >"
      ]
     },
     "execution_count": 38,
     "metadata": {},
     "output_type": "execute_result"
    },
    {
     "data": {
      "image/png": "[encoded data removed]",
      "text/plain": [
       "<Figure size 640x480 with 1 Axes>"
      ]
     },
     "metadata": {},
     "output_type": "display_data"
    }
   ],
   "source": [
    "voting_train[\"class\"].value_counts().plot(kind=\"barh\")"
   ]
  },
  {
   "cell_type": "code",
   "execution_count": 39,
   "id": "9ce66bb5",
   "metadata": {
    "scrolled": true
   },
   "outputs": [
    {
     "data": {
      "text/plain": [
       "class                                      0\n",
       "handicapped-infants                        7\n",
       "water-project-cost-sharing                21\n",
       "adoption-of-the-budget-resolution          4\n",
       "physician-fee-freeze                       6\n",
       "el-salvador-aid                            9\n",
       "religious-groups-in-schools                5\n",
       "anti-satellite-test-ban                    6\n",
       "aid-to-nicaraguan-contras                 10\n",
       "mx-missile                                12\n",
       "immigration                                4\n",
       "synfuels-crporation-cutback               13\n",
       "education-spending                        16\n",
       "superfund-right-to-sue                    14\n",
       "crime                                      7\n",
       "duty-free-exports                         14\n",
       "export-administration-act-south-africa    58\n",
       "dtype: int64"
      ]
     },
     "execution_count": 39,
     "metadata": {},
     "output_type": "execute_result"
    }
   ],
   "source": [
    "(voting_train == \"unknown\").sum()"
   ]
  },
  {
   "cell_type": "code",
   "execution_count": 40,
   "id": "bd24d701",
   "metadata": {},
   "outputs": [
    {
     "data": {
      "text/plain": [
       "206"
      ]
     },
     "execution_count": 40,
     "metadata": {},
     "output_type": "execute_result"
    }
   ],
   "source": [
    "(voting_train == \"unknown\").sum(axis=1).sum()"
   ]
  },
  {
   "cell_type": "code",
   "execution_count": 41,
   "id": "c0360cb3",
   "metadata": {},
   "outputs": [],
   "source": [
    "unknown_values_by_id = (voting_train == \"unknown\").sum(axis=1)"
   ]
  },
  {
   "cell_type": "code",
   "execution_count": 42,
   "id": "cb44dc17",
   "metadata": {},
   "outputs": [
    {
     "data": {
      "text/plain": [
       "ID\n",
       "249    16\n",
       "140     0\n",
       "383     1\n",
       "201     0\n",
       "297     0\n",
       "       ..\n",
       "106     0\n",
       "271     0\n",
       "275     0\n",
       "354     0\n",
       "324     2\n",
       "Length: 218, dtype: int64"
      ]
     },
     "execution_count": 42,
     "metadata": {},
     "output_type": "execute_result"
    }
   ],
   "source": [
    "unknown_values_by_id"
   ]
  },
  {
   "cell_type": "code",
   "execution_count": 43,
   "id": "d65007b0",
   "metadata": {},
   "outputs": [
    {
     "data": {
      "text/plain": [
       "Int64Index([249], dtype='int64', name='ID')"
      ]
     },
     "execution_count": 43,
     "metadata": {},
     "output_type": "execute_result"
    }
   ],
   "source": [
    "unknown_values_by_id[unknown_values_by_id > 7].index"
   ]
  },
  {
   "cell_type": "code",
   "execution_count": 44,
   "id": "e76ce6f9",
   "metadata": {},
   "outputs": [],
   "source": [
    "index_to_remove = unknown_values_by_id[unknown_values_by_id > 7].index"
   ]
  },
  {
   "cell_type": "code",
   "execution_count": 45,
   "id": "412ca8bb",
   "metadata": {},
   "outputs": [
    {
     "data": {
      "text/plain": [
       "Int64Index([249], dtype='int64', name='ID')"
      ]
     },
     "execution_count": 45,
     "metadata": {},
     "output_type": "execute_result"
    }
   ],
   "source": [
    "index_to_remove"
   ]
  },
  {
   "cell_type": "code",
   "execution_count": 46,
   "id": "6c21b32d",
   "metadata": {},
   "outputs": [],
   "source": [
    "voting_train = voting_train.drop(index=index_to_remove)"
   ]
  },
  {
   "cell_type": "code",
   "execution_count": 47,
   "id": "dceb371c",
   "metadata": {},
   "outputs": [
    {
     "data": {
      "text/plain": [
       "class                                      0\n",
       "handicapped-infants                        6\n",
       "water-project-cost-sharing                20\n",
       "adoption-of-the-budget-resolution          3\n",
       "physician-fee-freeze                       5\n",
       "el-salvador-aid                            8\n",
       "religious-groups-in-schools                4\n",
       "anti-satellite-test-ban                    5\n",
       "aid-to-nicaraguan-contras                  9\n",
       "mx-missile                                11\n",
       "immigration                                3\n",
       "synfuels-crporation-cutback               12\n",
       "education-spending                        15\n",
       "superfund-right-to-sue                    13\n",
       "crime                                      6\n",
       "duty-free-exports                         13\n",
       "export-administration-act-south-africa    57\n",
       "dtype: int64"
      ]
     },
     "execution_count": 47,
     "metadata": {},
     "output_type": "execute_result"
    }
   ],
   "source": [
    "(voting_train == \"unknown\").sum()"
   ]
  },
  {
   "cell_type": "code",
   "execution_count": 48,
   "id": "1a9a042c",
   "metadata": {},
   "outputs": [],
   "source": [
    "labelEncoder = LabelEncoder()\n",
    "labelEncoder.fit(voting_train[\"handicapped-infants\"])\n",
    "list(labelEncoder.classes_)\n",
    "\n",
    "for col in voting_train.columns[1:]:\n",
    "    voting_train[col] = labelEncoder.transform(voting_train[col])"
   ]
  },
  {
   "cell_type": "code",
   "execution_count": 49,
   "id": "36bda919",
   "metadata": {},
   "outputs": [],
   "source": [
    "LabelEncoder_class = LabelEncoder()\n",
    "LabelEncoder_class.fit(voting_train[\"class\"])\n",
    "list(LabelEncoder_class.classes_)\n",
    "voting_train[\"class\"] = LabelEncoder_class.transform(voting_train[\"class\"])"
   ]
  },
  {
   "cell_type": "code",
   "execution_count": 50,
   "id": "ea02a2a5",
   "metadata": {},
   "outputs": [
    {
     "data": {
      "text/html": [
       "<div>\n",
       "<style scoped>\n",
       "    .dataframe tbody tr th:only-of-type {\n",
       "        vertical-align: middle;\n",
       "    }\n",
       "\n",
       "    .dataframe tbody tr th {\n",
       "        vertical-align: top;\n",
       "    }\n",
       "\n",
       "    .dataframe thead th {\n",
       "        text-align: right;\n",
       "    }\n",
       "</style>\n",
       "<table border=\"1\" class=\"dataframe\">\n",
       "  <thead>\n",
       "    <tr style=\"text-align: right;\">\n",
       "      <th></th>\n",
       "      <th>class</th>\n",
       "      <th>handicapped-infants</th>\n",
       "      <th>water-project-cost-sharing</th>\n",
       "      <th>adoption-of-the-budget-resolution</th>\n",
       "      <th>physician-fee-freeze</th>\n",
       "      <th>el-salvador-aid</th>\n",
       "      <th>religious-groups-in-schools</th>\n",
       "      <th>anti-satellite-test-ban</th>\n",
       "      <th>aid-to-nicaraguan-contras</th>\n",
       "      <th>mx-missile</th>\n",
       "      <th>immigration</th>\n",
       "      <th>synfuels-crporation-cutback</th>\n",
       "      <th>education-spending</th>\n",
       "      <th>superfund-right-to-sue</th>\n",
       "      <th>crime</th>\n",
       "      <th>duty-free-exports</th>\n",
       "      <th>export-administration-act-south-africa</th>\n",
       "    </tr>\n",
       "    <tr>\n",
       "      <th>ID</th>\n",
       "      <th></th>\n",
       "      <th></th>\n",
       "      <th></th>\n",
       "      <th></th>\n",
       "      <th></th>\n",
       "      <th></th>\n",
       "      <th></th>\n",
       "      <th></th>\n",
       "      <th></th>\n",
       "      <th></th>\n",
       "      <th></th>\n",
       "      <th></th>\n",
       "      <th></th>\n",
       "      <th></th>\n",
       "      <th></th>\n",
       "      <th></th>\n",
       "      <th></th>\n",
       "    </tr>\n",
       "  </thead>\n",
       "  <tbody>\n",
       "    <tr>\n",
       "      <th>140</th>\n",
       "      <td>0</td>\n",
       "      <td>2</td>\n",
       "      <td>0</td>\n",
       "      <td>2</td>\n",
       "      <td>0</td>\n",
       "      <td>0</td>\n",
       "      <td>2</td>\n",
       "      <td>2</td>\n",
       "      <td>2</td>\n",
       "      <td>2</td>\n",
       "      <td>0</td>\n",
       "      <td>0</td>\n",
       "      <td>0</td>\n",
       "      <td>0</td>\n",
       "      <td>0</td>\n",
       "      <td>2</td>\n",
       "      <td>2</td>\n",
       "    </tr>\n",
       "    <tr>\n",
       "      <th>383</th>\n",
       "      <td>0</td>\n",
       "      <td>2</td>\n",
       "      <td>2</td>\n",
       "      <td>0</td>\n",
       "      <td>2</td>\n",
       "      <td>2</td>\n",
       "      <td>2</td>\n",
       "      <td>0</td>\n",
       "      <td>0</td>\n",
       "      <td>0</td>\n",
       "      <td>0</td>\n",
       "      <td>2</td>\n",
       "      <td>0</td>\n",
       "      <td>2</td>\n",
       "      <td>2</td>\n",
       "      <td>0</td>\n",
       "      <td>1</td>\n",
       "    </tr>\n",
       "    <tr>\n",
       "      <th>201</th>\n",
       "      <td>0</td>\n",
       "      <td>0</td>\n",
       "      <td>0</td>\n",
       "      <td>2</td>\n",
       "      <td>0</td>\n",
       "      <td>0</td>\n",
       "      <td>0</td>\n",
       "      <td>2</td>\n",
       "      <td>2</td>\n",
       "      <td>2</td>\n",
       "      <td>0</td>\n",
       "      <td>0</td>\n",
       "      <td>0</td>\n",
       "      <td>0</td>\n",
       "      <td>2</td>\n",
       "      <td>2</td>\n",
       "      <td>2</td>\n",
       "    </tr>\n",
       "    <tr>\n",
       "      <th>297</th>\n",
       "      <td>1</td>\n",
       "      <td>0</td>\n",
       "      <td>0</td>\n",
       "      <td>2</td>\n",
       "      <td>2</td>\n",
       "      <td>2</td>\n",
       "      <td>2</td>\n",
       "      <td>0</td>\n",
       "      <td>0</td>\n",
       "      <td>0</td>\n",
       "      <td>2</td>\n",
       "      <td>0</td>\n",
       "      <td>2</td>\n",
       "      <td>2</td>\n",
       "      <td>2</td>\n",
       "      <td>2</td>\n",
       "      <td>2</td>\n",
       "    </tr>\n",
       "    <tr>\n",
       "      <th>309</th>\n",
       "      <td>1</td>\n",
       "      <td>0</td>\n",
       "      <td>0</td>\n",
       "      <td>0</td>\n",
       "      <td>2</td>\n",
       "      <td>2</td>\n",
       "      <td>2</td>\n",
       "      <td>0</td>\n",
       "      <td>0</td>\n",
       "      <td>0</td>\n",
       "      <td>2</td>\n",
       "      <td>0</td>\n",
       "      <td>2</td>\n",
       "      <td>2</td>\n",
       "      <td>2</td>\n",
       "      <td>0</td>\n",
       "      <td>0</td>\n",
       "    </tr>\n",
       "  </tbody>\n",
       "</table>\n",
       "</div>"
      ],
      "text/plain": [
       "     class  handicapped-infants  water-project-cost-sharing  \\\n",
       "ID                                                            \n",
       "140      0                    2                           0   \n",
       "383      0                    2                           2   \n",
       "201      0                    0                           0   \n",
       "297      1                    0                           0   \n",
       "309      1                    0                           0   \n",
       "\n",
       "     adoption-of-the-budget-resolution  physician-fee-freeze  el-salvador-aid  \\\n",
       "ID                                                                              \n",
       "140                                  2                     0                0   \n",
       "383                                  0                     2                2   \n",
       "201                                  2                     0                0   \n",
       "297                                  2                     2                2   \n",
       "309                                  0                     2                2   \n",
       "\n",
       "     religious-groups-in-schools  anti-satellite-test-ban  \\\n",
       "ID                                                          \n",
       "140                            2                        2   \n",
       "383                            2                        0   \n",
       "201                            0                        2   \n",
       "297                            2                        0   \n",
       "309                            2                        0   \n",
       "\n",
       "     aid-to-nicaraguan-contras  mx-missile  immigration  \\\n",
       "ID                                                        \n",
       "140                          2           2            0   \n",
       "383                          0           0            0   \n",
       "201                          2           2            0   \n",
       "297                          0           0            2   \n",
       "309                          0           0            2   \n",
       "\n",
       "     synfuels-crporation-cutback  education-spending  superfund-right-to-sue  \\\n",
       "ID                                                                             \n",
       "140                            0                   0                       0   \n",
       "383                            2                   0                       2   \n",
       "201                            0                   0                       0   \n",
       "297                            0                   2                       2   \n",
       "309                            0                   2                       2   \n",
       "\n",
       "     crime  duty-free-exports  export-administration-act-south-africa  \n",
       "ID                                                                     \n",
       "140      0                  2                                       2  \n",
       "383      2                  0                                       1  \n",
       "201      2                  2                                       2  \n",
       "297      2                  2                                       2  \n",
       "309      2                  0                                       0  "
      ]
     },
     "execution_count": 50,
     "metadata": {},
     "output_type": "execute_result"
    }
   ],
   "source": [
    "voting_train.head()"
   ]
  },
  {
   "cell_type": "code",
   "execution_count": 66,
   "id": "21b6b933",
   "metadata": {},
   "outputs": [],
   "source": [
    "X = voting_train.iloc[:,1:]\n",
    "y = voting_train[\"class\"]"
   ]
  },
  {
   "cell_type": "code",
   "execution_count": 68,
   "id": "9d9290fe",
   "metadata": {},
   "outputs": [],
   "source": [
    "X_train,y_train,X_test,y_test,X_holdout,y_holdout = split_data(X,y)"
   ]
  },
  {
   "cell_type": "markdown",
   "id": "2d6be4be",
   "metadata": {},
   "source": [
    "# Decision Tree"
   ]
  },
  {
   "cell_type": "code",
   "execution_count": 53,
   "id": "fefb462a",
   "metadata": {},
   "outputs": [],
   "source": [
    "start_time = time.time()"
   ]
  },
  {
   "cell_type": "code",
   "execution_count": 69,
   "id": "1ca41e7d",
   "metadata": {},
   "outputs": [
    {
     "name": "stdout",
     "output_type": "stream",
     "text": [
      "runtime:  772.2958037853241\n"
     ]
    }
   ],
   "source": [
    "vot_dec_classifier = DecisionTreeClassifier(random_state=0,criterion=\"gini\") \n",
    "vot_dec_classifier = vot_dec_classifier.fit(X_train,y_train) \n",
    "prediction = vot_dec_classifier.predict(X_test) \n",
    "print(\"runtime: \" , (time.time() - start_time))"
   ]
  },
  {
   "cell_type": "code",
   "execution_count": 76,
   "id": "31977e2b",
   "metadata": {},
   "outputs": [
    {
     "name": "stdout",
     "output_type": "stream",
     "text": [
      "Cross validated scores: [1.         0.5        0.66666667 1.         0.66666667]\n",
      "confusion matrix: [[23  1]\n",
      " [ 2 12]]\n",
      "accuracy: 0.9210526315789473\n",
      "precision: 0.9230769230769231\n",
      "recall: 0.8571428571428571\n"
     ]
    }
   ],
   "source": [
    "cv_holdout(vot_dec_classifier,X_holdout,y_holdout)\n",
    "eval_metrics(y_test,prediction)"
   ]
  },
  {
   "cell_type": "code",
   "execution_count": 79,
   "id": "628dd43d",
   "metadata": {},
   "outputs": [
    {
     "data": {
      "text/plain": [
       "[Text(0.6, 0.9285714285714286, 'x[3] <= 1.5\\ngini = 0.466\\nsamples = 162\\nvalue = [102, 60]'),\n",
       " Text(0.4, 0.7857142857142857, 'x[2] <= 0.5\\ngini = 0.02\\nsamples = 99\\nvalue = [98, 1]'),\n",
       " Text(0.3, 0.6428571428571429, 'x[1] <= 1.0\\ngini = 0.219\\nsamples = 8\\nvalue = [7, 1]'),\n",
       " Text(0.2, 0.5, 'x[7] <= 1.0\\ngini = 0.5\\nsamples = 2\\nvalue = [1, 1]'),\n",
       " Text(0.1, 0.35714285714285715, 'gini = 0.0\\nsamples = 1\\nvalue = [0, 1]'),\n",
       " Text(0.3, 0.35714285714285715, 'gini = 0.0\\nsamples = 1\\nvalue = [1, 0]'),\n",
       " Text(0.4, 0.5, 'gini = 0.0\\nsamples = 6\\nvalue = [6, 0]'),\n",
       " Text(0.5, 0.6428571428571429, 'gini = 0.0\\nsamples = 91\\nvalue = [91, 0]'),\n",
       " Text(0.8, 0.7857142857142857, 'x[11] <= 0.5\\ngini = 0.119\\nsamples = 63\\nvalue = [4, 59]'),\n",
       " Text(0.7, 0.6428571428571429, 'x[9] <= 1.0\\ngini = 0.48\\nsamples = 10\\nvalue = [4, 6]'),\n",
       " Text(0.6, 0.5, 'x[10] <= 1.0\\ngini = 0.49\\nsamples = 7\\nvalue = [4, 3]'),\n",
       " Text(0.5, 0.35714285714285715, 'x[7] <= 0.5\\ngini = 0.48\\nsamples = 5\\nvalue = [2, 3]'),\n",
       " Text(0.4, 0.21428571428571427, 'x[14] <= 1.0\\ngini = 0.444\\nsamples = 3\\nvalue = [2, 1]'),\n",
       " Text(0.3, 0.07142857142857142, 'gini = 0.0\\nsamples = 1\\nvalue = [0, 1]'),\n",
       " Text(0.5, 0.07142857142857142, 'gini = 0.0\\nsamples = 2\\nvalue = [2, 0]'),\n",
       " Text(0.6, 0.21428571428571427, 'gini = 0.0\\nsamples = 2\\nvalue = [0, 2]'),\n",
       " Text(0.7, 0.35714285714285715, 'gini = 0.0\\nsamples = 2\\nvalue = [2, 0]'),\n",
       " Text(0.8, 0.5, 'gini = 0.0\\nsamples = 3\\nvalue = [0, 3]'),\n",
       " Text(0.9, 0.6428571428571429, 'gini = 0.0\\nsamples = 53\\nvalue = [0, 53]')]"
      ]
     },
     "execution_count": 79,
     "metadata": {},
     "output_type": "execute_result"
    },
    {
     "data": {
      "image/png": "[encoded data removed]",
      "text/plain": [
       "<Figure size 3000x1000 with 1 Axes>"
      ]
     },
     "metadata": {},
     "output_type": "display_data"
    }
   ],
   "source": [
    "plt.figure(figsize=(30,10))\n",
    "plot_tree(vot_dec_classifier)"
   ]
  },
  {
   "cell_type": "code",
   "execution_count": 80,
   "id": "d90d6561",
   "metadata": {},
   "outputs": [
    {
     "name": "stdout",
     "output_type": "stream",
     "text": [
      "Cross validated scores: [1.         0.5        0.66666667 1.         0.66666667]\n",
      "confusion matrix: [[24  0]\n",
      " [ 2 12]]\n",
      "accuracy: 0.9473684210526315\n",
      "precision: 1.0\n",
      "recall: 0.8571428571428571\n"
     ]
    }
   ],
   "source": [
    "vot_dec_classifier = DecisionTreeClassifier(random_state=0,criterion=\"entropy\", min_samples_split=3) \n",
    "vot_dec_classifier = vot_dec_classifier.fit(X_train,y_train) \n",
    "prediction = vot_dec_classifier.predict(X_test) \n",
    "cv_holdout(vot_dec_classifier,X_holdout,y_holdout)\n",
    "eval_metrics(y_test,prediction)"
   ]
  },
  {
   "cell_type": "markdown",
   "id": "1fac9ecf",
   "metadata": {},
   "source": [
    "# Random Forest"
   ]
  },
  {
   "cell_type": "code",
   "execution_count": 83,
   "id": "a2a33452",
   "metadata": {},
   "outputs": [
    {
     "name": "stdout",
     "output_type": "stream",
     "text": [
      "runtime:  0.11075210571289062\n",
      "Cross validated scores: [1.         1.         0.66666667 1.         0.66666667]\n",
      "confusion matrix: [[24  0]\n",
      " [ 3 11]]\n",
      "accuracy: 0.9210526315789473\n",
      "precision: 1.0\n",
      "recall: 0.7857142857142857\n"
     ]
    }
   ],
   "source": [
    "start_time = time.time()\n",
    "vot_rand_classifier = RandomForestClassifier(n_estimators=100,random_state=0)\n",
    "vot_rand_classifier.fit(X_train,y_train)\n",
    "vot_rand_prediction = vot_rand_classifier.predict(X_test)\n",
    "print(\"runtime: \" , (time.time() - start_time))\n",
    "\n",
    "cv_holdout(vot_rand_classifier, X_holdout,y_holdout)\n",
    "eval_metrics(y_test,vot_rand_prediction)\n",
    "\n"
   ]
  },
  {
   "cell_type": "code",
   "execution_count": 84,
   "id": "723d296f",
   "metadata": {},
   "outputs": [
    {
     "name": "stdout",
     "output_type": "stream",
     "text": [
      "runtime:  0.03954958915710449\n",
      "Cross validated scores: [1.         1.         0.66666667 1.         1.        ]\n",
      "confusion matrix: [[24  0]\n",
      " [ 2 12]]\n",
      "accuracy: 0.9473684210526315\n",
      "precision: 1.0\n",
      "recall: 0.8571428571428571\n"
     ]
    }
   ],
   "source": [
    "start_time = time.time()\n",
    "vot_rand_classifier = RandomForestClassifier(n_estimators=30,random_state=0,criterion=\"gini\")\n",
    "vot_rand_classifier.fit(X_train,y_train)\n",
    "vot_rand_prediction = vot_rand_classifier.predict(X_test)\n",
    "print(\"runtime: \" , (time.time() - start_time))\n",
    "\n",
    "cv_holdout(vot_rand_classifier, X_holdout,y_holdout)\n",
    "eval_metrics(y_test,vot_rand_prediction)\n"
   ]
  },
  {
   "cell_type": "markdown",
   "id": "545726c7",
   "metadata": {},
   "source": [
    "# KNN"
   ]
  },
  {
   "cell_type": "code",
   "execution_count": 85,
   "id": "8054cb0d",
   "metadata": {},
   "outputs": [
    {
     "name": "stdout",
     "output_type": "stream",
     "text": [
      "--- runtime --- 0.013703346252441406\n",
      "Cross validated scores: [0.75       1.         0.66666667 1.         0.33333333]\n",
      "confusion matrix: [[23  1]\n",
      " [ 3 11]]\n",
      "accuracy: 0.8947368421052632\n",
      "precision: 0.9166666666666666\n",
      "recall: 0.7857142857142857\n"
     ]
    }
   ],
   "source": [
    "start_time = time.time()\n",
    "vot_knn_classifier = KNeighborsClassifier(n_neighbors=5,metric=\"hamming\")\n",
    "vot_knn_classifier.fit(X_train,y_train)\n",
    "knn_prediction = vot_knn_classifier.predict(X_test) \n",
    "print(\"--- runtime ---\" , (time.time() - start_time))\n",
    "\n",
    "cv_holdout(vot_knn_classifier, X_holdout, y_holdout)\n",
    "eval_metrics(y_test, knn_prediction)\n"
   ]
  },
  {
   "cell_type": "code",
   "execution_count": 86,
   "id": "4bf109e6",
   "metadata": {},
   "outputs": [
    {
     "name": "stdout",
     "output_type": "stream",
     "text": [
      "--- runtime --- 0.005606412887573242\n",
      "Cross validated scores: [0.75       0.5        0.66666667 0.66666667 0.66666667]\n",
      "confusion matrix: [[22  2]\n",
      " [ 3 11]]\n",
      "accuracy: 0.868421052631579\n",
      "precision: 0.8461538461538461\n",
      "recall: 0.7857142857142857\n"
     ]
    }
   ],
   "source": [
    "start_time = time.time()\n",
    "vot_knn_classifier = KNeighborsClassifier(n_neighbors=10,metric=\"hamming\")\n",
    "vot_knn_classifier.fit(X_train,y_train)\n",
    "knn_prediction = vot_knn_classifier.predict(X_test) \n",
    "print(\"--- runtime ---\" , (time.time() - start_time))\n",
    "\n",
    "cv_holdout(vot_knn_classifier, X_holdout, y_holdout)\n",
    "eval_metrics(y_test, knn_prediction)"
   ]
  },
  {
   "cell_type": "code",
   "execution_count": null,
   "id": "4188eed7",
   "metadata": {},
   "outputs": [],
   "source": []
  }
 ],
 "metadata": {
  "kernelspec": {
   "display_name": "venv",
   "language": "python",
   "name": "venv"
  },
  "language_info": {
   "codemirror_mode": {
    "name": "ipython",
    "version": 3
   },
   "file_extension": ".py",
   "mimetype": "text/x-python",
   "name": "python",
   "nbconvert_exporter": "python",
   "pygments_lexer": "ipython3",
   "version": "3.10.10"
  }
 },
 "nbformat": 4,
 "nbformat_minor": 5
}
