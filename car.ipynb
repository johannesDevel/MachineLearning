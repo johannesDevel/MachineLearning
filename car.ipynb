{
 "cells": [
  {
   "cell_type": "markdown",
   "id": "7abdf5cd",
   "metadata": {},
   "source": [
    "\n",
    "\n",
    "# Exercise n°0: Dataset description¶\n",
    "## Notebook for the Car dataset"
   ]
  },
  {
   "cell_type": "code",
   "execution_count": 2,
   "id": "5c34fa47",
   "metadata": {},
   "outputs": [],
   "source": [
    "import pandas as pd\n",
    "import matplotlib.pyplot as plt\n",
    "import seaborn as sns\n",
    "import numpy as np\n",
    "\n",
    "import warnings\n",
    "warnings.filterwarnings('ignore')"
   ]
  },
  {
   "cell_type": "code",
   "execution_count": 3,
   "id": "278332b3",
   "metadata": {},
   "outputs": [],
   "source": [
    "df = pd.read_csv(r\"./car.csv\", sep = ';')"
   ]
  },
  {
   "cell_type": "code",
   "execution_count": 4,
   "id": "1071ace5",
   "metadata": {},
   "outputs": [
    {
     "data": {
      "text/html": [
       "<div>\n",
       "<style scoped>\n",
       "    .dataframe tbody tr th:only-of-type {\n",
       "        vertical-align: middle;\n",
       "    }\n",
       "\n",
       "    .dataframe tbody tr th {\n",
       "        vertical-align: top;\n",
       "    }\n",
       "\n",
       "    .dataframe thead th {\n",
       "        text-align: right;\n",
       "    }\n",
       "</style>\n",
       "<table border=\"1\" class=\"dataframe\">\n",
       "  <thead>\n",
       "    <tr style=\"text-align: right;\">\n",
       "      <th></th>\n",
       "      <th>Buying</th>\n",
       "      <th>Maint</th>\n",
       "      <th>Doors</th>\n",
       "      <th>Persons</th>\n",
       "      <th>Lug_boot</th>\n",
       "      <th>Safety</th>\n",
       "      <th>Acceptability</th>\n",
       "    </tr>\n",
       "  </thead>\n",
       "  <tbody>\n",
       "    <tr>\n",
       "      <th>0</th>\n",
       "      <td>vhigh</td>\n",
       "      <td>vhigh</td>\n",
       "      <td>2</td>\n",
       "      <td>2</td>\n",
       "      <td>small</td>\n",
       "      <td>low</td>\n",
       "      <td>unacc</td>\n",
       "    </tr>\n",
       "    <tr>\n",
       "      <th>1</th>\n",
       "      <td>vhigh</td>\n",
       "      <td>vhigh</td>\n",
       "      <td>2</td>\n",
       "      <td>2</td>\n",
       "      <td>small</td>\n",
       "      <td>med</td>\n",
       "      <td>unacc</td>\n",
       "    </tr>\n",
       "    <tr>\n",
       "      <th>2</th>\n",
       "      <td>vhigh</td>\n",
       "      <td>vhigh</td>\n",
       "      <td>2</td>\n",
       "      <td>2</td>\n",
       "      <td>small</td>\n",
       "      <td>high</td>\n",
       "      <td>unacc</td>\n",
       "    </tr>\n",
       "    <tr>\n",
       "      <th>3</th>\n",
       "      <td>vhigh</td>\n",
       "      <td>vhigh</td>\n",
       "      <td>2</td>\n",
       "      <td>2</td>\n",
       "      <td>med</td>\n",
       "      <td>low</td>\n",
       "      <td>unacc</td>\n",
       "    </tr>\n",
       "    <tr>\n",
       "      <th>4</th>\n",
       "      <td>vhigh</td>\n",
       "      <td>vhigh</td>\n",
       "      <td>2</td>\n",
       "      <td>2</td>\n",
       "      <td>med</td>\n",
       "      <td>med</td>\n",
       "      <td>unacc</td>\n",
       "    </tr>\n",
       "  </tbody>\n",
       "</table>\n",
       "</div>"
      ],
      "text/plain": [
       "  Buying  Maint Doors Persons Lug_boot Safety Acceptability\n",
       "0  vhigh  vhigh     2       2    small    low         unacc\n",
       "1  vhigh  vhigh     2       2    small    med         unacc\n",
       "2  vhigh  vhigh     2       2    small   high         unacc\n",
       "3  vhigh  vhigh     2       2      med    low         unacc\n",
       "4  vhigh  vhigh     2       2      med    med         unacc"
      ]
     },
     "execution_count": 4,
     "metadata": {},
     "output_type": "execute_result"
    }
   ],
   "source": [
    "df.head()"
   ]
  },
  {
   "cell_type": "code",
   "execution_count": 5,
   "id": "ab0ffa77",
   "metadata": {},
   "outputs": [
    {
     "data": {
      "text/plain": [
       "(1728, 7)"
      ]
     },
     "execution_count": 5,
     "metadata": {},
     "output_type": "execute_result"
    }
   ],
   "source": [
    "df.shape"
   ]
  },
  {
   "cell_type": "markdown",
   "id": "a32b173b",
   "metadata": {},
   "source": [
    "There are 1728 instances and 7 attributes in a dataset"
   ]
  },
  {
   "cell_type": "code",
   "execution_count": 6,
   "id": "5e8d5d3a",
   "metadata": {},
   "outputs": [
    {
     "name": "stdout",
     "output_type": "stream",
     "text": [
      "Buying  Maint  Doors  Persons  Lug_boot  Safety  Acceptability\n",
      "False   False  False  False    False     False   False            1728\n",
      "dtype: int64\n"
     ]
    }
   ],
   "source": [
    "print(df.isnull().value_counts())"
   ]
  },
  {
   "cell_type": "markdown",
   "id": "aebb9aad",
   "metadata": {},
   "source": [
    "As we can see there are zero NULL values in the whole dataset "
   ]
  },
  {
   "cell_type": "code",
   "execution_count": 7,
   "id": "98dcbdf2",
   "metadata": {},
   "outputs": [
    {
     "data": {
      "text/plain": [
       "count      1728\n",
       "unique        4\n",
       "top       vhigh\n",
       "freq        432\n",
       "Name: Buying, dtype: object"
      ]
     },
     "execution_count": 7,
     "metadata": {},
     "output_type": "execute_result"
    }
   ],
   "source": [
    "df['Buying'].describe()"
   ]
  },
  {
   "cell_type": "code",
   "execution_count": 13,
   "id": "5c9bce77",
   "metadata": {},
   "outputs": [
    {
     "name": "stdout",
     "output_type": "stream",
     "text": [
      "Number of different capacities = 3\n",
      "Number of lug_boot classes = 3\n",
      "Number of safety classes = 3\n"
     ]
    }
   ],
   "source": [
    "print(f\"Number of different capacities = {len(df['Persons'].unique())}\")\n",
    "print(f\"Number of lug_boot classes = {len(df['Lug_boot'].unique())}\")\n",
    "print(f\"Number of safety classes = {len(df['Safety'].unique())}\")"
   ]
  },
  {
   "cell_type": "code",
   "execution_count": 8,
   "id": "6f9e5aea",
   "metadata": {},
   "outputs": [
    {
     "data": {
      "image/png": "[encoded data removed]",
      "text/plain": [
       "<Figure size 640x480 with 1 Axes>"
      ]
     },
     "metadata": {},
     "output_type": "display_data"
    }
   ],
   "source": [
    "safety_count = df['Safety'].value_counts()\n",
    "sns.barplot(x=safety_count.index, y=safety_count.values)\n",
    "plt.xlabel('Safety')\n",
    "plt.ylabel('Safety')\n",
    "plt.title('Safety level')\n",
    "plt.show()"
   ]
  },
  {
   "cell_type": "code",
   "execution_count": 9,
   "id": "3e8cd327",
   "metadata": {},
   "outputs": [
    {
     "name": "stdout",
     "output_type": "stream",
     "text": [
      "The number of instances with low safety is 576, the number of instances with mediocre safety is 576, and the number of instances with high safety is 576\n"
     ]
    }
   ],
   "source": [
    "print(f\"The number of instances with low safety is {df['Safety'].value_counts()['low']}, the number of instances with mediocre safety is {df['Safety'].value_counts()['med']}, and the number of instances with high safety is {df['Safety'].value_counts()['high']}\")"
   ]
  },
  {
   "cell_type": "markdown",
   "id": "0318f1e0",
   "metadata": {},
   "source": [
    "As we can see exactly the same number of instances are classified as low safety, med safety and high safety"
   ]
  },
  {
   "cell_type": "code",
   "execution_count": 10,
   "id": "a771927a",
   "metadata": {},
   "outputs": [
    {
     "name": "stdout",
     "output_type": "stream",
     "text": [
      "The number of instances that are considered unacceptable is 1210 and the number of instances considered acceptable is 384\n"
     ]
    }
   ],
   "source": [
    "print(f\"The number of instances that are considered unacceptable is {df['Acceptability'].value_counts()['unacc']} and the number of instances considered acceptable is {df['Acceptability'].value_counts()['acc']}\")"
   ]
  },
  {
   "cell_type": "code",
   "execution_count": 11,
   "id": "99dd4f65",
   "metadata": {},
   "outputs": [
    {
     "name": "stdout",
     "output_type": "stream",
     "text": [
      "The number of instances with low safety is 576, the number of instances with mediocre safety is 576, and the number of instances with high safety is 576\n"
     ]
    }
   ],
   "source": [
    "print(f\"The number of instances with low safety is {df['Lug_boot'].value_counts()['small']}, the number of instances with mediocre safety is {df['Lug_boot'].value_counts()['med']}, and the number of instances with high safety is {df['Lug_boot'].value_counts()['big']}\")"
   ]
  },
  {
   "cell_type": "code",
   "execution_count": null,
   "id": "c9e9fd9f",
   "metadata": {},
   "outputs": [],
   "source": []
  },
  {
   "cell_type": "code",
   "execution_count": null,
   "id": "81871ad5",
   "metadata": {},
   "outputs": [],
   "source": []
  }
 ],
 "metadata": {
  "kernelspec": {
   "display_name": "Python 3 (ipykernel)",
   "language": "python",
   "name": "python3"
  },
  "language_info": {
   "codemirror_mode": {
    "name": "ipython",
    "version": 3
   },
   "file_extension": ".py",
   "mimetype": "text/x-python",
   "name": "python",
   "nbconvert_exporter": "python",
   "pygments_lexer": "ipython3",
   "version": "3.9.13"
  }
 },
 "nbformat": 4,
 "nbformat_minor": 5
}
